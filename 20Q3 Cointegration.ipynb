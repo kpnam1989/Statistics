{
 "cells": [
  {
   "cell_type": "markdown",
   "metadata": {},
   "source": [
    "# ADF test\n",
    "Augmented Dicky Fuller tests"
   ]
  },
  {
   "cell_type": "code",
   "execution_count": null,
   "metadata": {},
   "outputs": [],
   "source": [
    "\n",
    "import numpy as np\n",
    "from statsmodels.regression.linear_model import OLS\n",
    "from statsmodels.tsa.tsatools import lagmat, add_trend\n",
    "from statsmodels.tsa.adfvalues import mackinnonp\n",
    "\n",
    "def adf(ts):\n",
    "    \"\"\"\n",
    "    Augmented Dickey-Fuller unit root test\n",
    "    \"\"\"\n",
    "    # make sure we are working with an array, convert if necessary\n",
    "    ts = np.asarray(ts)\n",
    "    \n",
    "    # Get the dimension of the array\n",
    "    nobs = ts.shape[0]\n",
    "    \n",
    "    # We use 1 as maximum lag in our calculations\n",
    "    maxlag = 1\n",
    "    \n",
    "    # Calculate the discrete difference\n",
    "    tsdiff = np.diff(ts)\n",
    "    \n",
    "    # Create a 2d array of lags, trim invalid observations on both sides\n",
    "    tsdall = lagmat(tsdiff[:, None], maxlag, trim='both', original='in')\n",
    "    # Get dimension of the array\n",
    "    nobs = tsdall.shape[0] \n",
    "    \n",
    "    # replace 0 xdiff with level of x\n",
    "    tsdall[:, 0] = ts[-nobs - 1:-1]  \n",
    "    tsdshort = tsdiff[-nobs:]\n",
    "    \n",
    "    # Calculate the linear regression using an ordinary least squares model    \n",
    "    results = OLS(tsdshort, add_trend(tsdall[:, :maxlag + 1], 'c')).fit()\n",
    "    adfstat = results.tvalues[0]\n",
    "    \n",
    "    # Get approx p-value from a precomputed table (from stattools)\n",
    "    pvalue = mackinnonp(adfstat, 'c', N=1)\n",
    "    return pvalue"
   ]
  },
  {
   "cell_type": "markdown",
   "metadata": {},
   "source": [
    "# Herst exponent\n",
    "to calculate the speed of divergence"
   ]
  },
  {
   "cell_type": "code",
   "execution_count": null,
   "metadata": {},
   "outputs": [],
   "source": [
    "# https://medium.com/bluekiri/simple-stationarity-tests-on-time-series-ad227e2e6d48\n",
    "def herst(ts):\n",
    "    ts = np.array(ts)\n",
    "    \n",
    "    # Helper\n",
    "    lagvec = []\n",
    "    tau = []\n",
    "    #range of lag variables\n",
    "    lags = range(2, 100)\n",
    "    for lag in lags:\n",
    "        # lag difference\n",
    "        pdiff = np.subtract(ts[lag:], ts[:-lag])\n",
    "        \n",
    "        lagvec.append(lag)\n",
    "        # variance of the difference vector\n",
    "        tau.append(np.square(np.std(pdiff)))\n",
    "        \n",
    "    #Linear fit to double-log graph\n",
    "    m = np.polyfit(np.log10(np.asarray(lagvec)),\n",
    "                   np.log10(np.asarray(tau).clip(min=0.0000000001)),\n",
    "                   1)\n",
    "     \n",
    "    # return the calculated hurst exponent\n",
    "    return m[0]*2.0"
   ]
  },
  {
   "cell_type": "markdown",
   "metadata": {},
   "source": [
    "# Variance Ratio test"
   ]
  },
  {
   "cell_type": "markdown",
   "metadata": {},
   "source": [
    "$$ \\frac{Var(z(t) -z(t-\\tau)}{\\tau Var(z(t) - z(t-1))}$$"
   ]
  },
  {
   "cell_type": "code",
   "execution_count": null,
   "metadata": {},
   "outputs": [],
   "source": [
    "def variance_ratio(ts, lag=2):\n",
    "    ts = np.asarray(ts)\n",
    "    n = len(ts)\n",
    "    mean_lag1 = sum(ts[1:n]-ts[:n-1])/n\n",
    "    m = (n-lag+1)*(1-lag/n)\n",
    "    var_diff_1 = sum(np.square(ts[1:n]-ts[:n-1] - mean_lag1))/(n-1)\n",
    "    \n",
    "    mean_lag = lag*mean_lag1\n",
    "    t = sum( np.square(ts[lag:n] - ts[:n-lag] - lag*mean_lag))/m\n",
    "    \n",
    "    return t/(lag*var_diff_1)"
   ]
  },
  {
   "cell_type": "markdown",
   "metadata": {},
   "source": [
    "# Half life of mean reversion\n",
    "$$ \\Delta y(t) = \\lambda y(t-1) + \\mu + \\beta * t + \\alpha_1 \\Delta y(t-1) + ... + \\epsilon_t\n",
    "$$\n",
    "a simplified version:\n",
    "$$ $$"
   ]
  }
 ],
 "metadata": {
  "kernelspec": {
   "display_name": "Python 3",
   "language": "python",
   "name": "python3"
  },
  "language_info": {
   "codemirror_mode": {
    "name": "ipython",
    "version": 3
   },
   "file_extension": ".py",
   "mimetype": "text/x-python",
   "name": "python",
   "nbconvert_exporter": "python",
   "pygments_lexer": "ipython3",
   "version": "3.7.3"
  }
 },
 "nbformat": 4,
 "nbformat_minor": 2
}
