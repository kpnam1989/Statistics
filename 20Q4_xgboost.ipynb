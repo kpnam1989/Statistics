{
 "cells": [
  {
   "cell_type": "code",
   "execution_count": 1,
   "metadata": {},
   "outputs": [
    {
     "data": {
      "text/html": [
       "<div>\n",
       "<style scoped>\n",
       "    .dataframe tbody tr th:only-of-type {\n",
       "        vertical-align: middle;\n",
       "    }\n",
       "\n",
       "    .dataframe tbody tr th {\n",
       "        vertical-align: top;\n",
       "    }\n",
       "\n",
       "    .dataframe thead th {\n",
       "        text-align: right;\n",
       "    }\n",
       "</style>\n",
       "<table border=\"1\" class=\"dataframe\">\n",
       "  <thead>\n",
       "    <tr style=\"text-align: right;\">\n",
       "      <th></th>\n",
       "      <th>0</th>\n",
       "      <th>1</th>\n",
       "      <th>2</th>\n",
       "      <th>3</th>\n",
       "      <th>4</th>\n",
       "      <th>5</th>\n",
       "      <th>6</th>\n",
       "      <th>7</th>\n",
       "      <th>8</th>\n",
       "    </tr>\n",
       "  </thead>\n",
       "  <tbody>\n",
       "    <tr>\n",
       "      <th>0</th>\n",
       "      <td>6</td>\n",
       "      <td>148</td>\n",
       "      <td>72</td>\n",
       "      <td>35</td>\n",
       "      <td>0</td>\n",
       "      <td>33.6</td>\n",
       "      <td>0.627</td>\n",
       "      <td>50</td>\n",
       "      <td>1</td>\n",
       "    </tr>\n",
       "    <tr>\n",
       "      <th>1</th>\n",
       "      <td>1</td>\n",
       "      <td>85</td>\n",
       "      <td>66</td>\n",
       "      <td>29</td>\n",
       "      <td>0</td>\n",
       "      <td>26.6</td>\n",
       "      <td>0.351</td>\n",
       "      <td>31</td>\n",
       "      <td>0</td>\n",
       "    </tr>\n",
       "    <tr>\n",
       "      <th>2</th>\n",
       "      <td>8</td>\n",
       "      <td>183</td>\n",
       "      <td>64</td>\n",
       "      <td>0</td>\n",
       "      <td>0</td>\n",
       "      <td>23.3</td>\n",
       "      <td>0.672</td>\n",
       "      <td>32</td>\n",
       "      <td>1</td>\n",
       "    </tr>\n",
       "    <tr>\n",
       "      <th>3</th>\n",
       "      <td>1</td>\n",
       "      <td>89</td>\n",
       "      <td>66</td>\n",
       "      <td>23</td>\n",
       "      <td>94</td>\n",
       "      <td>28.1</td>\n",
       "      <td>0.167</td>\n",
       "      <td>21</td>\n",
       "      <td>0</td>\n",
       "    </tr>\n",
       "    <tr>\n",
       "      <th>4</th>\n",
       "      <td>0</td>\n",
       "      <td>137</td>\n",
       "      <td>40</td>\n",
       "      <td>35</td>\n",
       "      <td>168</td>\n",
       "      <td>43.1</td>\n",
       "      <td>2.288</td>\n",
       "      <td>33</td>\n",
       "      <td>1</td>\n",
       "    </tr>\n",
       "  </tbody>\n",
       "</table>\n",
       "</div>"
      ],
      "text/plain": [
       "   0    1   2   3    4     5      6   7  8\n",
       "0  6  148  72  35    0  33.6  0.627  50  1\n",
       "1  1   85  66  29    0  26.6  0.351  31  0\n",
       "2  8  183  64   0    0  23.3  0.672  32  1\n",
       "3  1   89  66  23   94  28.1  0.167  21  0\n",
       "4  0  137  40  35  168  43.1  2.288  33  1"
      ]
     },
     "metadata": {},
     "output_type": "display_data"
    }
   ],
   "source": [
    "# Source:\n",
    "# https://machinelearningmastery.com/feature-importance-and-feature-selection-with-xgboost-in-python/\n",
    "import pandas as pd\n",
    "from numpy import loadtxt\n",
    "from xgboost import XGBClassifier\n",
    "from matplotlib import pyplot\n",
    "# load data\n",
    "dataset = pd.read_csv(\"https://raw.githubusercontent.com/jbrownlee/Datasets/master/pima-indians-diabetes.csv\", header=None)\n",
    "# split data into X and y\n",
    "X = dataset.iloc[:,0:8]\n",
    "y = dataset.iloc[:,8]\n",
    "display(dataset.head())"
   ]
  },
  {
   "cell_type": "code",
   "execution_count": 2,
   "metadata": {},
   "outputs": [
    {
     "name": "stdout",
     "output_type": "stream",
     "text": [
      "[0.         0.5236731  0.         0.         0.         0.26142377\n",
      " 0.09280603 0.12209713]\n"
     ]
    },
    {
     "data": {
      "image/png": "[encoded data removed]",
      "text/plain": [
       "<Figure size 432x288 with 1 Axes>"
      ]
     },
     "metadata": {
      "needs_background": "light"
     },
     "output_type": "display_data"
    }
   ],
   "source": [
    "model = XGBClassifier(n_estimators=3,max_depth=2)\n",
    "model.fit(X, y)\n",
    "# feature importance\n",
    "print(model.feature_importances_)\n",
    "# plot\n",
    "pyplot.bar(range(len(model.feature_importances_)), model.feature_importances_)\n",
    "pyplot.show()"
   ]
  },
  {
   "cell_type": "code",
   "execution_count": 3,
   "metadata": {},
   "outputs": [
    {
     "data": {
      "text/plain": [
       "<matplotlib.axes._subplots.AxesSubplot at 0x2ab0da9e780>"
      ]
     },
     "execution_count": 3,
     "metadata": {},
     "output_type": "execute_result"
    },
    {
     "data": {
      "image/png": "[encoded data removed]",
      "text/plain": [
       "<Figure size 432x288 with 1 Axes>"
      ]
     },
     "metadata": {
      "needs_background": "light"
     },
     "output_type": "display_data"
    }
   ],
   "source": [
    "# Alternatively, we could use xgboost's built-in plot\n",
    "from xgboost import plot_importance\n",
    "plot_importance(model)"
   ]
  },
  {
   "cell_type": "markdown",
   "metadata": {},
   "source": [
    "Note:\n",
    "\n",
    "1. Features with zero feature_importance_ don’t show in trees_to_dataframe(). You can check what they are with:\n",
    "X_train.columns[[ x not in k[‘Feature’].unique() for x in X_train.columns]]\n",
    "\n",
    "2. The feature importance ranks for ‘weight’ and ‘gain’ types can be quite different. Be careful when choosing features based on the plot. I would choose gain over weight because gain reflects the feature’s power of grouping similar instances into a more homogeneous child node at the split."
   ]
  },
  {
   "cell_type": "code",
   "execution_count": 4,
   "metadata": {},
   "outputs": [
    {
     "data": {
      "text/plain": [
       "(21, 10)"
      ]
     },
     "metadata": {},
     "output_type": "display_data"
    },
    {
     "data": {
      "text/html": [
       "<div>\n",
       "<style scoped>\n",
       "    .dataframe tbody tr th:only-of-type {\n",
       "        vertical-align: middle;\n",
       "    }\n",
       "\n",
       "    .dataframe tbody tr th {\n",
       "        vertical-align: top;\n",
       "    }\n",
       "\n",
       "    .dataframe thead th {\n",
       "        text-align: right;\n",
       "    }\n",
       "</style>\n",
       "<table border=\"1\" class=\"dataframe\">\n",
       "  <thead>\n",
       "    <tr style=\"text-align: right;\">\n",
       "      <th></th>\n",
       "      <th>Tree</th>\n",
       "      <th>Node</th>\n",
       "      <th>ID</th>\n",
       "      <th>Feature</th>\n",
       "      <th>Split</th>\n",
       "      <th>Yes</th>\n",
       "      <th>No</th>\n",
       "      <th>Missing</th>\n",
       "      <th>Gain</th>\n",
       "      <th>Cover</th>\n",
       "    </tr>\n",
       "  </thead>\n",
       "  <tbody>\n",
       "    <tr>\n",
       "      <th>0</th>\n",
       "      <td>0</td>\n",
       "      <td>0</td>\n",
       "      <td>0-0</td>\n",
       "      <td>1</td>\n",
       "      <td>128.000000</td>\n",
       "      <td>0-1</td>\n",
       "      <td>0-2</td>\n",
       "      <td>0-1</td>\n",
       "      <td>125.387550</td>\n",
       "      <td>192.00</td>\n",
       "    </tr>\n",
       "    <tr>\n",
       "      <th>1</th>\n",
       "      <td>0</td>\n",
       "      <td>1</td>\n",
       "      <td>0-1</td>\n",
       "      <td>7</td>\n",
       "      <td>29.000000</td>\n",
       "      <td>0-3</td>\n",
       "      <td>0-4</td>\n",
       "      <td>0-3</td>\n",
       "      <td>27.484222</td>\n",
       "      <td>121.25</td>\n",
       "    </tr>\n",
       "    <tr>\n",
       "      <th>2</th>\n",
       "      <td>0</td>\n",
       "      <td>2</td>\n",
       "      <td>0-2</td>\n",
       "      <td>5</td>\n",
       "      <td>29.950001</td>\n",
       "      <td>0-5</td>\n",
       "      <td>0-6</td>\n",
       "      <td>0-5</td>\n",
       "      <td>36.069267</td>\n",
       "      <td>70.75</td>\n",
       "    </tr>\n",
       "    <tr>\n",
       "      <th>3</th>\n",
       "      <td>0</td>\n",
       "      <td>3</td>\n",
       "      <td>0-3</td>\n",
       "      <td>Leaf</td>\n",
       "      <td>NaN</td>\n",
       "      <td>NaN</td>\n",
       "      <td>NaN</td>\n",
       "      <td>NaN</td>\n",
       "      <td>-0.490909</td>\n",
       "      <td>67.75</td>\n",
       "    </tr>\n",
       "    <tr>\n",
       "      <th>4</th>\n",
       "      <td>0</td>\n",
       "      <td>4</td>\n",
       "      <td>0-4</td>\n",
       "      <td>Leaf</td>\n",
       "      <td>NaN</td>\n",
       "      <td>NaN</td>\n",
       "      <td>NaN</td>\n",
       "      <td>NaN</td>\n",
       "      <td>-0.198165</td>\n",
       "      <td>53.50</td>\n",
       "    </tr>\n",
       "  </tbody>\n",
       "</table>\n",
       "</div>"
      ],
      "text/plain": [
       "   Tree  Node   ID Feature       Split  Yes   No Missing        Gain   Cover\n",
       "0     0     0  0-0       1  128.000000  0-1  0-2     0-1  125.387550  192.00\n",
       "1     0     1  0-1       7   29.000000  0-3  0-4     0-3   27.484222  121.25\n",
       "2     0     2  0-2       5   29.950001  0-5  0-6     0-5   36.069267   70.75\n",
       "3     0     3  0-3    Leaf         NaN  NaN  NaN     NaN   -0.490909   67.75\n",
       "4     0     4  0-4    Leaf         NaN  NaN  NaN     NaN   -0.198165   53.50"
      ]
     },
     "execution_count": 4,
     "metadata": {},
     "output_type": "execute_result"
    }
   ],
   "source": [
    "# https://stackoverflow.com/questions/57360703/feature-importance-gain-in-xgboost\n",
    "# Gain = average gain of splits which use the feature = average all the gain values of the feature if it appears multiple times\n",
    "# Normalized gain = Proportion of average gain out of total average gain\n",
    "k = model.get_booster().trees_to_dataframe()\n",
    "display(k.shape)\n",
    "k.head()"
   ]
  },
  {
   "cell_type": "code",
   "execution_count": 5,
   "metadata": {},
   "outputs": [
    {
     "data": {
      "text/html": [
       "<div>\n",
       "<style scoped>\n",
       "    .dataframe tbody tr th:only-of-type {\n",
       "        vertical-align: middle;\n",
       "    }\n",
       "\n",
       "    .dataframe tbody tr th {\n",
       "        vertical-align: top;\n",
       "    }\n",
       "\n",
       "    .dataframe thead th {\n",
       "        text-align: right;\n",
       "    }\n",
       "</style>\n",
       "<table border=\"1\" class=\"dataframe\">\n",
       "  <thead>\n",
       "    <tr style=\"text-align: right;\">\n",
       "      <th></th>\n",
       "      <th>fscore</th>\n",
       "      <th>feature_importance_gain</th>\n",
       "      <th>feature_importance_gain_norm</th>\n",
       "    </tr>\n",
       "    <tr>\n",
       "      <th>Feature</th>\n",
       "      <th></th>\n",
       "      <th></th>\n",
       "      <th></th>\n",
       "    </tr>\n",
       "  </thead>\n",
       "  <tbody>\n",
       "    <tr>\n",
       "      <th>1</th>\n",
       "      <td>4</td>\n",
       "      <td>67.499500</td>\n",
       "      <td>0.523673</td>\n",
       "    </tr>\n",
       "    <tr>\n",
       "      <th>5</th>\n",
       "      <td>2</td>\n",
       "      <td>33.696541</td>\n",
       "      <td>0.261424</td>\n",
       "    </tr>\n",
       "    <tr>\n",
       "      <th>6</th>\n",
       "      <td>1</td>\n",
       "      <td>11.962349</td>\n",
       "      <td>0.092806</td>\n",
       "    </tr>\n",
       "    <tr>\n",
       "      <th>7</th>\n",
       "      <td>2</td>\n",
       "      <td>15.737862</td>\n",
       "      <td>0.122097</td>\n",
       "    </tr>\n",
       "  </tbody>\n",
       "</table>\n",
       "</div>"
      ],
      "text/plain": [
       "         fscore  feature_importance_gain  feature_importance_gain_norm\n",
       "Feature                                                               \n",
       "1             4                67.499500                      0.523673\n",
       "5             2                33.696541                      0.261424\n",
       "6             1                11.962349                      0.092806\n",
       "7             2                15.737862                      0.122097"
      ]
     },
     "execution_count": 5,
     "metadata": {},
     "output_type": "execute_result"
    }
   ],
   "source": [
    "# How to get back feature_importances_ (gain based) from plot_importance fscore\n",
    "# Calculate two types of feature importance:\n",
    "# Weight = number of times a feature appears in tree\n",
    "# Gain = average gain of splits which use the feature = average all the gain values of the feature if it appears multiple times\n",
    "# Normalized gain = Proportion of average gain out of total average gain\n",
    "group = k[k['Feature']!='Leaf'].groupby('Feature').agg(fscore = ('Gain', 'count'),\n",
    "                                                       feature_importance_gain = ('Gain', 'mean'))\n",
    "\n",
    "# Feature importance same as plot_importance(importance_type = ‘weight’), default value\n",
    "group['fscore'].sort_values(ascending=False)\n",
    "\n",
    "# Feature importance same as clf.feature_importance_ default = ‘gain’\n",
    "group['feature_importance_gain_norm'] = group['feature_importance_gain']/group['feature_importance_gain'].sum()\n",
    "group"
   ]
  },
  {
   "cell_type": "markdown",
   "metadata": {},
   "source": [
    "# Gain in regression in make more sense"
   ]
  },
  {
   "cell_type": "code",
   "execution_count": 7,
   "metadata": {},
   "outputs": [
    {
     "data": {
      "text/plain": [
       "(100, 5)"
      ]
     },
     "metadata": {},
     "output_type": "display_data"
    },
    {
     "data": {
      "text/plain": [
       "array([45.18594663, 68.94285989, 41.11127567, 54.19466169, 72.62210442])"
      ]
     },
     "metadata": {},
     "output_type": "display_data"
    },
    {
     "data": {
      "text/plain": [
       "array([ -14.98629049,   67.14564271, -367.74480886, -135.91254138,\n",
       "        -15.02066593, -102.23488225,   39.91473237, -207.77185183,\n",
       "        108.22880746, -138.76726018])"
      ]
     },
     "metadata": {},
     "output_type": "display_data"
    }
   ],
   "source": [
    "from sklearn.datasets import make_regression\n",
    "noise=0.1\n",
    "X, y, coef = make_regression(n_samples=100, n_features=5, noise=noise, coef=True)\n",
    "display(X.shape)\n",
    "display(coef)\n",
    "display(y[:10])"
   ]
  },
  {
   "cell_type": "code",
   "execution_count": 13,
   "metadata": {},
   "outputs": [
    {
     "data": {
      "text/plain": [
       "(30, 10)"
      ]
     },
     "metadata": {},
     "output_type": "display_data"
    },
    {
     "data": {
      "text/html": [
       "<div>\n",
       "<style scoped>\n",
       "    .dataframe tbody tr th:only-of-type {\n",
       "        vertical-align: middle;\n",
       "    }\n",
       "\n",
       "    .dataframe tbody tr th {\n",
       "        vertical-align: top;\n",
       "    }\n",
       "\n",
       "    .dataframe thead th {\n",
       "        text-align: right;\n",
       "    }\n",
       "</style>\n",
       "<table border=\"1\" class=\"dataframe\">\n",
       "  <thead>\n",
       "    <tr style=\"text-align: right;\">\n",
       "      <th></th>\n",
       "      <th>Tree</th>\n",
       "      <th>Node</th>\n",
       "      <th>ID</th>\n",
       "      <th>Feature</th>\n",
       "      <th>Split</th>\n",
       "      <th>Yes</th>\n",
       "      <th>No</th>\n",
       "      <th>Missing</th>\n",
       "      <th>Gain</th>\n",
       "      <th>Cover</th>\n",
       "    </tr>\n",
       "  </thead>\n",
       "  <tbody>\n",
       "    <tr>\n",
       "      <th>0</th>\n",
       "      <td>0</td>\n",
       "      <td>0</td>\n",
       "      <td>0-0</td>\n",
       "      <td>f1</td>\n",
       "      <td>-0.078444</td>\n",
       "      <td>0-1</td>\n",
       "      <td>0-2</td>\n",
       "      <td>0-1</td>\n",
       "      <td>435249.5940</td>\n",
       "      <td>100.0</td>\n",
       "    </tr>\n",
       "    <tr>\n",
       "      <th>1</th>\n",
       "      <td>0</td>\n",
       "      <td>1</td>\n",
       "      <td>0-1</td>\n",
       "      <td>f4</td>\n",
       "      <td>-0.609663</td>\n",
       "      <td>0-3</td>\n",
       "      <td>0-4</td>\n",
       "      <td>0-3</td>\n",
       "      <td>190447.8440</td>\n",
       "      <td>49.0</td>\n",
       "    </tr>\n",
       "    <tr>\n",
       "      <th>2</th>\n",
       "      <td>0</td>\n",
       "      <td>2</td>\n",
       "      <td>0-2</td>\n",
       "      <td>f3</td>\n",
       "      <td>-0.196904</td>\n",
       "      <td>0-5</td>\n",
       "      <td>0-6</td>\n",
       "      <td>0-5</td>\n",
       "      <td>233262.6250</td>\n",
       "      <td>51.0</td>\n",
       "    </tr>\n",
       "    <tr>\n",
       "      <th>3</th>\n",
       "      <td>0</td>\n",
       "      <td>3</td>\n",
       "      <td>0-3</td>\n",
       "      <td>f1</td>\n",
       "      <td>-0.717864</td>\n",
       "      <td>0-7</td>\n",
       "      <td>0-8</td>\n",
       "      <td>0-7</td>\n",
       "      <td>32626.8750</td>\n",
       "      <td>18.0</td>\n",
       "    </tr>\n",
       "    <tr>\n",
       "      <th>4</th>\n",
       "      <td>0</td>\n",
       "      <td>4</td>\n",
       "      <td>0-4</td>\n",
       "      <td>f2</td>\n",
       "      <td>1.036812</td>\n",
       "      <td>0-9</td>\n",
       "      <td>0-10</td>\n",
       "      <td>0-9</td>\n",
       "      <td>85055.5078</td>\n",
       "      <td>31.0</td>\n",
       "    </tr>\n",
       "  </tbody>\n",
       "</table>\n",
       "</div>"
      ],
      "text/plain": [
       "   Tree  Node   ID Feature     Split  Yes    No Missing         Gain  Cover\n",
       "0     0     0  0-0      f1 -0.078444  0-1   0-2     0-1  435249.5940  100.0\n",
       "1     0     1  0-1      f4 -0.609663  0-3   0-4     0-3  190447.8440   49.0\n",
       "2     0     2  0-2      f3 -0.196904  0-5   0-6     0-5  233262.6250   51.0\n",
       "3     0     3  0-3      f1 -0.717864  0-7   0-8     0-7   32626.8750   18.0\n",
       "4     0     4  0-4      f2  1.036812  0-9  0-10     0-9   85055.5078   31.0"
      ]
     },
     "execution_count": 13,
     "metadata": {},
     "output_type": "execute_result"
    }
   ],
   "source": [
    "from xgboost import XGBRegressor\n",
    "model = XGBRegressor(n_estimators=2,max_depth=3,objective ='reg:squarederror')\n",
    "model.fit(X, y)\n",
    "k = model.get_booster().trees_to_dataframe()\n",
    "display(k.shape)\n",
    "k.head()"
   ]
  },
  {
   "cell_type": "code",
   "execution_count": 16,
   "metadata": {},
   "outputs": [
    {
     "data": {
      "text/html": [
       "<div>\n",
       "<style scoped>\n",
       "    .dataframe tbody tr th:only-of-type {\n",
       "        vertical-align: middle;\n",
       "    }\n",
       "\n",
       "    .dataframe tbody tr th {\n",
       "        vertical-align: top;\n",
       "    }\n",
       "\n",
       "    .dataframe thead th {\n",
       "        text-align: right;\n",
       "    }\n",
       "</style>\n",
       "<table border=\"1\" class=\"dataframe\">\n",
       "  <thead>\n",
       "    <tr style=\"text-align: right;\">\n",
       "      <th></th>\n",
       "      <th>Tree</th>\n",
       "      <th>Node</th>\n",
       "      <th>ID</th>\n",
       "      <th>Feature</th>\n",
       "      <th>Split</th>\n",
       "      <th>Yes</th>\n",
       "      <th>No</th>\n",
       "      <th>Missing</th>\n",
       "      <th>Gain</th>\n",
       "      <th>Cover</th>\n",
       "    </tr>\n",
       "  </thead>\n",
       "  <tbody>\n",
       "    <tr>\n",
       "      <th>0</th>\n",
       "      <td>0</td>\n",
       "      <td>0</td>\n",
       "      <td>0-0</td>\n",
       "      <td>f1</td>\n",
       "      <td>-0.078444</td>\n",
       "      <td>0-1</td>\n",
       "      <td>0-2</td>\n",
       "      <td>0-1</td>\n",
       "      <td>4.352786e+09</td>\n",
       "      <td>100.0</td>\n",
       "    </tr>\n",
       "    <tr>\n",
       "      <th>1</th>\n",
       "      <td>0</td>\n",
       "      <td>1</td>\n",
       "      <td>0-1</td>\n",
       "      <td>f4</td>\n",
       "      <td>-0.609663</td>\n",
       "      <td>0-3</td>\n",
       "      <td>0-4</td>\n",
       "      <td>0-3</td>\n",
       "      <td>1.905696e+09</td>\n",
       "      <td>49.0</td>\n",
       "    </tr>\n",
       "    <tr>\n",
       "      <th>2</th>\n",
       "      <td>0</td>\n",
       "      <td>2</td>\n",
       "      <td>0-2</td>\n",
       "      <td>f3</td>\n",
       "      <td>-0.196904</td>\n",
       "      <td>0-5</td>\n",
       "      <td>0-6</td>\n",
       "      <td>0-5</td>\n",
       "      <td>2.332606e+09</td>\n",
       "      <td>51.0</td>\n",
       "    </tr>\n",
       "    <tr>\n",
       "      <th>3</th>\n",
       "      <td>0</td>\n",
       "      <td>3</td>\n",
       "      <td>0-3</td>\n",
       "      <td>f1</td>\n",
       "      <td>-0.717864</td>\n",
       "      <td>0-7</td>\n",
       "      <td>0-8</td>\n",
       "      <td>0-7</td>\n",
       "      <td>3.278100e+08</td>\n",
       "      <td>18.0</td>\n",
       "    </tr>\n",
       "    <tr>\n",
       "      <th>4</th>\n",
       "      <td>0</td>\n",
       "      <td>4</td>\n",
       "      <td>0-4</td>\n",
       "      <td>f2</td>\n",
       "      <td>1.036812</td>\n",
       "      <td>0-9</td>\n",
       "      <td>0-10</td>\n",
       "      <td>0-9</td>\n",
       "      <td>8.502460e+08</td>\n",
       "      <td>31.0</td>\n",
       "    </tr>\n",
       "  </tbody>\n",
       "</table>\n",
       "</div>"
      ],
      "text/plain": [
       "   Tree  Node   ID Feature     Split  Yes    No Missing          Gain  Cover\n",
       "0     0     0  0-0      f1 -0.078444  0-1   0-2     0-1  4.352786e+09  100.0\n",
       "1     0     1  0-1      f4 -0.609663  0-3   0-4     0-3  1.905696e+09   49.0\n",
       "2     0     2  0-2      f3 -0.196904  0-5   0-6     0-5  2.332606e+09   51.0\n",
       "3     0     3  0-3      f1 -0.717864  0-7   0-8     0-7  3.278100e+08   18.0\n",
       "4     0     4  0-4      f2  1.036812  0-9  0-10     0-9  8.502460e+08   31.0"
      ]
     },
     "metadata": {},
     "output_type": "display_data"
    },
    {
     "data": {
      "text/plain": [
       "count    3.000000e+01\n",
       "mean     5.933484e+08\n",
       "std      1.018747e+09\n",
       "min     -6.580321e+03\n",
       "25%      2.591626e+02\n",
       "50%      4.123588e+03\n",
       "75%      6.979274e+08\n",
       "max      4.352786e+09\n",
       "Name: Gain, dtype: float64"
      ]
     },
     "metadata": {},
     "output_type": "display_data"
    },
    {
     "data": {
      "text/plain": [
       "count     30.000000\n",
       "mean      26.666667\n",
       "std       26.567200\n",
       "min        2.000000\n",
       "25%        9.000000\n",
       "50%       18.500000\n",
       "75%       31.750000\n",
       "max      100.000000\n",
       "Name: Cover, dtype: float64"
      ]
     },
     "metadata": {},
     "output_type": "display_data"
    }
   ],
   "source": [
    "# Now, what will happen if I scale the y\n",
    "model.fit(X, y*100)\n",
    "k = model.get_booster().trees_to_dataframe()\n",
    "display(k.head())\n",
    "display(k['Gain'].describe())\n",
    "display(k['Cover'].describe())"
   ]
  },
  {
   "cell_type": "markdown",
   "metadata": {},
   "source": [
    "Gain increase by 10^4, or square of 10^2. So Gain in this case is the squared error. <br>\n",
    "The parameter <i>gamma</i> and <i>learning rate</i> are based on Gain, so it needs to be the same order of magnitude.\n",
    "\n",
    "### Cover\n",
    "Source: https://stackoverflow.com/questions/33520460/how-is-xgboost-cover-calculated\n",
    "Cover: the sum of second order gradient (Hessian) of training data classified to the leaf, if it is square loss, this simply corresponds to the number of instances in that branch. Deeper in the tree a node is, lower this metric will be.\n",
    "\n",
    "For logistic regression, cover can be calculated without the true label. Actual it is:\n",
    "$$(# number of observation) * p * (1-p)$$"
   ]
  },
  {
   "cell_type": "code",
   "execution_count": null,
   "metadata": {},
   "outputs": [],
   "source": []
  }
 ],
 "metadata": {
  "kernelspec": {
   "display_name": "Python 3",
   "language": "python",
   "name": "python3"
  },
  "language_info": {
   "codemirror_mode": {
    "name": "ipython",
    "version": 3
   },
   "file_extension": ".py",
   "mimetype": "text/x-python",
   "name": "python",
   "nbconvert_exporter": "python",
   "pygments_lexer": "ipython3",
   "version": "3.7.3"
  }
 },
 "nbformat": 4,
 "nbformat_minor": 4
}
