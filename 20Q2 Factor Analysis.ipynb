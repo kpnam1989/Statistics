{
 "cells": [
  {
   "cell_type": "code",
   "execution_count": 1,
   "metadata": {},
   "outputs": [
    {
     "data": {
      "text/plain": [
       "(2800, 28)"
      ]
     },
     "execution_count": 1,
     "metadata": {},
     "output_type": "execute_result"
    }
   ],
   "source": [
    "# Source: https://github.com/mGalarnyk/Python_Tutorials/blob/master/Sklearn/PCA/PCA_Data_Visualization_Iris_Dataset_Blog.ipynb\n",
    "# Source for FA: https://www.datacamp.com/community/tutorials/introduction-factor-analysis\n",
    "import pandas as pd\n",
    "import numpy as np\n",
    "from sklearn.datasets import load_iris\n",
    "from sklearn.decomposition import PCA, FactorAnalysis\n",
    "from factor_analyzer import FactorAnalyzer\n",
    "import matplotlib.pyplot as plt\n",
    "\n",
    "url = \"https://vincentarelbundock.github.io/Rdatasets/csv/psych/bfi.csv\"\n",
    "\n",
    "df = pd.read_csv(url)\n",
    "df = df.drop(df.columns[0], axis=1)\n",
    "df.head()\n",
    "df.shape"
   ]
  },
  {
   "cell_type": "code",
   "execution_count": 2,
   "metadata": {},
   "outputs": [],
   "source": [
    "df.drop(['gender', 'education', 'age'],axis=1,inplace=True)\n",
    "df.dropna(inplace=True)"
   ]
  },
  {
   "cell_type": "code",
   "execution_count": 3,
   "metadata": {},
   "outputs": [
    {
     "data": {
      "text/plain": [
       "(2436, 25)"
      ]
     },
     "execution_count": 3,
     "metadata": {},
     "output_type": "execute_result"
    }
   ],
   "source": [
    "df.shape"
   ]
  },
  {
   "cell_type": "code",
   "execution_count": 4,
   "metadata": {},
   "outputs": [
    {
     "data": {
      "text/plain": [
       "(18170.966350869236, 0.0)"
      ]
     },
     "execution_count": 4,
     "metadata": {},
     "output_type": "execute_result"
    }
   ],
   "source": [
    "# Adequacy test\n",
    "from factor_analyzer.factor_analyzer import calculate_bartlett_sphericity\n",
    "chi_square_value,p_value=calculate_bartlett_sphericity(df)\n",
    "chi_square_value, p_value"
   ]
  },
  {
   "cell_type": "markdown",
   "metadata": {},
   "source": [
    "In this Bartlett ’s test, the p-value is 0. The test was statistically significant, indicating that the observed correlation matrix is not an identity matrix.\n",
    "<br>\n",
    "<br>\n",
    "Kaiser-Meyer-Olkin (KMO) Test measures the suitability of data for factor analysis. It determines the adequacy for each observed variable and for the complete model. KMO estimates the <b>proportion</b> of variance among all the observed variable. \n",
    "<br> - KMO values range between 0 and 1.\n",
    "<br> - Lower proportion id more suitable for factor analysis.\n",
    "<br> - Value of KMO less than 0.6 is considered inadequate."
   ]
  },
  {
   "cell_type": "code",
   "execution_count": 5,
   "metadata": {},
   "outputs": [
    {
     "data": {
      "text/plain": [
       "0.848539722194922"
      ]
     },
     "execution_count": 5,
     "metadata": {},
     "output_type": "execute_result"
    }
   ],
   "source": [
    "from factor_analyzer.factor_analyzer import calculate_kmo\n",
    "kmo_all,kmo_model=calculate_kmo(df)\n",
    "kmo_model"
   ]
  },
  {
   "cell_type": "code",
   "execution_count": 6,
   "metadata": {},
   "outputs": [
    {
     "data": {
      "text/plain": [
       "25"
      ]
     },
     "execution_count": 6,
     "metadata": {},
     "output_type": "execute_result"
    }
   ],
   "source": [
    "fa = FactorAnalyzer(n_factors=24)\n",
    "fa.fit(df)\n",
    "# Check Eigenvalues\n",
    "ev, v = fa.get_eigenvalues()\n",
    "len(ev)"
   ]
  },
  {
   "cell_type": "code",
   "execution_count": 7,
   "metadata": {},
   "outputs": [
    {
     "data": {
      "text/plain": [
       "<matplotlib.axes._subplots.AxesSubplot at 0x25f068da390>"
      ]
     },
     "execution_count": 7,
     "metadata": {},
     "output_type": "execute_result"
    },
    {
     "data": {
      "image/png": "[encoded data removed]",
      "text/plain": [
       "<Figure size 432x288 with 1 Axes>"
      ]
     },
     "metadata": {
      "needs_background": "light"
     },
     "output_type": "display_data"
    }
   ],
   "source": [
    "pd.DataFrame({'eigenvalue': ev}).plot()"
   ]
  },
  {
   "cell_type": "markdown",
   "metadata": {},
   "source": [
    "# Using only 6 factors"
   ]
  },
  {
   "cell_type": "code",
   "execution_count": 8,
   "metadata": {},
   "outputs": [
    {
     "data": {
      "text/plain": [
       "(25, 6)"
      ]
     },
     "execution_count": 8,
     "metadata": {},
     "output_type": "execute_result"
    }
   ],
   "source": [
    "fa = FactorAnalyzer(n_factors=6)\n",
    "fa.fit(df)\n",
    "fa.loadings_.shape"
   ]
  },
  {
   "cell_type": "markdown",
   "metadata": {},
   "source": [
    "## Examine the loading\n",
    "Likely: each column is orthogonal and unit. But it is NOT."
   ]
  },
  {
   "cell_type": "code",
   "execution_count": 9,
   "metadata": {},
   "outputs": [
    {
     "data": {
      "text/plain": [
       "0.47330761716030245"
      ]
     },
     "metadata": {},
     "output_type": "display_data"
    },
    {
     "data": {
      "text/plain": [
       "-0.4091635464426591"
      ]
     },
     "metadata": {},
     "output_type": "display_data"
    },
    {
     "data": {
      "text/plain": [
       "-0.2776779698886085"
      ]
     },
     "metadata": {},
     "output_type": "display_data"
    },
    {
     "data": {
      "text/plain": [
       "-0.15663884542870948"
      ]
     },
     "metadata": {},
     "output_type": "display_data"
    },
    {
     "data": {
      "text/plain": [
       "-0.1393841408414177"
      ]
     },
     "metadata": {},
     "output_type": "display_data"
    },
    {
     "data": {
      "text/plain": [
       "0.10310631593479713"
      ]
     },
     "metadata": {},
     "output_type": "display_data"
    },
    {
     "name": "stdout",
     "output_type": "stream",
     "text": [
      "\n"
     ]
    },
    {
     "data": {
      "text/plain": [
       "2.7727153535462077"
      ]
     },
     "metadata": {},
     "output_type": "display_data"
    },
    {
     "data": {
      "text/plain": [
       "0.21945708667212985"
      ]
     },
     "metadata": {},
     "output_type": "display_data"
    },
    {
     "data": {
      "text/plain": [
       "0.04143049402106608"
      ]
     },
     "metadata": {},
     "output_type": "display_data"
    },
    {
     "data": {
      "text/plain": [
       "-0.0636119792677965"
      ]
     },
     "metadata": {},
     "output_type": "display_data"
    },
    {
     "data": {
      "text/plain": [
       "0.10484610795162724"
      ]
     },
     "metadata": {},
     "output_type": "display_data"
    },
    {
     "data": {
      "text/plain": [
       "-0.08475499840345398"
      ]
     },
     "metadata": {},
     "output_type": "display_data"
    }
   ],
   "source": [
    "for i in range(6):\n",
    "    display(np.sum(fa.loadings_[0,:]*fa.loadings_[i,:]))\n",
    "print()\n",
    "for i in range(6):\n",
    "    display(np.sum(fa.loadings_[:,0]*fa.loadings_[:,i]))"
   ]
  },
  {
   "cell_type": "code",
   "execution_count": 10,
   "metadata": {},
   "outputs": [
    {
     "data": {
      "text/html": [
       "<div>\n",
       "<style scoped>\n",
       "    .dataframe tbody tr th:only-of-type {\n",
       "        vertical-align: middle;\n",
       "    }\n",
       "\n",
       "    .dataframe tbody tr th {\n",
       "        vertical-align: top;\n",
       "    }\n",
       "\n",
       "    .dataframe thead th {\n",
       "        text-align: right;\n",
       "    }\n",
       "</style>\n",
       "<table border=\"1\" class=\"dataframe\">\n",
       "  <thead>\n",
       "    <tr style=\"text-align: right;\">\n",
       "      <th></th>\n",
       "      <th>factor_1</th>\n",
       "      <th>factor_2</th>\n",
       "      <th>factor_3</th>\n",
       "      <th>factor_4</th>\n",
       "      <th>factor_5</th>\n",
       "      <th>factor_6</th>\n",
       "    </tr>\n",
       "  </thead>\n",
       "  <tbody>\n",
       "    <tr>\n",
       "      <th>SS Loadings</th>\n",
       "      <td>2.772715</td>\n",
       "      <td>2.569633</td>\n",
       "      <td>2.208900</td>\n",
       "      <td>1.485449</td>\n",
       "      <td>1.366273</td>\n",
       "      <td>0.995674</td>\n",
       "    </tr>\n",
       "    <tr>\n",
       "      <th>Proportion</th>\n",
       "      <td>0.110909</td>\n",
       "      <td>0.102785</td>\n",
       "      <td>0.088356</td>\n",
       "      <td>0.059418</td>\n",
       "      <td>0.054651</td>\n",
       "      <td>0.039827</td>\n",
       "    </tr>\n",
       "    <tr>\n",
       "      <th>Cumlt var</th>\n",
       "      <td>0.110909</td>\n",
       "      <td>0.213694</td>\n",
       "      <td>0.302050</td>\n",
       "      <td>0.361468</td>\n",
       "      <td>0.416119</td>\n",
       "      <td>0.455946</td>\n",
       "    </tr>\n",
       "  </tbody>\n",
       "</table>\n",
       "</div>"
      ],
      "text/plain": [
       "             factor_1  factor_2  factor_3  factor_4  factor_5  factor_6\n",
       "SS Loadings  2.772715  2.569633  2.208900  1.485449  1.366273  0.995674\n",
       "Proportion   0.110909  0.102785  0.088356  0.059418  0.054651  0.039827\n",
       "Cumlt var    0.110909  0.213694  0.302050  0.361468  0.416119  0.455946"
      ]
     },
     "execution_count": 10,
     "metadata": {},
     "output_type": "execute_result"
    }
   ],
   "source": [
    "factor_variance = pd.DataFrame(fa.get_factor_variance())\n",
    "factor_variance.columns = ['factor_' + str(x+1) for x in range(6)]\n",
    "factor_variance.index = ['SS Loadings', 'Proportion', 'Cumlt var']\n",
    "factor_variance"
   ]
  },
  {
   "cell_type": "markdown",
   "metadata": {},
   "source": [
    "## Display the factor composition as heatmap\n",
    "Note that I have square the weights of each loading"
   ]
  },
  {
   "cell_type": "code",
   "execution_count": 11,
   "metadata": {},
   "outputs": [
    {
     "data": {
      "text/plain": [
       "<matplotlib.axes._subplots.AxesSubplot at 0x25f06ba46d8>"
      ]
     },
     "execution_count": 11,
     "metadata": {},
     "output_type": "execute_result"
    },
    {
     "data": {
      "image/png": "[encoded data removed]",
      "text/plain": [
       "<Figure size 432x288 with 2 Axes>"
      ]
     },
     "metadata": {
      "needs_background": "light"
     },
     "output_type": "display_data"
    }
   ],
   "source": [
    "import seaborn as sns\n",
    "sns.heatmap(fa.loadings_**2)"
   ]
  },
  {
   "cell_type": "markdown",
   "metadata": {},
   "source": [
    "we can see clearly that some factors are highly correlated with one another"
   ]
  },
  {
   "cell_type": "markdown",
   "metadata": {},
   "source": [
    "# Transform"
   ]
  },
  {
   "cell_type": "code",
   "execution_count": 12,
   "metadata": {},
   "outputs": [
    {
     "data": {
      "text/plain": [
       "(2436, 6)"
      ]
     },
     "metadata": {},
     "output_type": "display_data"
    },
    {
     "data": {
      "text/plain": [
       "numpy.ndarray"
      ]
     },
     "metadata": {},
     "output_type": "display_data"
    },
    {
     "data": {
      "text/html": [
       "<div>\n",
       "<style scoped>\n",
       "    .dataframe tbody tr th:only-of-type {\n",
       "        vertical-align: middle;\n",
       "    }\n",
       "\n",
       "    .dataframe tbody tr th {\n",
       "        vertical-align: top;\n",
       "    }\n",
       "\n",
       "    .dataframe thead th {\n",
       "        text-align: right;\n",
       "    }\n",
       "</style>\n",
       "<table border=\"1\" class=\"dataframe\">\n",
       "  <thead>\n",
       "    <tr style=\"text-align: right;\">\n",
       "      <th></th>\n",
       "      <th>factor_1</th>\n",
       "      <th>factor_2</th>\n",
       "      <th>factor_3</th>\n",
       "      <th>factor_4</th>\n",
       "      <th>factor_5</th>\n",
       "      <th>factor_6</th>\n",
       "    </tr>\n",
       "  </thead>\n",
       "  <tbody>\n",
       "    <tr>\n",
       "      <th>0</th>\n",
       "      <td>-0.228536</td>\n",
       "      <td>-0.167399</td>\n",
       "      <td>-1.530956</td>\n",
       "      <td>1.360372</td>\n",
       "      <td>-0.706221</td>\n",
       "      <td>-1.165362</td>\n",
       "    </tr>\n",
       "    <tr>\n",
       "      <th>1</th>\n",
       "      <td>0.363651</td>\n",
       "      <td>0.076429</td>\n",
       "      <td>-0.526301</td>\n",
       "      <td>0.275608</td>\n",
       "      <td>-0.187891</td>\n",
       "      <td>-0.008088</td>\n",
       "    </tr>\n",
       "    <tr>\n",
       "      <th>2</th>\n",
       "      <td>0.115961</td>\n",
       "      <td>0.559000</td>\n",
       "      <td>-0.028315</td>\n",
       "      <td>-0.258862</td>\n",
       "      <td>-0.776301</td>\n",
       "      <td>-0.155126</td>\n",
       "    </tr>\n",
       "    <tr>\n",
       "      <th>3</th>\n",
       "      <td>-0.228912</td>\n",
       "      <td>-0.101113</td>\n",
       "      <td>-0.945610</td>\n",
       "      <td>1.336836</td>\n",
       "      <td>-0.337476</td>\n",
       "      <td>0.332009</td>\n",
       "    </tr>\n",
       "    <tr>\n",
       "      <th>4</th>\n",
       "      <td>0.263373</td>\n",
       "      <td>-0.304488</td>\n",
       "      <td>-0.252680</td>\n",
       "      <td>0.590888</td>\n",
       "      <td>-0.765183</td>\n",
       "      <td>-0.545439</td>\n",
       "    </tr>\n",
       "  </tbody>\n",
       "</table>\n",
       "</div>"
      ],
      "text/plain": [
       "   factor_1  factor_2  factor_3  factor_4  factor_5  factor_6\n",
       "0 -0.228536 -0.167399 -1.530956  1.360372 -0.706221 -1.165362\n",
       "1  0.363651  0.076429 -0.526301  0.275608 -0.187891 -0.008088\n",
       "2  0.115961  0.559000 -0.028315 -0.258862 -0.776301 -0.155126\n",
       "3 -0.228912 -0.101113 -0.945610  1.336836 -0.337476  0.332009\n",
       "4  0.263373 -0.304488 -0.252680  0.590888 -0.765183 -0.545439"
      ]
     },
     "execution_count": 12,
     "metadata": {},
     "output_type": "execute_result"
    }
   ],
   "source": [
    "transformed = fa.transform(df)\n",
    "display(transformed.shape)\n",
    "display(type(transformed))\n",
    "transformed_df = pd.DataFrame(transformed, columns=['factor_' + str(x+1) for x in range(6)])\n",
    "transformed_df.head()"
   ]
  },
  {
   "cell_type": "code",
   "execution_count": 13,
   "metadata": {},
   "outputs": [
    {
     "data": {
      "text/html": [
       "<div>\n",
       "<style scoped>\n",
       "    .dataframe tbody tr th:only-of-type {\n",
       "        vertical-align: middle;\n",
       "    }\n",
       "\n",
       "    .dataframe tbody tr th {\n",
       "        vertical-align: top;\n",
       "    }\n",
       "\n",
       "    .dataframe thead th {\n",
       "        text-align: right;\n",
       "    }\n",
       "</style>\n",
       "<table border=\"1\" class=\"dataframe\">\n",
       "  <thead>\n",
       "    <tr style=\"text-align: right;\">\n",
       "      <th></th>\n",
       "      <th>factor_1</th>\n",
       "      <th>factor_2</th>\n",
       "      <th>factor_3</th>\n",
       "      <th>factor_4</th>\n",
       "      <th>factor_5</th>\n",
       "      <th>factor_6</th>\n",
       "    </tr>\n",
       "  </thead>\n",
       "  <tbody>\n",
       "    <tr>\n",
       "      <th>factor_1</th>\n",
       "      <td>1.000000</td>\n",
       "      <td>-0.421806</td>\n",
       "      <td>0.487014</td>\n",
       "      <td>-0.122132</td>\n",
       "      <td>0.409114</td>\n",
       "      <td>0.193658</td>\n",
       "    </tr>\n",
       "    <tr>\n",
       "      <th>factor_2</th>\n",
       "      <td>-0.421806</td>\n",
       "      <td>1.000000</td>\n",
       "      <td>-0.257095</td>\n",
       "      <td>0.082654</td>\n",
       "      <td>-0.194808</td>\n",
       "      <td>0.280872</td>\n",
       "    </tr>\n",
       "    <tr>\n",
       "      <th>factor_3</th>\n",
       "      <td>0.487014</td>\n",
       "      <td>-0.257095</td>\n",
       "      <td>1.000000</td>\n",
       "      <td>-0.234068</td>\n",
       "      <td>0.370243</td>\n",
       "      <td>0.246664</td>\n",
       "    </tr>\n",
       "    <tr>\n",
       "      <th>factor_4</th>\n",
       "      <td>-0.122132</td>\n",
       "      <td>0.082654</td>\n",
       "      <td>-0.234068</td>\n",
       "      <td>1.000000</td>\n",
       "      <td>-0.003147</td>\n",
       "      <td>-0.084013</td>\n",
       "    </tr>\n",
       "    <tr>\n",
       "      <th>factor_5</th>\n",
       "      <td>0.409114</td>\n",
       "      <td>-0.194808</td>\n",
       "      <td>0.370243</td>\n",
       "      <td>-0.003147</td>\n",
       "      <td>1.000000</td>\n",
       "      <td>0.450314</td>\n",
       "    </tr>\n",
       "    <tr>\n",
       "      <th>factor_6</th>\n",
       "      <td>0.193658</td>\n",
       "      <td>0.280872</td>\n",
       "      <td>0.246664</td>\n",
       "      <td>-0.084013</td>\n",
       "      <td>0.450314</td>\n",
       "      <td>1.000000</td>\n",
       "    </tr>\n",
       "  </tbody>\n",
       "</table>\n",
       "</div>"
      ],
      "text/plain": [
       "          factor_1  factor_2  factor_3  factor_4  factor_5  factor_6\n",
       "factor_1  1.000000 -0.421806  0.487014 -0.122132  0.409114  0.193658\n",
       "factor_2 -0.421806  1.000000 -0.257095  0.082654 -0.194808  0.280872\n",
       "factor_3  0.487014 -0.257095  1.000000 -0.234068  0.370243  0.246664\n",
       "factor_4 -0.122132  0.082654 -0.234068  1.000000 -0.003147 -0.084013\n",
       "factor_5  0.409114 -0.194808  0.370243 -0.003147  1.000000  0.450314\n",
       "factor_6  0.193658  0.280872  0.246664 -0.084013  0.450314  1.000000"
      ]
     },
     "execution_count": 13,
     "metadata": {},
     "output_type": "execute_result"
    }
   ],
   "source": [
    "# the Factors are definitely not un-correlated.\n",
    "transformed_df.corr()"
   ]
  },
  {
   "cell_type": "markdown",
   "metadata": {},
   "source": [
    "# What if I use sklearn"
   ]
  },
  {
   "cell_type": "code",
   "execution_count": 16,
   "metadata": {},
   "outputs": [
    {
     "data": {
      "text/plain": [
       "(2436, 25)"
      ]
     },
     "execution_count": 16,
     "metadata": {},
     "output_type": "execute_result"
    }
   ],
   "source": [
    "transformer = FactorAnalysis(random_state=0)\n",
    "transformed_df = transformer.fit_transform(df)\n",
    "transformed_df.shape"
   ]
  },
  {
   "cell_type": "code",
   "execution_count": 20,
   "metadata": {},
   "outputs": [
    {
     "data": {
      "text/plain": [
       "(25, 25)"
      ]
     },
     "metadata": {},
     "output_type": "display_data"
    },
    {
     "data": {
      "text/plain": [
       "array([0.91492435, 0.85017646, 0.77187205, 0.7311948 , 0.69900351,\n",
       "       0.55522416, 0.48073464, 0.44320269, 0.34043098, 0.32867308,\n",
       "       0.28073359, 0.23510682, 0.18309302, 0.1570348 , 0.12829295,\n",
       "       0.05445108, 0.00921129, 0.        , 0.        , 0.        ,\n",
       "       0.        , 0.        , 0.        , 0.        , 0.        ])"
      ]
     },
     "metadata": {},
     "output_type": "display_data"
    }
   ],
   "source": [
    "factor_cov = np.cov(transformed_df.T)\n",
    "display(factor_cov.shape)\n",
    "display(np.diagonal(factor_cov))"
   ]
  },
  {
   "cell_type": "markdown",
   "metadata": {},
   "source": [
    "apparently, there is a lot of factors with close to 0 variance. Let's just select the first 3 rows, so that is 15 factors. <br>\n",
    "\n",
    "Transform the data. Note that since we do not observe the latent variable, we can only output the expected means."
   ]
  },
  {
   "cell_type": "code",
   "execution_count": 21,
   "metadata": {},
   "outputs": [
    {
     "data": {
      "text/plain": [
       "(2436, 15)"
      ]
     },
     "metadata": {},
     "output_type": "display_data"
    },
    {
     "data": {
      "text/plain": [
       "(15, 15)"
      ]
     },
     "metadata": {},
     "output_type": "display_data"
    },
    {
     "data": {
      "text/plain": [
       "array([0.92615352, 0.87411683, 0.80237381, 0.75117165, 0.73631595,\n",
       "       0.60625885, 0.50505531, 0.4658454 , 0.42383717, 0.35841032,\n",
       "       0.32006261, 0.29105459, 0.27828199, 0.17907362, 0.17183633])"
      ]
     },
     "metadata": {},
     "output_type": "display_data"
    }
   ],
   "source": [
    "transformer = FactorAnalysis(n_components=15, random_state=0)\n",
    "transformed_df = transformer.fit_transform(df)\n",
    "display(transformed_df.shape)\n",
    "factor_cov = np.cov(transformed_df.T)\n",
    "display(factor_cov.shape)\n",
    "display(np.diagonal(factor_cov))"
   ]
  },
  {
   "cell_type": "code",
   "execution_count": 44,
   "metadata": {},
   "outputs": [
    {
     "data": {
      "image/png": "[encoded data removed]",
      "text/plain": [
       "<Figure size 432x288 with 1 Axes>"
      ]
     },
     "metadata": {
      "needs_background": "light"
     },
     "output_type": "display_data"
    }
   ],
   "source": [
    "_ = pd.DataFrame({'val': np.diagonal(factor_cov)}).plot(style='.-',title='Variance')"
   ]
  },
  {
   "cell_type": "markdown",
   "metadata": {},
   "source": [
    "The factors are uncorrelated with one another:"
   ]
  },
  {
   "cell_type": "code",
   "execution_count": 25,
   "metadata": {},
   "outputs": [
    {
     "data": {
      "text/plain": [
       "True"
      ]
     },
     "execution_count": 25,
     "metadata": {},
     "output_type": "execute_result"
    }
   ],
   "source": [
    "np.allclose(np.identity(15), np.corrcoef(transformed_df.T))"
   ]
  },
  {
   "cell_type": "code",
   "execution_count": 31,
   "metadata": {},
   "outputs": [
    {
     "data": {
      "text/plain": [
       "<matplotlib.axes._subplots.AxesSubplot at 0x25f07e2c128>"
      ]
     },
     "execution_count": 31,
     "metadata": {},
     "output_type": "execute_result"
    },
    {
     "data": {
      "image/png": "[encoded data removed]",
      "text/plain": [
       "<Figure size 432x288 with 2 Axes>"
      ]
     },
     "metadata": {
      "needs_background": "light"
     },
     "output_type": "display_data"
    }
   ],
   "source": [
    "sns.heatmap(transformer.components_.T**2)"
   ]
  },
  {
   "cell_type": "markdown",
   "metadata": {},
   "source": [
    "Note that this result is different from using factor-analyzer package"
   ]
  },
  {
   "cell_type": "code",
   "execution_count": 51,
   "metadata": {},
   "outputs": [
    {
     "data": {
      "text/html": [
       "<div>\n",
       "<style scoped>\n",
       "    .dataframe tbody tr th:only-of-type {\n",
       "        vertical-align: middle;\n",
       "    }\n",
       "\n",
       "    .dataframe tbody tr th {\n",
       "        vertical-align: top;\n",
       "    }\n",
       "\n",
       "    .dataframe thead th {\n",
       "        text-align: right;\n",
       "    }\n",
       "</style>\n",
       "<table border=\"1\" class=\"dataframe\">\n",
       "  <thead>\n",
       "    <tr style=\"text-align: right;\">\n",
       "      <th></th>\n",
       "      <th>0</th>\n",
       "      <th>1</th>\n",
       "      <th>2</th>\n",
       "      <th>3</th>\n",
       "      <th>4</th>\n",
       "      <th>5</th>\n",
       "      <th>6</th>\n",
       "      <th>7</th>\n",
       "      <th>8</th>\n",
       "      <th>9</th>\n",
       "      <th>10</th>\n",
       "      <th>11</th>\n",
       "      <th>12</th>\n",
       "      <th>13</th>\n",
       "      <th>14</th>\n",
       "    </tr>\n",
       "  </thead>\n",
       "  <tbody>\n",
       "    <tr>\n",
       "      <th>count</th>\n",
       "      <td>2,436.00</td>\n",
       "      <td>2,436.00</td>\n",
       "      <td>2,436.00</td>\n",
       "      <td>2,436.00</td>\n",
       "      <td>2,436.00</td>\n",
       "      <td>2,436.00</td>\n",
       "      <td>2,436.00</td>\n",
       "      <td>2,436.00</td>\n",
       "      <td>2,436.00</td>\n",
       "      <td>2,436.00</td>\n",
       "      <td>2,436.00</td>\n",
       "      <td>2,436.00</td>\n",
       "      <td>2,436.00</td>\n",
       "      <td>2,436.00</td>\n",
       "      <td>2,436.00</td>\n",
       "    </tr>\n",
       "    <tr>\n",
       "      <th>mean</th>\n",
       "      <td>0.00</td>\n",
       "      <td>0.00</td>\n",
       "      <td>0.00</td>\n",
       "      <td>-0.00</td>\n",
       "      <td>0.00</td>\n",
       "      <td>0.00</td>\n",
       "      <td>0.00</td>\n",
       "      <td>0.00</td>\n",
       "      <td>-0.00</td>\n",
       "      <td>-0.00</td>\n",
       "      <td>-0.00</td>\n",
       "      <td>0.00</td>\n",
       "      <td>-0.00</td>\n",
       "      <td>-0.00</td>\n",
       "      <td>-0.00</td>\n",
       "    </tr>\n",
       "    <tr>\n",
       "      <th>std</th>\n",
       "      <td>0.96</td>\n",
       "      <td>0.93</td>\n",
       "      <td>0.90</td>\n",
       "      <td>0.87</td>\n",
       "      <td>0.86</td>\n",
       "      <td>0.78</td>\n",
       "      <td>0.71</td>\n",
       "      <td>0.68</td>\n",
       "      <td>0.65</td>\n",
       "      <td>0.60</td>\n",
       "      <td>0.57</td>\n",
       "      <td>0.54</td>\n",
       "      <td>0.53</td>\n",
       "      <td>0.42</td>\n",
       "      <td>0.41</td>\n",
       "    </tr>\n",
       "    <tr>\n",
       "      <th>min</th>\n",
       "      <td>-2.40</td>\n",
       "      <td>-2.86</td>\n",
       "      <td>-2.93</td>\n",
       "      <td>-2.93</td>\n",
       "      <td>-3.04</td>\n",
       "      <td>-3.14</td>\n",
       "      <td>-2.68</td>\n",
       "      <td>-2.40</td>\n",
       "      <td>-1.84</td>\n",
       "      <td>-2.58</td>\n",
       "      <td>-1.75</td>\n",
       "      <td>-1.99</td>\n",
       "      <td>-2.15</td>\n",
       "      <td>-1.83</td>\n",
       "      <td>-2.03</td>\n",
       "    </tr>\n",
       "    <tr>\n",
       "      <th>25%</th>\n",
       "      <td>-0.69</td>\n",
       "      <td>-0.62</td>\n",
       "      <td>-0.58</td>\n",
       "      <td>-0.57</td>\n",
       "      <td>-0.56</td>\n",
       "      <td>-0.50</td>\n",
       "      <td>-0.46</td>\n",
       "      <td>-0.42</td>\n",
       "      <td>-0.42</td>\n",
       "      <td>-0.37</td>\n",
       "      <td>-0.36</td>\n",
       "      <td>-0.34</td>\n",
       "      <td>-0.34</td>\n",
       "      <td>-0.27</td>\n",
       "      <td>-0.26</td>\n",
       "    </tr>\n",
       "    <tr>\n",
       "      <th>50%</th>\n",
       "      <td>-0.04</td>\n",
       "      <td>0.01</td>\n",
       "      <td>0.03</td>\n",
       "      <td>0.02</td>\n",
       "      <td>-0.02</td>\n",
       "      <td>-0.02</td>\n",
       "      <td>0.00</td>\n",
       "      <td>0.00</td>\n",
       "      <td>-0.03</td>\n",
       "      <td>-0.00</td>\n",
       "      <td>-0.00</td>\n",
       "      <td>0.00</td>\n",
       "      <td>-0.01</td>\n",
       "      <td>-0.02</td>\n",
       "      <td>-0.01</td>\n",
       "    </tr>\n",
       "    <tr>\n",
       "      <th>75%</th>\n",
       "      <td>0.65</td>\n",
       "      <td>0.59</td>\n",
       "      <td>0.59</td>\n",
       "      <td>0.55</td>\n",
       "      <td>0.55</td>\n",
       "      <td>0.46</td>\n",
       "      <td>0.45</td>\n",
       "      <td>0.43</td>\n",
       "      <td>0.41</td>\n",
       "      <td>0.38</td>\n",
       "      <td>0.34</td>\n",
       "      <td>0.35</td>\n",
       "      <td>0.33</td>\n",
       "      <td>0.25</td>\n",
       "      <td>0.26</td>\n",
       "    </tr>\n",
       "    <tr>\n",
       "      <th>max</th>\n",
       "      <td>3.53</td>\n",
       "      <td>4.09</td>\n",
       "      <td>4.24</td>\n",
       "      <td>3.34</td>\n",
       "      <td>3.36</td>\n",
       "      <td>3.64</td>\n",
       "      <td>2.91</td>\n",
       "      <td>2.61</td>\n",
       "      <td>2.90</td>\n",
       "      <td>2.92</td>\n",
       "      <td>2.32</td>\n",
       "      <td>2.41</td>\n",
       "      <td>2.46</td>\n",
       "      <td>1.95</td>\n",
       "      <td>2.09</td>\n",
       "    </tr>\n",
       "  </tbody>\n",
       "</table>\n",
       "</div>"
      ],
      "text/plain": [
       "            0        1        2        3        4        5        6        7   \\\n",
       "count 2,436.00 2,436.00 2,436.00 2,436.00 2,436.00 2,436.00 2,436.00 2,436.00   \n",
       "mean      0.00     0.00     0.00    -0.00     0.00     0.00     0.00     0.00   \n",
       "std       0.96     0.93     0.90     0.87     0.86     0.78     0.71     0.68   \n",
       "min      -2.40    -2.86    -2.93    -2.93    -3.04    -3.14    -2.68    -2.40   \n",
       "25%      -0.69    -0.62    -0.58    -0.57    -0.56    -0.50    -0.46    -0.42   \n",
       "50%      -0.04     0.01     0.03     0.02    -0.02    -0.02     0.00     0.00   \n",
       "75%       0.65     0.59     0.59     0.55     0.55     0.46     0.45     0.43   \n",
       "max       3.53     4.09     4.24     3.34     3.36     3.64     2.91     2.61   \n",
       "\n",
       "            8        9        10       11       12       13       14  \n",
       "count 2,436.00 2,436.00 2,436.00 2,436.00 2,436.00 2,436.00 2,436.00  \n",
       "mean     -0.00    -0.00    -0.00     0.00    -0.00    -0.00    -0.00  \n",
       "std       0.65     0.60     0.57     0.54     0.53     0.42     0.41  \n",
       "min      -1.84    -2.58    -1.75    -1.99    -2.15    -1.83    -2.03  \n",
       "25%      -0.42    -0.37    -0.36    -0.34    -0.34    -0.27    -0.26  \n",
       "50%      -0.03    -0.00    -0.00     0.00    -0.01    -0.02    -0.01  \n",
       "75%       0.41     0.38     0.34     0.35     0.33     0.25     0.26  \n",
       "max       2.90     2.92     2.32     2.41     2.46     1.95     2.09  "
      ]
     },
     "execution_count": 51,
     "metadata": {},
     "output_type": "execute_result"
    }
   ],
   "source": [
    "pd.options.display.float_format = '{:,.2f}'.format\n",
    "pd.DataFrame(transformed_df).describe()\n",
    "# Mean seems all close to 0\n",
    "# The variance are in descending order."
   ]
  },
  {
   "cell_type": "markdown",
   "metadata": {},
   "source": [
    "# Understand the transformation"
   ]
  },
  {
   "cell_type": "code",
   "execution_count": 53,
   "metadata": {},
   "outputs": [
    {
     "data": {
      "text/plain": [
       "(25, 15)"
      ]
     },
     "metadata": {},
     "output_type": "display_data"
    },
    {
     "data": {
      "text/plain": [
       "25"
      ]
     },
     "metadata": {},
     "output_type": "display_data"
    },
    {
     "data": {
      "text/plain": [
       "array([1.22587921, 0.38301996, 0.71897666, 0.87301515, 0.73043126,\n",
       "       0.90599073, 0.64778901, 1.09729654, 0.79358028, 0.77534895,\n",
       "       1.21580762, 1.02391071, 0.86960812, 0.63846827, 0.93142597,\n",
       "       0.65228361, 0.58392963, 0.97573618, 1.03635827, 1.22214919,\n",
       "       0.80192605, 1.01098244, 0.71198945, 0.92112306, 0.91303238])"
      ]
     },
     "metadata": {},
     "output_type": "display_data"
    }
   ],
   "source": [
    "display(transformer.components_.T.shape)\n",
    "display(len(transformer.noise_variance_))\n",
    "display(transformer.noise_variance_)"
   ]
  },
  {
   "cell_type": "markdown",
   "metadata": {},
   "source": [
    "According to the sorce code, very roughly <br>\n",
    "$$ \\hat{\\mu} = X * \\hat{W} * (I + \\hat{W}.\\hat{W}^T)^{-1}$$\n",
    "\n",
    "It is likely the expected value of Mu, given the distribution of x below (sklearn documentation for factor analysis)\n",
    "$$ p(x)= N(\\mu, WW^T + \\Psi) $$"
   ]
  },
  {
   "cell_type": "code",
   "execution_count": 37,
   "metadata": {},
   "outputs": [
    {
     "data": {
      "text/plain": [
       "(2436, 15)"
      ]
     },
     "execution_count": 37,
     "metadata": {},
     "output_type": "execute_result"
    }
   ],
   "source": [
    "\"\"\"\n",
    "Source code:\n",
    "https://github.com/scikit-learn/scikit-learn/blob/fd237278e/sklearn/decomposition/_factor_analysis.py#L251\n",
    "Taken from Barber's Bayesian Reasoning textbook\n",
    "\n",
    "X = check_array(X)\n",
    "Ih = np.eye(len(self.components_)) # identitiy matrix\n",
    "\n",
    "X_transformed = X - self.mean_ # de-meaen\n",
    "\n",
    "Wpsi = self.components_ / self.noise_variance_\n",
    "cov_z = linalg.inv(Ih + np.dot(Wpsi, self.components_.T))\n",
    "tmp = np.dot(X_transformed, Wpsi.T)\n",
    "X_transformed = np.dot(tmp, cov_z)\n",
    "\"\"\""
   ]
  }
 ],
 "metadata": {
  "kernelspec": {
   "display_name": "Python 3",
   "language": "python",
   "name": "python3"
  },
  "language_info": {
   "codemirror_mode": {
    "name": "ipython",
    "version": 3
   },
   "file_extension": ".py",
   "mimetype": "text/x-python",
   "name": "python",
   "nbconvert_exporter": "python",
   "pygments_lexer": "ipython3",
   "version": "3.7.3"
  }
 },
 "nbformat": 4,
 "nbformat_minor": 4
}
