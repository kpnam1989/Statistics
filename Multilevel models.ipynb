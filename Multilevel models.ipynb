{
 "cells": [
  {
   "cell_type": "code",
   "execution_count": 1,
   "metadata": {
    "collapsed": true
   },
   "outputs": [],
   "source": [
    "'''\n",
    "Source: http://nbviewer.jupyter.org/github/natematias/research_in_python/blob/master/multilevel_models/Multilevel%20Models.ipynb\n",
    "'''\n",
    "%matplotlib inline\n",
    "import pandas as pd               # Pandas handles dataframes\n",
    "import numpy as np                # Numpy handles lots of basic maths operations\n",
    "import matplotlib.pyplot as plt   # Matplotlib for plotting\n",
    "import seaborn as sns             # Seaborn for beautiful plots\n",
    "from dateutil import *            # I prefer dateutil for parsing dates\n",
    "import math                       # transformations\n",
    "import statsmodels.formula.api as smf  # for doing statistical regression\n",
    "import statsmodels.api as sm      # access to the wider statsmodels library, including R datasets\n",
    "from collections import Counter   # Counter is useful for grouping and counting\n",
    "import scipy\n",
    "\n",
    "path = r\"C:\\Users\\nkieu\\Desktop\\Python\\Stats modeling\"\n",
    "hsb_df = pd.read_stata(path + \"\\\\hsb.dta\",\"w\" )"
   ]
  },
  {
   "cell_type": "code",
   "execution_count": 3,
   "metadata": {
    "collapsed": false
   },
   "outputs": [
    {
     "name": "stdout",
     "output_type": "stream",
     "text": [
      "(7185, 26)\n"
     ]
    },
    {
     "data": {
      "text/html": [
       "<div>\n",
       "<style scoped>\n",
       "    .dataframe tbody tr th:only-of-type {\n",
       "        vertical-align: middle;\n",
       "    }\n",
       "\n",
       "    .dataframe tbody tr th {\n",
       "        vertical-align: top;\n",
       "    }\n",
       "\n",
       "    .dataframe thead th {\n",
       "        text-align: right;\n",
       "    }\n",
       "</style>\n",
       "<table border=\"1\" class=\"dataframe\">\n",
       "  <thead>\n",
       "    <tr style=\"text-align: right;\">\n",
       "      <th></th>\n",
       "      <th>0</th>\n",
       "      <th>1</th>\n",
       "      <th>2</th>\n",
       "      <th>3</th>\n",
       "      <th>4</th>\n",
       "    </tr>\n",
       "  </thead>\n",
       "  <tbody>\n",
       "    <tr>\n",
       "      <th>minority</th>\n",
       "      <td>0.000000</td>\n",
       "      <td>0.000000</td>\n",
       "      <td>0.000000</td>\n",
       "      <td>0.000000</td>\n",
       "      <td>0.000000</td>\n",
       "    </tr>\n",
       "    <tr>\n",
       "      <th>female</th>\n",
       "      <td>1.000000</td>\n",
       "      <td>1.000000</td>\n",
       "      <td>0.000000</td>\n",
       "      <td>0.000000</td>\n",
       "      <td>0.000000</td>\n",
       "    </tr>\n",
       "    <tr>\n",
       "      <th>ses</th>\n",
       "      <td>-1.528000</td>\n",
       "      <td>-0.588000</td>\n",
       "      <td>-0.528000</td>\n",
       "      <td>-0.668000</td>\n",
       "      <td>-0.158000</td>\n",
       "    </tr>\n",
       "    <tr>\n",
       "      <th>mathach</th>\n",
       "      <td>5.876000</td>\n",
       "      <td>19.708000</td>\n",
       "      <td>20.349001</td>\n",
       "      <td>8.781000</td>\n",
       "      <td>17.898001</td>\n",
       "    </tr>\n",
       "    <tr>\n",
       "      <th>size</th>\n",
       "      <td>842.000000</td>\n",
       "      <td>842.000000</td>\n",
       "      <td>842.000000</td>\n",
       "      <td>842.000000</td>\n",
       "      <td>842.000000</td>\n",
       "    </tr>\n",
       "    <tr>\n",
       "      <th>sector</th>\n",
       "      <td>0.000000</td>\n",
       "      <td>0.000000</td>\n",
       "      <td>0.000000</td>\n",
       "      <td>0.000000</td>\n",
       "      <td>0.000000</td>\n",
       "    </tr>\n",
       "    <tr>\n",
       "      <th>pracad</th>\n",
       "      <td>0.350000</td>\n",
       "      <td>0.350000</td>\n",
       "      <td>0.350000</td>\n",
       "      <td>0.350000</td>\n",
       "      <td>0.350000</td>\n",
       "    </tr>\n",
       "    <tr>\n",
       "      <th>disclim</th>\n",
       "      <td>1.597000</td>\n",
       "      <td>1.597000</td>\n",
       "      <td>1.597000</td>\n",
       "      <td>1.597000</td>\n",
       "      <td>1.597000</td>\n",
       "    </tr>\n",
       "    <tr>\n",
       "      <th>himinty</th>\n",
       "      <td>0.000000</td>\n",
       "      <td>0.000000</td>\n",
       "      <td>0.000000</td>\n",
       "      <td>0.000000</td>\n",
       "      <td>0.000000</td>\n",
       "    </tr>\n",
       "    <tr>\n",
       "      <th>schoolid</th>\n",
       "      <td>1224.000000</td>\n",
       "      <td>1224.000000</td>\n",
       "      <td>1224.000000</td>\n",
       "      <td>1224.000000</td>\n",
       "      <td>1224.000000</td>\n",
       "    </tr>\n",
       "    <tr>\n",
       "      <th>mean</th>\n",
       "      <td>9.715446</td>\n",
       "      <td>9.715446</td>\n",
       "      <td>9.715446</td>\n",
       "      <td>9.715446</td>\n",
       "      <td>9.715446</td>\n",
       "    </tr>\n",
       "    <tr>\n",
       "      <th>sd</th>\n",
       "      <td>7.592785</td>\n",
       "      <td>7.592785</td>\n",
       "      <td>7.592785</td>\n",
       "      <td>7.592785</td>\n",
       "      <td>7.592785</td>\n",
       "    </tr>\n",
       "    <tr>\n",
       "      <th>sdalt</th>\n",
       "      <td>6.256328</td>\n",
       "      <td>6.256328</td>\n",
       "      <td>6.256328</td>\n",
       "      <td>6.256328</td>\n",
       "      <td>6.256328</td>\n",
       "    </tr>\n",
       "    <tr>\n",
       "      <th>junk</th>\n",
       "      <td>45.710770</td>\n",
       "      <td>49.999413</td>\n",
       "      <td>59.475361</td>\n",
       "      <td>14.868533</td>\n",
       "      <td>27.678404</td>\n",
       "    </tr>\n",
       "    <tr>\n",
       "      <th>sdalt2</th>\n",
       "      <td>48.393635</td>\n",
       "      <td>48.393635</td>\n",
       "      <td>48.393635</td>\n",
       "      <td>48.393635</td>\n",
       "      <td>48.393635</td>\n",
       "    </tr>\n",
       "    <tr>\n",
       "      <th>num</th>\n",
       "      <td>47.000000</td>\n",
       "      <td>47.000000</td>\n",
       "      <td>47.000000</td>\n",
       "      <td>47.000000</td>\n",
       "      <td>47.000000</td>\n",
       "    </tr>\n",
       "    <tr>\n",
       "      <th>se</th>\n",
       "      <td>1.107522</td>\n",
       "      <td>1.107522</td>\n",
       "      <td>1.107522</td>\n",
       "      <td>1.107522</td>\n",
       "      <td>1.107522</td>\n",
       "    </tr>\n",
       "    <tr>\n",
       "      <th>sealt</th>\n",
       "      <td>0.912579</td>\n",
       "      <td>0.912579</td>\n",
       "      <td>0.912579</td>\n",
       "      <td>0.912579</td>\n",
       "      <td>0.912579</td>\n",
       "    </tr>\n",
       "    <tr>\n",
       "      <th>sealt2</th>\n",
       "      <td>1.014718</td>\n",
       "      <td>1.014718</td>\n",
       "      <td>1.014718</td>\n",
       "      <td>1.014718</td>\n",
       "      <td>1.014718</td>\n",
       "    </tr>\n",
       "    <tr>\n",
       "      <th>t2</th>\n",
       "      <td>6.958498</td>\n",
       "      <td>6.958498</td>\n",
       "      <td>6.958498</td>\n",
       "      <td>6.958498</td>\n",
       "      <td>6.958498</td>\n",
       "    </tr>\n",
       "    <tr>\n",
       "      <th>t2alt</th>\n",
       "      <td>8.289523</td>\n",
       "      <td>8.289523</td>\n",
       "      <td>8.289523</td>\n",
       "      <td>8.289523</td>\n",
       "      <td>8.289523</td>\n",
       "    </tr>\n",
       "    <tr>\n",
       "      <th>pickone</th>\n",
       "      <td>1.000000</td>\n",
       "      <td>0.000000</td>\n",
       "      <td>0.000000</td>\n",
       "      <td>0.000000</td>\n",
       "      <td>0.000000</td>\n",
       "    </tr>\n",
       "    <tr>\n",
       "      <th>mmses</th>\n",
       "      <td>-0.434383</td>\n",
       "      <td>-0.434383</td>\n",
       "      <td>-0.434383</td>\n",
       "      <td>-0.434383</td>\n",
       "      <td>-0.434383</td>\n",
       "    </tr>\n",
       "    <tr>\n",
       "      <th>mnses</th>\n",
       "      <td>-0.434383</td>\n",
       "      <td>-0.434383</td>\n",
       "      <td>-0.434383</td>\n",
       "      <td>-0.434383</td>\n",
       "      <td>-0.434383</td>\n",
       "    </tr>\n",
       "    <tr>\n",
       "      <th>xb</th>\n",
       "      <td>10.137589</td>\n",
       "      <td>10.137589</td>\n",
       "      <td>10.137589</td>\n",
       "      <td>10.137589</td>\n",
       "      <td>10.137589</td>\n",
       "    </tr>\n",
       "    <tr>\n",
       "      <th>resid</th>\n",
       "      <td>-4.261589</td>\n",
       "      <td>9.570412</td>\n",
       "      <td>10.211412</td>\n",
       "      <td>-1.356588</td>\n",
       "      <td>7.760412</td>\n",
       "    </tr>\n",
       "  </tbody>\n",
       "</table>\n",
       "</div>"
      ],
      "text/plain": [
       "                    0            1            2            3            4\n",
       "minority     0.000000     0.000000     0.000000     0.000000     0.000000\n",
       "female       1.000000     1.000000     0.000000     0.000000     0.000000\n",
       "ses         -1.528000    -0.588000    -0.528000    -0.668000    -0.158000\n",
       "mathach      5.876000    19.708000    20.349001     8.781000    17.898001\n",
       "size       842.000000   842.000000   842.000000   842.000000   842.000000\n",
       "sector       0.000000     0.000000     0.000000     0.000000     0.000000\n",
       "pracad       0.350000     0.350000     0.350000     0.350000     0.350000\n",
       "disclim      1.597000     1.597000     1.597000     1.597000     1.597000\n",
       "himinty      0.000000     0.000000     0.000000     0.000000     0.000000\n",
       "schoolid  1224.000000  1224.000000  1224.000000  1224.000000  1224.000000\n",
       "mean         9.715446     9.715446     9.715446     9.715446     9.715446\n",
       "sd           7.592785     7.592785     7.592785     7.592785     7.592785\n",
       "sdalt        6.256328     6.256328     6.256328     6.256328     6.256328\n",
       "junk        45.710770    49.999413    59.475361    14.868533    27.678404\n",
       "sdalt2      48.393635    48.393635    48.393635    48.393635    48.393635\n",
       "num         47.000000    47.000000    47.000000    47.000000    47.000000\n",
       "se           1.107522     1.107522     1.107522     1.107522     1.107522\n",
       "sealt        0.912579     0.912579     0.912579     0.912579     0.912579\n",
       "sealt2       1.014718     1.014718     1.014718     1.014718     1.014718\n",
       "t2           6.958498     6.958498     6.958498     6.958498     6.958498\n",
       "t2alt        8.289523     8.289523     8.289523     8.289523     8.289523\n",
       "pickone      1.000000     0.000000     0.000000     0.000000     0.000000\n",
       "mmses       -0.434383    -0.434383    -0.434383    -0.434383    -0.434383\n",
       "mnses       -0.434383    -0.434383    -0.434383    -0.434383    -0.434383\n",
       "xb          10.137589    10.137589    10.137589    10.137589    10.137589\n",
       "resid       -4.261589     9.570412    10.211412    -1.356588     7.760412"
      ]
     },
     "execution_count": 3,
     "metadata": {},
     "output_type": "execute_result"
    }
   ],
   "source": [
    "print(hsb_df.shape)\n",
    "hsb_df.head().T"
   ]
  },
  {
   "cell_type": "code",
   "execution_count": 4,
   "metadata": {
    "collapsed": false
   },
   "outputs": [
    {
     "data": {
      "text/plain": [
       "minority    0\n",
       "female      0\n",
       "ses         0\n",
       "mathach     0\n",
       "size        0\n",
       "sector      0\n",
       "pracad      0\n",
       "disclim     0\n",
       "himinty     0\n",
       "schoolid    0\n",
       "mean        0\n",
       "sd          0\n",
       "sdalt       0\n",
       "junk        0\n",
       "sdalt2      0\n",
       "num         0\n",
       "se          0\n",
       "sealt       0\n",
       "sealt2      0\n",
       "t2          0\n",
       "t2alt       0\n",
       "pickone     0\n",
       "mmses       0\n",
       "mnses       0\n",
       "xb          0\n",
       "resid       0\n",
       "dtype: int64"
      ]
     },
     "execution_count": 4,
     "metadata": {},
     "output_type": "execute_result"
    }
   ],
   "source": [
    "np.sum(hsb_df.isna())"
   ]
  },
  {
   "cell_type": "markdown",
   "metadata": {},
   "source": [
    "The goal of this dataset is to infer the relationship between the school's variable."
   ]
  },
  {
   "cell_type": "code",
   "execution_count": 11,
   "metadata": {
    "collapsed": false
   },
   "outputs": [
    {
     "name": "stdout",
     "output_type": "stream",
     "text": [
      "Number of schools is 160\n"
     ]
    }
   ],
   "source": [
    "print(\"Number of schools is\", len(hsb_df.schoolid.unique()))"
   ]
  },
  {
   "cell_type": "code",
   "execution_count": 12,
   "metadata": {
    "collapsed": false
   },
   "outputs": [
    {
     "data": {
      "text/html": [
       "<div>\n",
       "<style scoped>\n",
       "    .dataframe tbody tr th:only-of-type {\n",
       "        vertical-align: middle;\n",
       "    }\n",
       "\n",
       "    .dataframe tbody tr th {\n",
       "        vertical-align: top;\n",
       "    }\n",
       "\n",
       "    .dataframe thead th {\n",
       "        text-align: right;\n",
       "    }\n",
       "</style>\n",
       "<table border=\"1\" class=\"dataframe\">\n",
       "  <thead>\n",
       "    <tr style=\"text-align: right;\">\n",
       "      <th></th>\n",
       "      <th>mathach</th>\n",
       "      <th>ses</th>\n",
       "    </tr>\n",
       "  </thead>\n",
       "  <tbody>\n",
       "    <tr>\n",
       "      <th>count</th>\n",
       "      <td>7185.000000</td>\n",
       "      <td>7185.000000</td>\n",
       "    </tr>\n",
       "    <tr>\n",
       "      <th>mean</th>\n",
       "      <td>12.747853</td>\n",
       "      <td>0.000143</td>\n",
       "    </tr>\n",
       "    <tr>\n",
       "      <th>std</th>\n",
       "      <td>6.878242</td>\n",
       "      <td>0.779352</td>\n",
       "    </tr>\n",
       "    <tr>\n",
       "      <th>min</th>\n",
       "      <td>-2.832000</td>\n",
       "      <td>-3.758000</td>\n",
       "    </tr>\n",
       "    <tr>\n",
       "      <th>25%</th>\n",
       "      <td>7.275000</td>\n",
       "      <td>-0.538000</td>\n",
       "    </tr>\n",
       "    <tr>\n",
       "      <th>50%</th>\n",
       "      <td>13.131000</td>\n",
       "      <td>0.002000</td>\n",
       "    </tr>\n",
       "    <tr>\n",
       "      <th>75%</th>\n",
       "      <td>18.316999</td>\n",
       "      <td>0.602000</td>\n",
       "    </tr>\n",
       "    <tr>\n",
       "      <th>max</th>\n",
       "      <td>24.993000</td>\n",
       "      <td>2.692000</td>\n",
       "    </tr>\n",
       "  </tbody>\n",
       "</table>\n",
       "</div>"
      ],
      "text/plain": [
       "           mathach          ses\n",
       "count  7185.000000  7185.000000\n",
       "mean     12.747853     0.000143\n",
       "std       6.878242     0.779352\n",
       "min      -2.832000    -3.758000\n",
       "25%       7.275000    -0.538000\n",
       "50%      13.131000     0.002000\n",
       "75%      18.316999     0.602000\n",
       "max      24.993000     2.692000"
      ]
     },
     "execution_count": 12,
     "metadata": {},
     "output_type": "execute_result"
    }
   ],
   "source": [
    "# Mathematical achievement vs Socioeconomic Status\n",
    "hsb_df[['mathach','ses']].describe()"
   ]
  },
  {
   "cell_type": "code",
   "execution_count": 14,
   "metadata": {
    "collapsed": false
   },
   "outputs": [
    {
     "data": {
      "text/html": [
       "<div>\n",
       "<style scoped>\n",
       "    .dataframe tbody tr th:only-of-type {\n",
       "        vertical-align: middle;\n",
       "    }\n",
       "\n",
       "    .dataframe tbody tr th {\n",
       "        vertical-align: top;\n",
       "    }\n",
       "\n",
       "    .dataframe thead th {\n",
       "        text-align: right;\n",
       "    }\n",
       "</style>\n",
       "<table border=\"1\" class=\"dataframe\">\n",
       "  <thead>\n",
       "    <tr style=\"text-align: right;\">\n",
       "      <th>schoolid</th>\n",
       "      <th>1224.0</th>\n",
       "      <th>1288.0</th>\n",
       "      <th>1296.0</th>\n",
       "      <th>1308.0</th>\n",
       "      <th>1317.0</th>\n",
       "    </tr>\n",
       "  </thead>\n",
       "  <tbody>\n",
       "    <tr>\n",
       "      <th>minority</th>\n",
       "      <td>0.085106</td>\n",
       "      <td>0.120000</td>\n",
       "      <td>0.979167</td>\n",
       "      <td>0.400000</td>\n",
       "      <td>0.729167</td>\n",
       "    </tr>\n",
       "    <tr>\n",
       "      <th>female</th>\n",
       "      <td>0.595745</td>\n",
       "      <td>0.440000</td>\n",
       "      <td>0.645833</td>\n",
       "      <td>0.000000</td>\n",
       "      <td>1.000000</td>\n",
       "    </tr>\n",
       "    <tr>\n",
       "      <th>ses</th>\n",
       "      <td>-0.434383</td>\n",
       "      <td>0.121600</td>\n",
       "      <td>-0.425500</td>\n",
       "      <td>0.528000</td>\n",
       "      <td>0.345333</td>\n",
       "    </tr>\n",
       "    <tr>\n",
       "      <th>mathach</th>\n",
       "      <td>9.715446</td>\n",
       "      <td>13.510800</td>\n",
       "      <td>7.635958</td>\n",
       "      <td>16.255501</td>\n",
       "      <td>13.177688</td>\n",
       "    </tr>\n",
       "    <tr>\n",
       "      <th>size</th>\n",
       "      <td>842.000000</td>\n",
       "      <td>1855.000000</td>\n",
       "      <td>1719.000000</td>\n",
       "      <td>716.000000</td>\n",
       "      <td>455.000000</td>\n",
       "    </tr>\n",
       "    <tr>\n",
       "      <th>sector</th>\n",
       "      <td>0.000000</td>\n",
       "      <td>0.000000</td>\n",
       "      <td>0.000000</td>\n",
       "      <td>1.000000</td>\n",
       "      <td>1.000000</td>\n",
       "    </tr>\n",
       "    <tr>\n",
       "      <th>pracad</th>\n",
       "      <td>0.350000</td>\n",
       "      <td>0.270000</td>\n",
       "      <td>0.320000</td>\n",
       "      <td>0.960000</td>\n",
       "      <td>0.950000</td>\n",
       "    </tr>\n",
       "    <tr>\n",
       "      <th>disclim</th>\n",
       "      <td>1.597000</td>\n",
       "      <td>0.174000</td>\n",
       "      <td>-0.137000</td>\n",
       "      <td>-0.622000</td>\n",
       "      <td>-1.694000</td>\n",
       "    </tr>\n",
       "    <tr>\n",
       "      <th>himinty</th>\n",
       "      <td>0.000000</td>\n",
       "      <td>0.000000</td>\n",
       "      <td>1.000000</td>\n",
       "      <td>0.000000</td>\n",
       "      <td>1.000000</td>\n",
       "    </tr>\n",
       "    <tr>\n",
       "      <th>mean</th>\n",
       "      <td>9.715446</td>\n",
       "      <td>13.510800</td>\n",
       "      <td>7.635958</td>\n",
       "      <td>16.255501</td>\n",
       "      <td>13.177688</td>\n",
       "    </tr>\n",
       "    <tr>\n",
       "      <th>sd</th>\n",
       "      <td>7.592785</td>\n",
       "      <td>7.021843</td>\n",
       "      <td>5.351070</td>\n",
       "      <td>6.114242</td>\n",
       "      <td>5.462586</td>\n",
       "    </tr>\n",
       "    <tr>\n",
       "      <th>sdalt</th>\n",
       "      <td>6.256328</td>\n",
       "      <td>6.256328</td>\n",
       "      <td>6.256328</td>\n",
       "      <td>6.256328</td>\n",
       "      <td>6.256328</td>\n",
       "    </tr>\n",
       "    <tr>\n",
       "      <th>junk</th>\n",
       "      <td>64.959099</td>\n",
       "      <td>48.097599</td>\n",
       "      <td>53.047569</td>\n",
       "      <td>48.608486</td>\n",
       "      <td>29.510557</td>\n",
       "    </tr>\n",
       "    <tr>\n",
       "      <th>sdalt2</th>\n",
       "      <td>48.393635</td>\n",
       "      <td>48.393635</td>\n",
       "      <td>48.393635</td>\n",
       "      <td>48.393635</td>\n",
       "      <td>48.393635</td>\n",
       "    </tr>\n",
       "    <tr>\n",
       "      <th>num</th>\n",
       "      <td>47.000000</td>\n",
       "      <td>25.000000</td>\n",
       "      <td>48.000000</td>\n",
       "      <td>20.000000</td>\n",
       "      <td>48.000000</td>\n",
       "    </tr>\n",
       "    <tr>\n",
       "      <th>se</th>\n",
       "      <td>1.107522</td>\n",
       "      <td>1.404369</td>\n",
       "      <td>0.772361</td>\n",
       "      <td>1.367186</td>\n",
       "      <td>0.788456</td>\n",
       "    </tr>\n",
       "    <tr>\n",
       "      <th>sealt</th>\n",
       "      <td>0.912579</td>\n",
       "      <td>1.251266</td>\n",
       "      <td>0.903023</td>\n",
       "      <td>1.398957</td>\n",
       "      <td>0.903023</td>\n",
       "    </tr>\n",
       "    <tr>\n",
       "      <th>sealt2</th>\n",
       "      <td>1.014718</td>\n",
       "      <td>1.391311</td>\n",
       "      <td>1.004092</td>\n",
       "      <td>1.555533</td>\n",
       "      <td>1.004092</td>\n",
       "    </tr>\n",
       "    <tr>\n",
       "      <th>t2</th>\n",
       "      <td>6.958498</td>\n",
       "      <td>0.387158</td>\n",
       "      <td>41.925312</td>\n",
       "      <td>7.005005</td>\n",
       "      <td>0.470305</td>\n",
       "    </tr>\n",
       "    <tr>\n",
       "      <th>t2alt</th>\n",
       "      <td>8.289523</td>\n",
       "      <td>0.394459</td>\n",
       "      <td>24.806725</td>\n",
       "      <td>5.411347</td>\n",
       "      <td>0.289993</td>\n",
       "    </tr>\n",
       "    <tr>\n",
       "      <th>pickone</th>\n",
       "      <td>0.021277</td>\n",
       "      <td>0.040000</td>\n",
       "      <td>0.020833</td>\n",
       "      <td>0.050000</td>\n",
       "      <td>0.020833</td>\n",
       "    </tr>\n",
       "    <tr>\n",
       "      <th>mmses</th>\n",
       "      <td>-0.434383</td>\n",
       "      <td>0.121600</td>\n",
       "      <td>-0.425500</td>\n",
       "      <td>0.528000</td>\n",
       "      <td>0.345333</td>\n",
       "    </tr>\n",
       "    <tr>\n",
       "      <th>mnses</th>\n",
       "      <td>-0.434383</td>\n",
       "      <td>0.121600</td>\n",
       "      <td>-0.425500</td>\n",
       "      <td>0.528000</td>\n",
       "      <td>0.345333</td>\n",
       "    </tr>\n",
       "    <tr>\n",
       "      <th>xb</th>\n",
       "      <td>10.137589</td>\n",
       "      <td>13.397615</td>\n",
       "      <td>10.189673</td>\n",
       "      <td>15.780558</td>\n",
       "      <td>14.709485</td>\n",
       "    </tr>\n",
       "    <tr>\n",
       "      <th>resid</th>\n",
       "      <td>-0.422142</td>\n",
       "      <td>0.113185</td>\n",
       "      <td>-2.553715</td>\n",
       "      <td>0.474942</td>\n",
       "      <td>-1.531798</td>\n",
       "    </tr>\n",
       "  </tbody>\n",
       "</table>\n",
       "</div>"
      ],
      "text/plain": [
       "schoolid      1224.0       1288.0       1296.0      1308.0      1317.0\n",
       "minority    0.085106     0.120000     0.979167    0.400000    0.729167\n",
       "female      0.595745     0.440000     0.645833    0.000000    1.000000\n",
       "ses        -0.434383     0.121600    -0.425500    0.528000    0.345333\n",
       "mathach     9.715446    13.510800     7.635958   16.255501   13.177688\n",
       "size      842.000000  1855.000000  1719.000000  716.000000  455.000000\n",
       "sector      0.000000     0.000000     0.000000    1.000000    1.000000\n",
       "pracad      0.350000     0.270000     0.320000    0.960000    0.950000\n",
       "disclim     1.597000     0.174000    -0.137000   -0.622000   -1.694000\n",
       "himinty     0.000000     0.000000     1.000000    0.000000    1.000000\n",
       "mean        9.715446    13.510800     7.635958   16.255501   13.177688\n",
       "sd          7.592785     7.021843     5.351070    6.114242    5.462586\n",
       "sdalt       6.256328     6.256328     6.256328    6.256328    6.256328\n",
       "junk       64.959099    48.097599    53.047569   48.608486   29.510557\n",
       "sdalt2     48.393635    48.393635    48.393635   48.393635   48.393635\n",
       "num        47.000000    25.000000    48.000000   20.000000   48.000000\n",
       "se          1.107522     1.404369     0.772361    1.367186    0.788456\n",
       "sealt       0.912579     1.251266     0.903023    1.398957    0.903023\n",
       "sealt2      1.014718     1.391311     1.004092    1.555533    1.004092\n",
       "t2          6.958498     0.387158    41.925312    7.005005    0.470305\n",
       "t2alt       8.289523     0.394459    24.806725    5.411347    0.289993\n",
       "pickone     0.021277     0.040000     0.020833    0.050000    0.020833\n",
       "mmses      -0.434383     0.121600    -0.425500    0.528000    0.345333\n",
       "mnses      -0.434383     0.121600    -0.425500    0.528000    0.345333\n",
       "xb         10.137589    13.397615    10.189673   15.780558   14.709485\n",
       "resid      -0.422142     0.113185    -2.553715    0.474942   -1.531798"
      ]
     },
     "execution_count": 14,
     "metadata": {},
     "output_type": "execute_result"
    }
   ],
   "source": [
    "school_gp = hsb_df.groupby(\"schoolid\").aggregate(np.mean)\n",
    "school_gp.head().T"
   ]
  },
  {
   "cell_type": "code",
   "execution_count": 15,
   "metadata": {
    "collapsed": true
   },
   "outputs": [],
   "source": [
    "# Demean the Math Achievement\n",
    "sgp = school_gp.to_dict()\n",
    "def school_mathach(f):\n",
    "    return float(f.mathach) - sgp['mathach'][f.schoolid]\n",
    "\n",
    "hsb_df['school_mathach'] = hsb_df.apply(school_mathach, 1)"
   ]
  },
  {
   "cell_type": "code",
   "execution_count": 21,
   "metadata": {
    "collapsed": false
   },
   "outputs": [
    {
     "name": "stdout",
     "output_type": "stream",
     "text": [
      "                            OLS Regression Results                            \n",
      "==============================================================================\n",
      "Dep. Variable:                mathach   R-squared:                       0.130\n",
      "Model:                            OLS   Adj. R-squared:                  0.130\n",
      "Method:                 Least Squares   F-statistic:                     1075.\n",
      "Date:                Mon, 21 May 2018   Prob (F-statistic):          8.71e-220\n",
      "Time:                        16:45:08   Log-Likelihood:                -23549.\n",
      "No. Observations:                7185   AIC:                         4.710e+04\n",
      "Df Residuals:                    7183   BIC:                         4.712e+04\n",
      "Df Model:                           1                                         \n",
      "Covariance Type:            nonrobust                                         \n",
      "==============================================================================\n",
      "                 coef    std err          t      P>|t|      [0.025      0.975]\n",
      "------------------------------------------------------------------------------\n",
      "Intercept     12.7474      0.076    168.424      0.000      12.599      12.896\n",
      "ses            3.1839      0.097     32.783      0.000       2.993       3.374\n",
      "==============================================================================\n",
      "Omnibus:                      310.172   Durbin-Watson:                   1.820\n",
      "Prob(Omnibus):                  0.000   Jarque-Bera (JB):              152.430\n",
      "Skew:                          -0.159   Prob(JB):                     7.95e-34\n",
      "Kurtosis:                       2.362   Cond. No.                         1.28\n",
      "==============================================================================\n",
      "\n",
      "Warnings:\n",
      "[1] Standard Errors assume that the covariance matrix of the errors is correctly specified.\n"
     ]
    },
    {
     "data": {
      "text/plain": [
       "<matplotlib.collections.PathCollection at 0xbc7fac8>"
      ]
     },
     "execution_count": 21,
     "metadata": {},
     "output_type": "execute_result"
    },
    {
     "data": {
      "image/png": "[encoded data removed]",
      "text/plain": [
       "<matplotlib.figure.Figure at 0xb6e3f28>"
      ]
     },
     "metadata": {},
     "output_type": "display_data"
    }
   ],
   "source": [
    "### Using StatsModels for ols\n",
    "### The display is similar to R\n",
    "result = smf.ols(formula = \"mathach ~ ses\", data = hsb_df).fit()\n",
    "print(result.summary())\n",
    "plt.scatter(hsb_df.ses, hsb_df.mathach, marker=\".\", color=\"c\")"
   ]
  },
  {
   "cell_type": "markdown",
   "metadata": {},
   "source": [
    "Notice that the R-square is only 0.13, but the coefficient is statistically significant."
   ]
  },
  {
   "cell_type": "code",
   "execution_count": 22,
   "metadata": {
    "collapsed": false
   },
   "outputs": [
    {
     "name": "stdout",
     "output_type": "stream",
     "text": [
      "                            OLS Regression Results                            \n",
      "==============================================================================\n",
      "Dep. Variable:                mathach   R-squared:                       0.616\n",
      "Model:                            OLS   Adj. R-squared:                  0.613\n",
      "Method:                 Least Squares   F-statistic:                     253.1\n",
      "Date:                Mon, 21 May 2018   Prob (F-statistic):           1.25e-34\n",
      "Time:                        16:46:28   Log-Likelihood:                -331.96\n",
      "No. Observations:                 160   AIC:                             667.9\n",
      "Df Residuals:                     158   BIC:                             674.1\n",
      "Df Model:                           1                                         \n",
      "Covariance Type:            nonrobust                                         \n",
      "==============================================================================\n",
      "                 coef    std err          t      P>|t|      [0.025      0.975]\n",
      "------------------------------------------------------------------------------\n",
      "Intercept     12.6573      0.153     82.568      0.000      12.355      12.960\n",
      "ses            5.9093      0.371     15.910      0.000       5.176       6.643\n",
      "==============================================================================\n",
      "Omnibus:                        9.782   Durbin-Watson:                   2.166\n",
      "Prob(Omnibus):                  0.008   Jarque-Bera (JB):               20.702\n",
      "Skew:                          -0.122   Prob(JB):                     3.20e-05\n",
      "Kurtosis:                       4.745   Cond. No.                         2.42\n",
      "==============================================================================\n",
      "\n",
      "Warnings:\n",
      "[1] Standard Errors assume that the covariance matrix of the errors is correctly specified.\n"
     ]
    },
    {
     "data": {
      "text/plain": [
       "[<matplotlib.lines.Line2D at 0xbc90240>]"
      ]
     },
     "execution_count": 22,
     "metadata": {},
     "output_type": "execute_result"
    },
    {
     "data": {
      "image/png": "[encoded data removed]",
      "text/plain": [
       "<matplotlib.figure.Figure at 0xbc904a8>"
      ]
     },
     "metadata": {},
     "output_type": "display_data"
    }
   ],
   "source": [
    "### If we fit per school\n",
    "result_school = smf.ols(formula = \"mathach ~ ses\", data = school_gp).fit()\n",
    "print(result_school.summary())\n",
    "plt.scatter(school_gp.ses, school_gp.mathach, marker=\".\", color=\"r\")\n",
    "plt.plot(school_gp.ses, result_school.predict(), \"-\", color=\"r\")"
   ]
  },
  {
   "cell_type": "markdown",
   "metadata": {},
   "source": [
    "We have a nice fit with 61% R2. Our simple graph also show that the effect sếm to be relatively linear. \n",
    "# Fix effects model\n",
    "We consider each school has a separate intercept. "
   ]
  },
  {
   "cell_type": "code",
   "execution_count": 24,
   "metadata": {
    "collapsed": true
   },
   "outputs": [],
   "source": [
    "def demeaned_ses(f):\n",
    "    return f.ses - school_gp.to_dict()['ses'][f['schoolid']]\n",
    "# add the school mean SES to the dataframe for each student\n",
    "def schoolmean_ses(f):\n",
    "    return school_gp.to_dict()['ses'][f['schoolid']]\n",
    "\n",
    "hsb_df['demeaned_ses'] = hsb_df.apply(demeaned_ses, axis=1)\n",
    "hsb_df['schoolmean_ses'] = hsb_df.apply(schoolmean_ses, axis=1)"
   ]
  },
  {
   "cell_type": "code",
   "execution_count": 28,
   "metadata": {
    "collapsed": true
   },
   "outputs": [],
   "source": [
    "hsb_df['schoolid_str'] = hsb_df['schoolid'].map(str)"
   ]
  },
  {
   "cell_type": "code",
   "execution_count": 29,
   "metadata": {
    "collapsed": false
   },
   "outputs": [
    {
     "data": {
      "text/plain": [
       "<matplotlib.axes._subplots.AxesSubplot at 0xcb2dc50>"
      ]
     },
     "execution_count": 29,
     "metadata": {},
     "output_type": "execute_result"
    },
    {
     "data": {
      "image/png": "[encoded data removed]",
      "text/plain": [
       "<matplotlib.figure.Figure at 0xbcfa828>"
      ]
     },
     "metadata": {},
     "output_type": "display_data"
    }
   ],
   "source": [
    " sns.barplot(x=\"schoolid_str\", y=\"mathach\", data=hsb_df)"
   ]
  },
  {
   "cell_type": "code",
   "execution_count": 30,
   "metadata": {
    "collapsed": false
   },
   "outputs": [
    {
     "data": {
      "text/plain": [
       "<matplotlib.axes._subplots.AxesSubplot at 0xcbb0710>"
      ]
     },
     "execution_count": 30,
     "metadata": {},
     "output_type": "execute_result"
    },
    {
     "data": {
      "image/png": "[encoded data removed]",
      "text/plain": [
       "<matplotlib.figure.Figure at 0xcb836a0>"
      ]
     },
     "metadata": {},
     "output_type": "display_data"
    }
   ],
   "source": [
    " sns.barplot(x=\"schoolid_str\", y=\"ses\", data=hsb_df)"
   ]
  },
  {
   "cell_type": "code",
   "execution_count": 37,
   "metadata": {
    "collapsed": false
   },
   "outputs": [
    {
     "name": "stdout",
     "output_type": "stream",
     "text": [
      "                            OLS Regression Results                            \n",
      "==============================================================================\n",
      "Dep. Variable:                mathach   R-squared:                       0.162\n",
      "Model:                            OLS   Adj. R-squared:                  0.162\n",
      "Method:                 Least Squares   F-statistic:                     696.4\n",
      "Date:                Mon, 21 May 2018   Prob (F-statistic):          3.75e-277\n",
      "Time:                        17:12:18   Log-Likelihood:                -23413.\n",
      "No. Observations:                7185   AIC:                         4.683e+04\n",
      "Df Residuals:                    7182   BIC:                         4.685e+04\n",
      "Df Model:                           2                                         \n",
      "Covariance Type:            nonrobust                                         \n",
      "==================================================================================\n",
      "                     coef    std err          t      P>|t|      [0.025      0.975]\n",
      "----------------------------------------------------------------------------------\n",
      "Intercept         12.7470      0.074    171.622      0.000      12.601      12.893\n",
      "ses                2.1912      0.112     19.487      0.000       1.971       2.412\n",
      "schoolmean_ses     3.5257      0.212     16.638      0.000       3.110       3.941\n",
      "==============================================================================\n",
      "Omnibus:                      256.170   Durbin-Watson:                   1.868\n",
      "Prob(Omnibus):                  0.000   Jarque-Bera (JB):              130.631\n",
      "Skew:                          -0.135   Prob(JB):                     4.30e-29\n",
      "Kurtosis:                       2.398   Cond. No.                         2.99\n",
      "==============================================================================\n",
      "\n",
      "Warnings:\n",
      "[1] Standard Errors assume that the covariance matrix of the errors is correctly specified.\n"
     ]
    }
   ],
   "source": [
    "result_school_covary = smf.ols(formula = \"mathach ~ ses + schoolmean_ses\", \n",
    "                 data = hsb_df).fit()\n",
    "print(result_school_covary.summary())"
   ]
  },
  {
   "cell_type": "markdown",
   "metadata": {},
   "source": [
    "We still have very low R^2, but we can see that both the coefficients for both variables are positive. I suspect that the result would be the same if we have dummy variables for school id. Let's check"
   ]
  },
  {
   "cell_type": "code",
   "execution_count": 38,
   "metadata": {
    "collapsed": true
   },
   "outputs": [],
   "source": [
    "hsb_df_dummies = pd.get_dummies(hsb_df, prefix=['schoolid_str'])\n",
    "# hsb_df_dummies.head().T"
   ]
  },
  {
   "cell_type": "code",
   "execution_count": 65,
   "metadata": {
    "collapsed": false
   },
   "outputs": [],
   "source": [
    "dummiesCols = hsb_df_dummies.columns.str.contains(\"schoolid_str_\")\n",
    "dummiesCols = hsb_df_dummies.columns.values[dummiesCols]"
   ]
  },
  {
   "cell_type": "code",
   "execution_count": 70,
   "metadata": {
    "collapsed": false
   },
   "outputs": [],
   "source": [
    "hsb_df_redux = hsb_df_dummies.loc[:,list(dummiesCols) + ['ses','mathach']]"
   ]
  },
  {
   "cell_type": "code",
   "execution_count": 87,
   "metadata": {
    "collapsed": true
   },
   "outputs": [],
   "source": [
    "hsb_df_redux.columns = hsb_df_redux.columns.map(lambda x: x.replace(\".0\",\"\"))"
   ]
  },
  {
   "cell_type": "code",
   "execution_count": 89,
   "metadata": {
    "collapsed": false
   },
   "outputs": [
    {
     "name": "stdout",
     "output_type": "stream",
     "text": [
      "                            OLS Regression Results                            \n",
      "==============================================================================\n",
      "Dep. Variable:                mathach   R-squared:                       0.235\n",
      "Model:                            OLS   Adj. R-squared:                  0.218\n",
      "Method:                 Least Squares   F-statistic:                     13.49\n",
      "Date:                Mon, 21 May 2018   Prob (F-statistic):          1.27e-295\n",
      "Time:                        17:39:23   Log-Likelihood:                -23087.\n",
      "No. Observations:                7185   AIC:                         4.650e+04\n",
      "Df Residuals:                    7024   BIC:                         4.760e+04\n",
      "Df Model:                         160                                         \n",
      "Covariance Type:            nonrobust                                         \n",
      "=====================================================================================\n",
      "                        coef    std err          t      P>|t|      [0.025      0.975]\n",
      "-------------------------------------------------------------------------------------\n",
      "Intercept         -1.651e+12   1.42e+12     -1.165      0.244   -4.43e+12    1.13e+12\n",
      "schoolid_str_1224  1.651e+12   1.42e+12      1.165      0.244   -1.13e+12    4.43e+12\n",
      "schoolid_str_1288  1.651e+12   1.42e+12      1.165      0.244   -1.13e+12    4.43e+12\n",
      "schoolid_str_1296  1.651e+12   1.42e+12      1.165      0.244   -1.13e+12    4.43e+12\n",
      "schoolid_str_1308  1.651e+12   1.42e+12      1.165      0.244   -1.13e+12    4.43e+12\n",
      "schoolid_str_1317  1.651e+12   1.42e+12      1.165      0.244   -1.13e+12    4.43e+12\n",
      "schoolid_str_1358  1.651e+12   1.42e+12      1.165      0.244   -1.13e+12    4.43e+12\n",
      "schoolid_str_1374  1.651e+12   1.42e+12      1.165      0.244   -1.13e+12    4.43e+12\n",
      "schoolid_str_1433  1.651e+12   1.42e+12      1.165      0.244   -1.13e+12    4.43e+12\n",
      "schoolid_str_1436  1.651e+12   1.42e+12      1.165      0.244   -1.13e+12    4.43e+12\n",
      "schoolid_str_1461  1.651e+12   1.42e+12      1.165      0.244   -1.13e+12    4.43e+12\n",
      "schoolid_str_1462  1.651e+12   1.42e+12      1.165      0.244   -1.13e+12    4.43e+12\n",
      "schoolid_str_1477  1.651e+12   1.42e+12      1.165      0.244   -1.13e+12    4.43e+12\n",
      "schoolid_str_1499  1.651e+12   1.42e+12      1.165      0.244   -1.13e+12    4.43e+12\n",
      "schoolid_str_1637  1.651e+12   1.42e+12      1.165      0.244   -1.13e+12    4.43e+12\n",
      "schoolid_str_1906  1.651e+12   1.42e+12      1.165      0.244   -1.13e+12    4.43e+12\n",
      "schoolid_str_1909  1.651e+12   1.42e+12      1.165      0.244   -1.13e+12    4.43e+12\n",
      "schoolid_str_1942  1.651e+12   1.42e+12      1.165      0.244   -1.13e+12    4.43e+12\n",
      "schoolid_str_1946  1.651e+12   1.42e+12      1.165      0.244   -1.13e+12    4.43e+12\n",
      "schoolid_str_2030  1.651e+12   1.42e+12      1.165      0.244   -1.13e+12    4.43e+12\n",
      "schoolid_str_2208  1.651e+12   1.42e+12      1.165      0.244   -1.13e+12    4.43e+12\n",
      "schoolid_str_2277  1.651e+12   1.42e+12      1.165      0.244   -1.13e+12    4.43e+12\n",
      "schoolid_str_2305  1.651e+12   1.42e+12      1.165      0.244   -1.13e+12    4.43e+12\n",
      "schoolid_str_2336  1.651e+12   1.42e+12      1.165      0.244   -1.13e+12    4.43e+12\n",
      "schoolid_str_2458  1.651e+12   1.42e+12      1.165      0.244   -1.13e+12    4.43e+12\n",
      "schoolid_str_2467  1.651e+12   1.42e+12      1.165      0.244   -1.13e+12    4.43e+12\n",
      "schoolid_str_2526  1.651e+12   1.42e+12      1.165      0.244   -1.13e+12    4.43e+12\n",
      "schoolid_str_2626  1.651e+12   1.42e+12      1.165      0.244   -1.13e+12    4.43e+12\n",
      "schoolid_str_2629  1.651e+12   1.42e+12      1.165      0.244   -1.13e+12    4.43e+12\n",
      "schoolid_str_2639  1.651e+12   1.42e+12      1.165      0.244   -1.13e+12    4.43e+12\n",
      "schoolid_str_2651  1.651e+12   1.42e+12      1.165      0.244   -1.13e+12    4.43e+12\n",
      "schoolid_str_2655  1.651e+12   1.42e+12      1.165      0.244   -1.13e+12    4.43e+12\n",
      "schoolid_str_2658  1.651e+12   1.42e+12      1.165      0.244   -1.13e+12    4.43e+12\n",
      "schoolid_str_2755  1.651e+12   1.42e+12      1.165      0.244   -1.13e+12    4.43e+12\n",
      "schoolid_str_2768  1.651e+12   1.42e+12      1.165      0.244   -1.13e+12    4.43e+12\n",
      "schoolid_str_2771  1.651e+12   1.42e+12      1.165      0.244   -1.13e+12    4.43e+12\n",
      "schoolid_str_2818  1.651e+12   1.42e+12      1.165      0.244   -1.13e+12    4.43e+12\n",
      "schoolid_str_2917  1.651e+12   1.42e+12      1.165      0.244   -1.13e+12    4.43e+12\n",
      "schoolid_str_2990  1.651e+12   1.42e+12      1.165      0.244   -1.13e+12    4.43e+12\n",
      "schoolid_str_2995  1.651e+12   1.42e+12      1.165      0.244   -1.13e+12    4.43e+12\n",
      "schoolid_str_3013  1.651e+12   1.42e+12      1.165      0.244   -1.13e+12    4.43e+12\n",
      "schoolid_str_3020  1.651e+12   1.42e+12      1.165      0.244   -1.13e+12    4.43e+12\n",
      "schoolid_str_3039  1.651e+12   1.42e+12      1.165      0.244   -1.13e+12    4.43e+12\n",
      "schoolid_str_3088  1.651e+12   1.42e+12      1.165      0.244   -1.13e+12    4.43e+12\n",
      "schoolid_str_3152  1.651e+12   1.42e+12      1.165      0.244   -1.13e+12    4.43e+12\n",
      "schoolid_str_3332  1.651e+12   1.42e+12      1.165      0.244   -1.13e+12    4.43e+12\n",
      "schoolid_str_3351  1.651e+12   1.42e+12      1.165      0.244   -1.13e+12    4.43e+12\n",
      "schoolid_str_3377  1.651e+12   1.42e+12      1.165      0.244   -1.13e+12    4.43e+12\n",
      "schoolid_str_3427  1.651e+12   1.42e+12      1.165      0.244   -1.13e+12    4.43e+12\n",
      "schoolid_str_3498  1.651e+12   1.42e+12      1.165      0.244   -1.13e+12    4.43e+12\n",
      "schoolid_str_3499  1.651e+12   1.42e+12      1.165      0.244   -1.13e+12    4.43e+12\n",
      "schoolid_str_3533  1.651e+12   1.42e+12      1.165      0.244   -1.13e+12    4.43e+12\n",
      "schoolid_str_3610  1.651e+12   1.42e+12      1.165      0.244   -1.13e+12    4.43e+12\n",
      "schoolid_str_3657  1.651e+12   1.42e+12      1.165      0.244   -1.13e+12    4.43e+12\n",
      "schoolid_str_3688  1.651e+12   1.42e+12      1.165      0.244   -1.13e+12    4.43e+12\n",
      "schoolid_str_3705  1.651e+12   1.42e+12      1.165      0.244   -1.13e+12    4.43e+12\n",
      "schoolid_str_3716  1.651e+12   1.42e+12      1.165      0.244   -1.13e+12    4.43e+12\n",
      "schoolid_str_3838  1.651e+12   1.42e+12      1.165      0.244   -1.13e+12    4.43e+12\n",
      "schoolid_str_3881  1.651e+12   1.42e+12      1.165      0.244   -1.13e+12    4.43e+12\n",
      "schoolid_str_3967  1.651e+12   1.42e+12      1.165      0.244   -1.13e+12    4.43e+12\n",
      "schoolid_str_3992  1.651e+12   1.42e+12      1.165      0.244   -1.13e+12    4.43e+12\n",
      "schoolid_str_3999  1.651e+12   1.42e+12      1.165      0.244   -1.13e+12    4.43e+12\n",
      "schoolid_str_4042  1.651e+12   1.42e+12      1.165      0.244   -1.13e+12    4.43e+12\n",
      "schoolid_str_4173  1.651e+12   1.42e+12      1.165      0.244   -1.13e+12    4.43e+12\n",
      "schoolid_str_4223  1.651e+12   1.42e+12      1.165      0.244   -1.13e+12    4.43e+12\n",
      "schoolid_str_4253  1.651e+12   1.42e+12      1.165      0.244   -1.13e+12    4.43e+12\n",
      "schoolid_str_4292  1.651e+12   1.42e+12      1.165      0.244   -1.13e+12    4.43e+12\n",
      "schoolid_str_4325  1.651e+12   1.42e+12      1.165      0.244   -1.13e+12    4.43e+12\n",
      "schoolid_str_4350  1.651e+12   1.42e+12      1.165      0.244   -1.13e+12    4.43e+12\n",
      "schoolid_str_4383  1.651e+12   1.42e+12      1.165      0.244   -1.13e+12    4.43e+12\n",
      "schoolid_str_4410  1.651e+12   1.42e+12      1.165      0.244   -1.13e+12    4.43e+12\n",
      "schoolid_str_4420  1.651e+12   1.42e+12      1.165      0.244   -1.13e+12    4.43e+12\n",
      "schoolid_str_4458  1.651e+12   1.42e+12      1.165      0.244   -1.13e+12    4.43e+12\n",
      "schoolid_str_4511  1.651e+12   1.42e+12      1.165      0.244   -1.13e+12    4.43e+12\n",
      "schoolid_str_4523  1.651e+12   1.42e+12      1.165      0.244   -1.13e+12    4.43e+12\n",
      "schoolid_str_4530  1.651e+12   1.42e+12      1.165      0.244   -1.13e+12    4.43e+12\n",
      "schoolid_str_4642  1.651e+12   1.42e+12      1.165      0.244   -1.13e+12    4.43e+12\n",
      "schoolid_str_4868  1.651e+12   1.42e+12      1.165      0.244   -1.13e+12    4.43e+12\n",
      "schoolid_str_4931  1.651e+12   1.42e+12      1.165      0.244   -1.13e+12    4.43e+12\n",
      "schoolid_str_5192  1.651e+12   1.42e+12      1.165      0.244   -1.13e+12    4.43e+12\n",
      "schoolid_str_5404  1.651e+12   1.42e+12      1.165      0.244   -1.13e+12    4.43e+12\n",
      "schoolid_str_5619  1.651e+12   1.42e+12      1.165      0.244   -1.13e+12    4.43e+12\n",
      "schoolid_str_5640  1.651e+12   1.42e+12      1.165      0.244   -1.13e+12    4.43e+12\n",
      "schoolid_str_5650  1.651e+12   1.42e+12      1.165      0.244   -1.13e+12    4.43e+12\n",
      "schoolid_str_5667  1.651e+12   1.42e+12      1.165      0.244   -1.13e+12    4.43e+12\n",
      "schoolid_str_5720  1.651e+12   1.42e+12      1.165      0.244   -1.13e+12    4.43e+12\n",
      "schoolid_str_5761  1.651e+12   1.42e+12      1.165      0.244   -1.13e+12    4.43e+12\n",
      "schoolid_str_5762  1.651e+12   1.42e+12      1.165      0.244   -1.13e+12    4.43e+12\n",
      "schoolid_str_5783  1.651e+12   1.42e+12      1.165      0.244   -1.13e+12    4.43e+12\n",
      "schoolid_str_5815  1.651e+12   1.42e+12      1.165      0.244   -1.13e+12    4.43e+12\n",
      "schoolid_str_5819  1.651e+12   1.42e+12      1.165      0.244   -1.13e+12    4.43e+12\n",
      "schoolid_str_5838  1.651e+12   1.42e+12      1.165      0.244   -1.13e+12    4.43e+12\n",
      "schoolid_str_5937  1.651e+12   1.42e+12      1.165      0.244   -1.13e+12    4.43e+12\n",
      "schoolid_str_6074  1.651e+12   1.42e+12      1.165      0.244   -1.13e+12    4.43e+12\n",
      "schoolid_str_6089  1.651e+12   1.42e+12      1.165      0.244   -1.13e+12    4.43e+12\n",
      "schoolid_str_6144  1.651e+12   1.42e+12      1.165      0.244   -1.13e+12    4.43e+12\n",
      "schoolid_str_6170  1.651e+12   1.42e+12      1.165      0.244   -1.13e+12    4.43e+12\n",
      "schoolid_str_6291  1.651e+12   1.42e+12      1.165      0.244   -1.13e+12    4.43e+12\n",
      "schoolid_str_6366  1.651e+12   1.42e+12      1.165      0.244   -1.13e+12    4.43e+12\n",
      "schoolid_str_6397  1.651e+12   1.42e+12      1.165      0.244   -1.13e+12    4.43e+12\n",
      "schoolid_str_6415  1.651e+12   1.42e+12      1.165      0.244   -1.13e+12    4.43e+12\n",
      "schoolid_str_6443  1.651e+12   1.42e+12      1.165      0.244   -1.13e+12    4.43e+12\n",
      "schoolid_str_6464  1.651e+12   1.42e+12      1.165      0.244   -1.13e+12    4.43e+12\n",
      "schoolid_str_6469  1.651e+12   1.42e+12      1.165      0.244   -1.13e+12    4.43e+12\n",
      "schoolid_str_6484  1.651e+12   1.42e+12      1.165      0.244   -1.13e+12    4.43e+12\n",
      "schoolid_str_6578  1.651e+12   1.42e+12      1.165      0.244   -1.13e+12    4.43e+12\n",
      "schoolid_str_6600  1.651e+12   1.42e+12      1.165      0.244   -1.13e+12    4.43e+12\n",
      "schoolid_str_6808  1.651e+12   1.42e+12      1.165      0.244   -1.13e+12    4.43e+12\n",
      "schoolid_str_6816  1.651e+12   1.42e+12      1.165      0.244   -1.13e+12    4.43e+12\n",
      "schoolid_str_6897  1.651e+12   1.42e+12      1.165      0.244   -1.13e+12    4.43e+12\n",
      "schoolid_str_6990  1.651e+12   1.42e+12      1.165      0.244   -1.13e+12    4.43e+12\n",
      "schoolid_str_7011  1.651e+12   1.42e+12      1.165      0.244   -1.13e+12    4.43e+12\n",
      "schoolid_str_7101  1.651e+12   1.42e+12      1.165      0.244   -1.13e+12    4.43e+12\n",
      "schoolid_str_7172  1.651e+12   1.42e+12      1.165      0.244   -1.13e+12    4.43e+12\n",
      "schoolid_str_7232  1.651e+12   1.42e+12      1.165      0.244   -1.13e+12    4.43e+12\n",
      "schoolid_str_7276  1.651e+12   1.42e+12      1.165      0.244   -1.13e+12    4.43e+12\n",
      "schoolid_str_7332  1.651e+12   1.42e+12      1.165      0.244   -1.13e+12    4.43e+12\n",
      "schoolid_str_7341  1.651e+12   1.42e+12      1.165      0.244   -1.13e+12    4.43e+12\n",
      "schoolid_str_7342  1.651e+12   1.42e+12      1.165      0.244   -1.13e+12    4.43e+12\n",
      "schoolid_str_7345  1.651e+12   1.42e+12      1.165      0.244   -1.13e+12    4.43e+12\n",
      "schoolid_str_7364  1.651e+12   1.42e+12      1.165      0.244   -1.13e+12    4.43e+12\n",
      "schoolid_str_7635  1.651e+12   1.42e+12      1.165      0.244   -1.13e+12    4.43e+12\n",
      "schoolid_str_7688  1.651e+12   1.42e+12      1.165      0.244   -1.13e+12    4.43e+12\n",
      "schoolid_str_7697  1.651e+12   1.42e+12      1.165      0.244   -1.13e+12    4.43e+12\n",
      "schoolid_str_7734  1.651e+12   1.42e+12      1.165      0.244   -1.13e+12    4.43e+12\n",
      "schoolid_str_7890  1.651e+12   1.42e+12      1.165      0.244   -1.13e+12    4.43e+12\n",
      "schoolid_str_7919  1.651e+12   1.42e+12      1.165      0.244   -1.13e+12    4.43e+12\n",
      "schoolid_str_8009  1.651e+12   1.42e+12      1.165      0.244   -1.13e+12    4.43e+12\n",
      "schoolid_str_8150  1.651e+12   1.42e+12      1.165      0.244   -1.13e+12    4.43e+12\n",
      "schoolid_str_8165  1.651e+12   1.42e+12      1.165      0.244   -1.13e+12    4.43e+12\n",
      "schoolid_str_8175  1.651e+12   1.42e+12      1.165      0.244   -1.13e+12    4.43e+12\n",
      "schoolid_str_8188  1.651e+12   1.42e+12      1.165      0.244   -1.13e+12    4.43e+12\n",
      "schoolid_str_8193  1.651e+12   1.42e+12      1.165      0.244   -1.13e+12    4.43e+12\n",
      "schoolid_str_8202  1.651e+12   1.42e+12      1.165      0.244   -1.13e+12    4.43e+12\n",
      "schoolid_str_8357  1.651e+12   1.42e+12      1.165      0.244   -1.13e+12    4.43e+12\n",
      "schoolid_str_8367  1.651e+12   1.42e+12      1.165      0.244   -1.13e+12    4.43e+12\n",
      "schoolid_str_8477  1.651e+12   1.42e+12      1.165      0.244   -1.13e+12    4.43e+12\n",
      "schoolid_str_8531  1.651e+12   1.42e+12      1.165      0.244   -1.13e+12    4.43e+12\n",
      "schoolid_str_8627  1.651e+12   1.42e+12      1.165      0.244   -1.13e+12    4.43e+12\n",
      "schoolid_str_8628  1.651e+12   1.42e+12      1.165      0.244   -1.13e+12    4.43e+12\n",
      "schoolid_str_8707  1.651e+12   1.42e+12      1.165      0.244   -1.13e+12    4.43e+12\n",
      "schoolid_str_8775  1.651e+12   1.42e+12      1.165      0.244   -1.13e+12    4.43e+12\n",
      "schoolid_str_8800  1.651e+12   1.42e+12      1.165      0.244   -1.13e+12    4.43e+12\n",
      "schoolid_str_8854  1.651e+12   1.42e+12      1.165      0.244   -1.13e+12    4.43e+12\n",
      "schoolid_str_8857  1.651e+12   1.42e+12      1.165      0.244   -1.13e+12    4.43e+12\n",
      "schoolid_str_8874  1.651e+12   1.42e+12      1.165      0.244   -1.13e+12    4.43e+12\n",
      "schoolid_str_8946  1.651e+12   1.42e+12      1.165      0.244   -1.13e+12    4.43e+12\n",
      "schoolid_str_8983  1.651e+12   1.42e+12      1.165      0.244   -1.13e+12    4.43e+12\n",
      "schoolid_str_9021  1.651e+12   1.42e+12      1.165      0.244   -1.13e+12    4.43e+12\n",
      "schoolid_str_9104  1.651e+12   1.42e+12      1.165      0.244   -1.13e+12    4.43e+12\n",
      "schoolid_str_9158  1.651e+12   1.42e+12      1.165      0.244   -1.13e+12    4.43e+12\n",
      "schoolid_str_9198  1.651e+12   1.42e+12      1.165      0.244   -1.13e+12    4.43e+12\n",
      "schoolid_str_9225  1.651e+12   1.42e+12      1.165      0.244   -1.13e+12    4.43e+12\n",
      "schoolid_str_9292  1.651e+12   1.42e+12      1.165      0.244   -1.13e+12    4.43e+12\n",
      "schoolid_str_9340  1.651e+12   1.42e+12      1.165      0.244   -1.13e+12    4.43e+12\n",
      "schoolid_str_9347  1.651e+12   1.42e+12      1.165      0.244   -1.13e+12    4.43e+12\n",
      "schoolid_str_9359  1.651e+12   1.42e+12      1.165      0.244   -1.13e+12    4.43e+12\n",
      "schoolid_str_9397  1.651e+12   1.42e+12      1.165      0.244   -1.13e+12    4.43e+12\n",
      "schoolid_str_9508  1.651e+12   1.42e+12      1.165      0.244   -1.13e+12    4.43e+12\n",
      "schoolid_str_9550  1.651e+12   1.42e+12      1.165      0.244   -1.13e+12    4.43e+12\n",
      "schoolid_str_9586  1.651e+12   1.42e+12      1.165      0.244   -1.13e+12    4.43e+12\n",
      "ses                   2.1913      0.109     20.167      0.000       1.978       2.404\n",
      "==============================================================================\n",
      "Omnibus:                      165.990   Durbin-Watson:                   2.044\n",
      "Prob(Omnibus):                  0.000   Jarque-Bera (JB):               96.132\n",
      "Skew:                          -0.116   Prob(JB):                     1.33e-21\n",
      "Kurtosis:                       2.483   Cond. No.                     2.51e+14\n",
      "==============================================================================\n",
      "\n",
      "Warnings:\n",
      "[1] Standard Errors assume that the covariance matrix of the errors is correctly specified.\n",
      "[2] The smallest eigenvalue is 1.14e-25. This might indicate that there are\n",
      "strong multicollinearity problems or that the design matrix is singular.\n"
     ]
    }
   ],
   "source": [
    "all_columns = \"+\".join(list(hsb_df_redux.columns)[:-1])\n",
    "result_redux = smf.ols(formula = \"mathach ~ \" + all_columns, data = hsb_df_redux).fit()\n",
    "print(result_redux.summary())"
   ]
  },
  {
   "cell_type": "markdown",
   "metadata": {},
   "source": [
    "Now we have higher R^2, but most of our variables are statistically insignificant. This is a very good exercise.\n",
    "\n",
    "Let's examine the Random Effect models. It appears that my result does not converge like in the original workbook, despite having very similar Negative Log likelihood value."
   ]
  },
  {
   "cell_type": "code",
   "execution_count": 92,
   "metadata": {
    "collapsed": false
   },
   "outputs": [
    {
     "name": "stderr",
     "output_type": "stream",
     "text": [
      "C:\\Anaconda\\lib\\site-packages\\statsmodels\\base\\model.py:508: ConvergenceWarning: Maximum Likelihood optimization failed to converge. Check mle_retvals\n",
      "  \"Check mle_retvals\", ConvergenceWarning)\n",
      "C:\\Anaconda\\lib\\site-packages\\statsmodels\\base\\model.py:508: ConvergenceWarning: Maximum Likelihood optimization failed to converge. Check mle_retvals\n",
      "  \"Check mle_retvals\", ConvergenceWarning)\n",
      "C:\\Anaconda\\lib\\site-packages\\statsmodels\\base\\model.py:508: ConvergenceWarning: Maximum Likelihood optimization failed to converge. Check mle_retvals\n",
      "  \"Check mle_retvals\", ConvergenceWarning)\n",
      "C:\\Anaconda\\lib\\site-packages\\statsmodels\\base\\model.py:508: ConvergenceWarning: Maximum Likelihood optimization failed to converge. Check mle_retvals\n",
      "  \"Check mle_retvals\", ConvergenceWarning)\n"
     ]
    },
    {
     "name": "stdout",
     "output_type": "stream",
     "text": [
      "          Mixed Linear Model Regression Results\n",
      "=========================================================\n",
      "Model:            MixedLM Dependent Variable: mathach    \n",
      "No. Observations: 7185    Method:             REML       \n",
      "No. Groups:       160     Scale:              37.0491    \n",
      "Min. group size:  14      Likelihood:         -23322.5963\n",
      "Max. group size:  67      Converged:          No         \n",
      "Mean group size:  44.9                                   \n",
      "----------------------------------------------------------\n",
      "           Coef.   Std.Err.    z     P>|z|  [0.025  0.975]\n",
      "----------------------------------------------------------\n",
      "Intercept  12.658     0.186  67.919  0.000  12.293  13.023\n",
      "ses         2.394     0.108  22.174  0.000   2.182   2.605\n",
      "Group Var   4.670     0.105                               \n",
      "=========================================================\n",
      "\n"
     ]
    },
    {
     "name": "stderr",
     "output_type": "stream",
     "text": [
      "C:\\Anaconda\\lib\\site-packages\\statsmodels\\base\\model.py:508: ConvergenceWarning: Maximum Likelihood optimization failed to converge. Check mle_retvals\n",
      "  \"Check mle_retvals\", ConvergenceWarning)\n",
      "C:\\Anaconda\\lib\\site-packages\\statsmodels\\regression\\mixed_linear_model.py:2026: ConvergenceWarning: Gradient optimization failed.\n",
      "  warnings.warn(msg, ConvergenceWarning)\n"
     ]
    }
   ],
   "source": [
    "##http://statsmodels.sourceforge.net/devel/mixed_linear.html\n",
    "md = smf.mixedlm(\"mathach ~ ses\", data=hsb_df, groups=hsb_df[\"schoolid\"])\n",
    "result = md.fit()\n",
    "print(result.summary())"
   ]
  }
 ],
 "metadata": {
  "kernelspec": {
   "display_name": "Python [Root]",
   "language": "python",
   "name": "Python [Root]"
  },
  "language_info": {
   "codemirror_mode": {
    "name": "ipython",
    "version": 3
   },
   "file_extension": ".py",
   "mimetype": "text/x-python",
   "name": "python",
   "nbconvert_exporter": "python",
   "pygments_lexer": "ipython3",
   "version": "3.5.2"
  }
 },
 "nbformat": 4,
 "nbformat_minor": 0
}
