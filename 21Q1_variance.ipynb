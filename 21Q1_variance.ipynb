{
 "cells": [
  {
   "cell_type": "code",
   "execution_count": 2,
   "metadata": {},
   "outputs": [],
   "source": [
    "import numpy as np\n",
    "import matplotlib.pyplot as plt\n",
    "%matplotlib inline\n",
    "import pandas as pd\n",
    "from scipy import stats"
   ]
  },
  {
   "cell_type": "markdown",
   "metadata": {},
   "source": [
    "# Tutorials"
   ]
  },
  {
   "cell_type": "code",
   "execution_count": 3,
   "metadata": {},
   "outputs": [],
   "source": [
    "# sampling of the mean\n",
    "num_samples = 1000\n",
    "\n",
    "\n",
    "mu = 10.0\n",
    "sigma = 1.0\n",
    "N = 10000\n",
    "\n",
    "\n",
    "\n",
    "samples = np.random.normal(size=N)\n",
    "len(samples)\n",
    "\n",
    "res, res_pct = [], []\n",
    "for i in range(num_samples):\n",
    "    sample_mean = np.mean(np.random.normal(loc=mu, scale=sigma, size=N))\n",
    "    res.append(sample_mean)\n"
   ]
  },
  {
   "cell_type": "markdown",
   "metadata": {},
   "source": [
    "# Calculating the variance of click through rate"
   ]
  },
  {
   "cell_type": "code",
   "execution_count": 28,
   "metadata": {},
   "outputs": [
    {
     "data": {
      "text/plain": [
       "(10000, 1000)"
      ]
     },
     "execution_count": 28,
     "metadata": {},
     "output_type": "execute_result"
    }
   ],
   "source": [
    "np.random.seed(0)\n",
    "\n",
    "def generate_CTR(users=1000, CTR=0.3, avg_page = 4.5):\n",
    "    users_page = np.random.poisson(avg_page, size=users) + 1\n",
    "    clicks = np.random.binomial(users_page, CTR)\n",
    "    return users_page, clicks\n",
    "\n",
    "# 10000 rows (of samples), each row 1000 users\n",
    "users_page, clicks = generate_CTR(users=(10000,1000))\n",
    "clicks.shape"
   ]
  },
  {
   "cell_type": "code",
   "execution_count": 29,
   "metadata": {},
   "outputs": [
    {
     "data": {
      "text/plain": [
       "(10000,)"
      ]
     },
     "metadata": {},
     "output_type": "display_data"
    },
    {
     "data": {
      "text/plain": [
       "array([0.29638466, 0.28517894, 0.2999068 , 0.31183379, 0.30257271,\n",
       "       0.30338518, 0.2972822 , 0.30147588, 0.29752663, 0.30012702])"
      ]
     },
     "execution_count": 29,
     "metadata": {},
     "output_type": "execute_result"
    }
   ],
   "source": [
    "# CTR1\n",
    "# click-through rate = total clicks / total page views\n",
    "ctr1 = np.sum(clicks, axis=1)*1.0 / np.sum(users_page, axis=1)\n",
    "display(ctr1.shape)\n",
    "ctr1[:10]"
   ]
  },
  {
   "cell_type": "code",
   "execution_count": 34,
   "metadata": {},
   "outputs": [
    {
     "data": {
      "text/plain": [
       "3.8809621546914184e-05"
      ]
     },
     "metadata": {},
     "output_type": "display_data"
    },
    {
     "data": {
      "text/plain": [
       "<matplotlib.axes._subplots.AxesSubplot at 0x1786e512f60>"
      ]
     },
     "execution_count": 34,
     "metadata": {},
     "output_type": "execute_result"
    },
    {
     "data": {
      "image/png": "[encoded data removed]",
      "text/plain": [
       "<Figure size 432x288 with 1 Axes>"
      ]
     },
     "metadata": {
      "needs_background": "light"
     },
     "output_type": "display_data"
    }
   ],
   "source": [
    "display(np.var(ctr1))\n",
    "pd.Series(ctr1).hist()"
   ]
  },
  {
   "cell_type": "markdown",
   "metadata": {},
   "source": [
    "## using a different definition, we have different variance"
   ]
  },
  {
   "cell_type": "code",
   "execution_count": 33,
   "metadata": {},
   "outputs": [
    {
     "data": {
      "text/plain": [
       "(10000,)"
      ]
     },
     "metadata": {},
     "output_type": "display_data"
    },
    {
     "data": {
      "text/plain": [
       "4.6694399337240525e-05"
      ]
     },
     "metadata": {},
     "output_type": "display_data"
    },
    {
     "data": {
      "text/plain": [
       "<matplotlib.axes._subplots.AxesSubplot at 0x1786e27cb00>"
      ]
     },
     "execution_count": 33,
     "metadata": {},
     "output_type": "execute_result"
    },
    {
     "data": {
      "image/png": "[encoded data removed]",
      "text/plain": [
       "<Figure size 432x288 with 1 Axes>"
      ]
     },
     "metadata": {
      "needs_background": "light"
     },
     "output_type": "display_data"
    }
   ],
   "source": [
    "# CT2\n",
    "# average each user's CTR\n",
    "ctr2 = np.mean(clicks *1.0 / users_page, axis=1)\n",
    "display(ctr2.shape)\n",
    "display(np.var(ctr2))\n",
    "pd.Series(ctr2).hist()"
   ]
  },
  {
   "cell_type": "code",
   "execution_count": 32,
   "metadata": {},
   "outputs": [
    {
     "data": {
      "text/plain": [
       "array([0.29936699, 0.28297431, 0.30021615, 0.30894043, 0.29917096,\n",
       "       0.30632883, 0.29582674, 0.30486972, 0.29996168, 0.30059107])"
      ]
     },
     "execution_count": 32,
     "metadata": {},
     "output_type": "execute_result"
    }
   ],
   "source": [
    "ctr2[:10]"
   ]
  },
  {
   "cell_type": "markdown",
   "metadata": {},
   "source": [
    "If I want to replicate the wrong calculation of variance in the book, I need to keep track of the number of clicks by each page. \n",
    "\n",
    "## Let's how the variance change according to the CTR"
   ]
  },
  {
   "cell_type": "code",
   "execution_count": 37,
   "metadata": {},
   "outputs": [
    {
     "name": "stdout",
     "output_type": "stream",
     "text": [
      "19\n"
     ]
    },
    {
     "data": {
      "text/plain": [
       "array([0.02631579, 0.05263158, 0.07894737, 0.10526316, 0.13157895])"
      ]
     },
     "execution_count": 37,
     "metadata": {},
     "output_type": "execute_result"
    }
   ],
   "source": [
    "def generate_CTR(users=1000, CTR=0.3, avg_page = 4.5):\n",
    "    users_page = np.random.poisson(avg_page, size=users) + 1\n",
    "    clicks = np.random.binomial(users_page, CTR)\n",
    "    \n",
    "    ctr1 = np.sum(clicks, axis=1)*1.0 / np.sum(users_page, axis=1)\n",
    "    ctr2 = np.mean(clicks *1.0 / users_page, axis=1)\n",
    "    return np.var(ctr1), np.var(ctr2)\n",
    "CTR_list = np.linspace(0.00,0.5, 20)[1:]\n",
    "CTR_list[:5]"
   ]
  },
  {
   "cell_type": "code",
   "execution_count": 38,
   "metadata": {},
   "outputs": [],
   "source": [
    "res = []\n",
    "for this_ctr in CTR_list:\n",
    "    res.append(list(generate_CTR(users=(10000,1000),CTR=this_ctr)))"
   ]
  },
  {
   "cell_type": "code",
   "execution_count": 39,
   "metadata": {},
   "outputs": [
    {
     "data": {
      "text/plain": [
       "(19, 2)"
      ]
     },
     "execution_count": 39,
     "metadata": {},
     "output_type": "execute_result"
    }
   ],
   "source": [
    "res_np = np.array(res)\n",
    "res_np.shape"
   ]
  },
  {
   "cell_type": "code",
   "execution_count": 47,
   "metadata": {},
   "outputs": [
    {
     "data": {
      "text/plain": [
       "<matplotlib.legend.Legend at 0x178002216d8>"
      ]
     },
     "execution_count": 47,
     "metadata": {},
     "output_type": "execute_result"
    },
    {
     "data": {
      "image/png": "[encoded data removed]",
      "text/plain": [
       "<Figure size 432x288 with 1 Axes>"
      ]
     },
     "metadata": {
      "needs_background": "light"
     },
     "output_type": "display_data"
    }
   ],
   "source": [
    "%precision %.2f\n",
    "fig, ax = plt.subplots()\n",
    "ax.plot(res_np[:, 0], label='ctr1',color='blue')\n",
    "ax.plot(res_np[:, 1], label='ctr2',color='red')\n",
    "ax.set_xlim((0, len(res_np)-1))\n",
    "xticks=range(0, len(res_np))\n",
    "_ = ax.set_xticks(xticks)\n",
    "_ = ax.set_xticklabels(CTR_list, rotation=90)\n",
    "ax.legend()"
   ]
  },
  {
   "cell_type": "markdown",
   "metadata": {},
   "source": [
    "### The wrong way to calculate variance in CTR1\n",
    "$$VAR(CTR_1) = \\frac{\\Sigma_{i=1}^n \\Sigma_{j=1}^{K_j} (X_{ij} - CTR_1)^2}{}{N^2}$$\n",
    "\n",
    "because I do not keep track of $X_{ij}$, I have to do it differently.\n",
    "\n",
    "For each user $i$, we have $X_{ij}$ is either 0 or 1,so:\n",
    "$$\\Sigma_{j=1}^{K_j} (X_{ij} - CTR_1)^2$$\n",
    "$$=NumClicks(1-CTR_1)^2 + (NumPage - NumClicks)CTR_1^2$$\n",
    "\n",
    "applying this:"
   ]
  },
  {
   "cell_type": "code",
   "execution_count": 108,
   "metadata": {},
   "outputs": [
    {
     "data": {
      "text/plain": [
       "array([0.30660989, 0.29372937, 0.30558048, ..., 0.30500814, 0.29878721,\n",
       "       0.29732175])"
      ]
     },
     "metadata": {},
     "output_type": "display_data"
    },
    {
     "data": {
      "text/plain": [
       "array([[0.30660989, 0.30660989, 0.30660989, 0.30660989, 0.30660989],\n",
       "       [0.29372937, 0.29372937, 0.29372937, 0.29372937, 0.29372937],\n",
       "       [0.30558048, 0.30558048, 0.30558048, 0.30558048, 0.30558048],\n",
       "       [0.30457587, 0.30457587, 0.30457587, 0.30457587, 0.30457587],\n",
       "       [0.29665763, 0.29665763, 0.29665763, 0.29665763, 0.29665763]])"
      ]
     },
     "metadata": {},
     "output_type": "display_data"
    }
   ],
   "source": [
    "ctr1_broadcast = np.broadcast_to(ctr1, (1000, ctr1.shape[0])).T\n",
    "display(ctr1)\n",
    "display(ctr1_broadcast[:5, :5])"
   ]
  },
  {
   "cell_type": "code",
   "execution_count": 109,
   "metadata": {},
   "outputs": [
    {
     "data": {
      "text/plain": [
       "(10000, 1000)"
      ]
     },
     "metadata": {},
     "output_type": "display_data"
    },
    {
     "data": {
      "text/plain": [
       "(10000, 1000)"
      ]
     },
     "metadata": {},
     "output_type": "display_data"
    },
    {
     "data": {
      "text/plain": [
       "(10000, 1000)"
      ]
     },
     "metadata": {},
     "output_type": "display_data"
    }
   ],
   "source": [
    "display(clicks.shape, users_page.shape, ctr1_broadcast.shape)"
   ]
  },
  {
   "cell_type": "code",
   "execution_count": 110,
   "metadata": {},
   "outputs": [
    {
     "data": {
      "text/plain": [
       "(10000,)"
      ]
     },
     "metadata": {},
     "output_type": "display_data"
    },
    {
     "data": {
      "text/plain": [
       "array([0.00114825, 0.00113145, 0.0011826 , 0.00117109, 0.00115489,\n",
       "       0.00115312, 0.00117234, 0.00116618, 0.00115127, 0.0011668 ])"
      ]
     },
     "execution_count": 110,
     "metadata": {},
     "output_type": "execute_result"
    }
   ],
   "source": [
    "square_term = clicks * (1- ctr1_broadcast)**2 \n",
    "square_term = square_term + (users_page - clicks)*ctr1_broadcast**2\n",
    "square_term.shape\n",
    "\n",
    "var_term = np.sum(square_term, axis=1) / square_term.shape[1]**2\n",
    "display(var_term.shape)\n",
    "var_term[:10]"
   ]
  },
  {
   "cell_type": "code",
   "execution_count": 111,
   "metadata": {},
   "outputs": [
    {
     "data": {
      "text/plain": [
       "<matplotlib.axes._subplots.AxesSubplot at 0x178099bdac8>"
      ]
     },
     "metadata": {},
     "output_type": "display_data"
    },
    {
     "data": {
      "text/plain": [
       "0.0011549244788413313"
      ]
     },
     "metadata": {},
     "output_type": "display_data"
    },
    {
     "data": {
      "text/plain": [
       "3.7969715415811184e-10"
      ]
     },
     "metadata": {},
     "output_type": "display_data"
    },
    {
     "data": {
      "image/png": "[encoded data removed]",
      "text/plain": [
       "<Figure size 432x288 with 1 Axes>"
      ]
     },
     "metadata": {
      "needs_background": "light"
     },
     "output_type": "display_data"
    }
   ],
   "source": [
    "var_term = pd.Series(var_term)\n",
    "display(var_term.hist())\n",
    "display(var_term.mean(), var_term.var())"
   ]
  },
  {
   "cell_type": "code",
   "execution_count": 112,
   "metadata": {},
   "outputs": [
    {
     "data": {
      "text/plain": [
       "0.033041748347403456"
      ]
     },
     "execution_count": 112,
     "metadata": {},
     "output_type": "execute_result"
    }
   ],
   "source": [
    "np.var(ctr1) / var_term.mean()"
   ]
  },
  {
   "cell_type": "markdown",
   "metadata": {},
   "source": [
    "so the wrong variance is much larger than the true variance. \n",
    "\n",
    "According to the book, this leads to $CTR_1$ was satistically significant far more often than the expected 5%. Is it true? I think my wrong variance is smaller than the true variance.\n",
    "\n",
    "Let's look at the simulation"
   ]
  },
  {
   "cell_type": "markdown",
   "metadata": {},
   "source": [
    "## Using the right variance, p-value is Uniformly distributed"
   ]
  },
  {
   "cell_type": "code",
   "execution_count": 98,
   "metadata": {},
   "outputs": [
    {
     "data": {
      "text/plain": [
       "<matplotlib.axes._subplots.AxesSubplot at 0x17808653390>"
      ]
     },
     "metadata": {},
     "output_type": "display_data"
    },
    {
     "data": {
      "image/png": "[encoded data removed]",
      "text/plain": [
       "<Figure size 432x288 with 1 Axes>"
      ]
     },
     "metadata": {
      "needs_background": "light"
     },
     "output_type": "display_data"
    },
    {
     "data": {
      "text/plain": [
       "<matplotlib.axes._subplots.AxesSubplot at 0x178086ef3c8>"
      ]
     },
     "metadata": {},
     "output_type": "display_data"
    },
    {
     "data": {
      "image/png": "[encoded data removed]",
      "text/plain": [
       "<Figure size 432x288 with 1 Axes>"
      ]
     },
     "metadata": {
      "needs_background": "light"
     },
     "output_type": "display_data"
    }
   ],
   "source": [
    "t_stat = (ctr1 - CTR)/np.std(ctr1)\n",
    "pval = stats.t.sf(abs(t_stat), 1000-1)\n",
    "display(pd.Series(t_stat).hist())\n",
    "plt.show()\n",
    "display(pd.Series(pval).hist())"
   ]
  },
  {
   "cell_type": "markdown",
   "metadata": {},
   "source": [
    "### What if I use a smaller wrong variance\n",
    "p value is significant much more than before"
   ]
  },
  {
   "cell_type": "code",
   "execution_count": 97,
   "metadata": {},
   "outputs": [
    {
     "data": {
      "text/plain": [
       "<matplotlib.axes._subplots.AxesSubplot at 0x178085eac50>"
      ]
     },
     "metadata": {},
     "output_type": "display_data"
    },
    {
     "data": {
      "image/png": "[encoded data removed]",
      "text/plain": [
       "<Figure size 432x288 with 1 Axes>"
      ]
     },
     "metadata": {
      "needs_background": "light"
     },
     "output_type": "display_data"
    }
   ],
   "source": [
    "t_stat2 = (ctr1 - CTR)/np.std(ctr1) * 2\n",
    "pval2 = stats.t.sf(abs(t_stat2), 1000-1) * 2\n",
    "display(pd.Series(pval2).hist())"
   ]
  },
  {
   "cell_type": "markdown",
   "metadata": {},
   "source": [
    "### What if I use a larger wrong variance"
   ]
  },
  {
   "cell_type": "code",
   "execution_count": 99,
   "metadata": {},
   "outputs": [
    {
     "data": {
      "text/plain": [
       "<matplotlib.axes._subplots.AxesSubplot at 0x17808760780>"
      ]
     },
     "metadata": {},
     "output_type": "display_data"
    },
    {
     "data": {
      "image/png": "[encoded data removed]",
      "text/plain": [
       "<Figure size 432x288 with 1 Axes>"
      ]
     },
     "metadata": {
      "needs_background": "light"
     },
     "output_type": "display_data"
    }
   ],
   "source": [
    "t_stat2 = (ctr1 - CTR)/np.std(ctr1) / 2\n",
    "pval2 = stats.t.sf(abs(t_stat2), 1000-1) * 2\n",
    "display(pd.Series(pval2).hist())"
   ]
  },
  {
   "cell_type": "markdown",
   "metadata": {},
   "source": [
    "## so if we have t values without the variance, we can calculate the variance so that p-value's distribution is as close to uniform as possible"
   ]
  },
  {
   "cell_type": "markdown",
   "metadata": {},
   "source": [
    "## Using the wrong variance, p-value is not normally distributed"
   ]
  },
  {
   "cell_type": "code",
   "execution_count": 101,
   "metadata": {},
   "outputs": [
    {
     "data": {
      "text/plain": [
       "<matplotlib.axes._subplots.AxesSubplot at 0x178087ceb00>"
      ]
     },
     "metadata": {},
     "output_type": "display_data"
    },
    {
     "data": {
      "image/png": "[encoded data removed]",
      "text/plain": [
       "<Figure size 432x288 with 1 Axes>"
      ]
     },
     "metadata": {
      "needs_background": "light"
     },
     "output_type": "display_data"
    },
    {
     "data": {
      "text/plain": [
       "<matplotlib.axes._subplots.AxesSubplot at 0x1780890f320>"
      ]
     },
     "metadata": {},
     "output_type": "display_data"
    },
    {
     "data": {
      "image/png": "[encoded data removed]",
      "text/plain": [
       "<Figure size 432x288 with 1 Axes>"
      ]
     },
     "metadata": {
      "needs_background": "light"
     },
     "output_type": "display_data"
    }
   ],
   "source": [
    "# https://stackoverflow.com/questions/17559897/python-p-value-from-t-statistic\n",
    "t_stat = (ctr1 - CTR)/np.sqrt(var_term)\n",
    "pval = stats.t.sf(abs(t_stat), 1000-1) * 2\n",
    "display(pd.Series(t_stat).hist())\n",
    "plt.show()\n",
    "display(pd.Series(pval).hist())"
   ]
  },
  {
   "cell_type": "markdown",
   "metadata": {},
   "source": [
    "### The variance is too large so the value is not significantly different from the assume CTR of 0.3"
   ]
  },
  {
   "cell_type": "markdown",
   "metadata": {},
   "source": [
    "According to the book, this leads to $CTR_1$ was satistically significant far more often than the expected 5%. Is it true? I think my simulation leads to a different answer."
   ]
  },
  {
   "cell_type": "markdown",
   "metadata": {},
   "source": [
    "## Since we are on this topic, let's examine the variance of binomial\n",
    "I know the theoretical variance. Let's just see the empirical variance"
   ]
  },
  {
   "cell_type": "code",
   "execution_count": 50,
   "metadata": {},
   "outputs": [
    {
     "data": {
      "image/png": "[encoded data removed]",
      "text/plain": [
       "<Figure size 432x288 with 1 Axes>"
      ]
     },
     "metadata": {
      "needs_background": "light"
     },
     "output_type": "display_data"
    }
   ],
   "source": [
    "var_list = []\n",
    "\n",
    "CTR_list2 = np.linspace(0.00,0.95, 100)[1:]\n",
    "\n",
    "for this_CTR in CTR_list2:\n",
    "    samples = np.random.binomial(n=1, p=this_CTR, size=1000)\n",
    "    var_list.append(np.var(samples))\n",
    "\n",
    "fig, ax = plt.subplots()\n",
    "ax.plot(var_list, color='blue')\n",
    "\n",
    "ax.set_xlim((0, len(var_list)-1))\n",
    "xticks=list(range(0, len(var_list),10))\n",
    "_ = ax.set_xticks(xticks)\n",
    "_ = ax.set_xticklabels(CTR_list2[xticks], rotation=90)"
   ]
  }
 ],
 "metadata": {
  "kernelspec": {
   "display_name": "Python 3",
   "language": "python",
   "name": "python3"
  },
  "language_info": {
   "codemirror_mode": {
    "name": "ipython",
    "version": 3
   },
   "file_extension": ".py",
   "mimetype": "text/x-python",
   "name": "python",
   "nbconvert_exporter": "python",
   "pygments_lexer": "ipython3",
   "version": "3.7.3"
  }
 },
 "nbformat": 4,
 "nbformat_minor": 4
}
