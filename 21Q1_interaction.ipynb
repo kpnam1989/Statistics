{
 "cells": [
  {
   "cell_type": "code",
   "execution_count": 12,
   "metadata": {},
   "outputs": [
    {
     "data": {
      "text/plain": [
       "(1000, 5)"
      ]
     },
     "execution_count": 12,
     "metadata": {},
     "output_type": "execute_result"
    }
   ],
   "source": [
    "# Source: https://wiseodd.github.io/techblog/2016/06/13/parallel-monte-carlo/\n",
    "\n",
    "import numpy as np\n",
    "import pandas as pd\n",
    "\n",
    "nFact= 5\n",
    "x = np.random.normal(size=(1000, nFact))\n",
    "x.shape"
   ]
  },
  {
   "cell_type": "code",
   "execution_count": 13,
   "metadata": {},
   "outputs": [
    {
     "data": {
      "text/html": [
       "<div>\n",
       "<style scoped>\n",
       "    .dataframe tbody tr th:only-of-type {\n",
       "        vertical-align: middle;\n",
       "    }\n",
       "\n",
       "    .dataframe tbody tr th {\n",
       "        vertical-align: top;\n",
       "    }\n",
       "\n",
       "    .dataframe thead th {\n",
       "        text-align: right;\n",
       "    }\n",
       "</style>\n",
       "<table border=\"1\" class=\"dataframe\">\n",
       "  <thead>\n",
       "    <tr style=\"text-align: right;\">\n",
       "      <th></th>\n",
       "      <th>0</th>\n",
       "      <th>1</th>\n",
       "      <th>2</th>\n",
       "      <th>3</th>\n",
       "      <th>4</th>\n",
       "      <th>const</th>\n",
       "    </tr>\n",
       "  </thead>\n",
       "  <tbody>\n",
       "    <tr>\n",
       "      <th>0</th>\n",
       "      <td>-0.369001</td>\n",
       "      <td>-0.036879</td>\n",
       "      <td>-0.056321</td>\n",
       "      <td>1.588101</td>\n",
       "      <td>0.668590</td>\n",
       "      <td>1</td>\n",
       "    </tr>\n",
       "    <tr>\n",
       "      <th>1</th>\n",
       "      <td>0.995490</td>\n",
       "      <td>-0.810685</td>\n",
       "      <td>-0.917220</td>\n",
       "      <td>-1.363253</td>\n",
       "      <td>0.587433</td>\n",
       "      <td>1</td>\n",
       "    </tr>\n",
       "    <tr>\n",
       "      <th>2</th>\n",
       "      <td>0.671004</td>\n",
       "      <td>0.149767</td>\n",
       "      <td>-1.772313</td>\n",
       "      <td>-0.459589</td>\n",
       "      <td>-0.719039</td>\n",
       "      <td>1</td>\n",
       "    </tr>\n",
       "    <tr>\n",
       "      <th>3</th>\n",
       "      <td>1.544441</td>\n",
       "      <td>1.492151</td>\n",
       "      <td>0.249404</td>\n",
       "      <td>0.211887</td>\n",
       "      <td>0.942992</td>\n",
       "      <td>1</td>\n",
       "    </tr>\n",
       "    <tr>\n",
       "      <th>4</th>\n",
       "      <td>-1.604987</td>\n",
       "      <td>0.393802</td>\n",
       "      <td>-1.372647</td>\n",
       "      <td>-0.224569</td>\n",
       "      <td>1.659159</td>\n",
       "      <td>1</td>\n",
       "    </tr>\n",
       "  </tbody>\n",
       "</table>\n",
       "</div>"
      ],
      "text/plain": [
       "          0         1         2         3         4  const\n",
       "0 -0.369001 -0.036879 -0.056321  1.588101  0.668590      1\n",
       "1  0.995490 -0.810685 -0.917220 -1.363253  0.587433      1\n",
       "2  0.671004  0.149767 -1.772313 -0.459589 -0.719039      1\n",
       "3  1.544441  1.492151  0.249404  0.211887  0.942992      1\n",
       "4 -1.604987  0.393802 -1.372647 -0.224569  1.659159      1"
      ]
     },
     "execution_count": 13,
     "metadata": {},
     "output_type": "execute_result"
    }
   ],
   "source": [
    "x_df = pd.DataFrame(x)\n",
    "x_df['const'] = 1\n",
    "x_df.head()"
   ]
  },
  {
   "cell_type": "code",
   "execution_count": 14,
   "metadata": {},
   "outputs": [
    {
     "data": {
      "text/html": [
       "<div>\n",
       "<style scoped>\n",
       "    .dataframe tbody tr th:only-of-type {\n",
       "        vertical-align: middle;\n",
       "    }\n",
       "\n",
       "    .dataframe tbody tr th {\n",
       "        vertical-align: top;\n",
       "    }\n",
       "\n",
       "    .dataframe thead th {\n",
       "        text-align: right;\n",
       "    }\n",
       "</style>\n",
       "<table border=\"1\" class=\"dataframe\">\n",
       "  <thead>\n",
       "    <tr style=\"text-align: right;\">\n",
       "      <th></th>\n",
       "      <th>const</th>\n",
       "      <th>0</th>\n",
       "      <th>1</th>\n",
       "      <th>2</th>\n",
       "      <th>3</th>\n",
       "      <th>4</th>\n",
       "    </tr>\n",
       "  </thead>\n",
       "  <tbody>\n",
       "    <tr>\n",
       "      <th>0</th>\n",
       "      <td>1</td>\n",
       "      <td>-0.369001</td>\n",
       "      <td>-0.036879</td>\n",
       "      <td>-0.056321</td>\n",
       "      <td>1.588101</td>\n",
       "      <td>0.668590</td>\n",
       "    </tr>\n",
       "    <tr>\n",
       "      <th>1</th>\n",
       "      <td>1</td>\n",
       "      <td>0.995490</td>\n",
       "      <td>-0.810685</td>\n",
       "      <td>-0.917220</td>\n",
       "      <td>-1.363253</td>\n",
       "      <td>0.587433</td>\n",
       "    </tr>\n",
       "    <tr>\n",
       "      <th>2</th>\n",
       "      <td>1</td>\n",
       "      <td>0.671004</td>\n",
       "      <td>0.149767</td>\n",
       "      <td>-1.772313</td>\n",
       "      <td>-0.459589</td>\n",
       "      <td>-0.719039</td>\n",
       "    </tr>\n",
       "    <tr>\n",
       "      <th>3</th>\n",
       "      <td>1</td>\n",
       "      <td>1.544441</td>\n",
       "      <td>1.492151</td>\n",
       "      <td>0.249404</td>\n",
       "      <td>0.211887</td>\n",
       "      <td>0.942992</td>\n",
       "    </tr>\n",
       "    <tr>\n",
       "      <th>4</th>\n",
       "      <td>1</td>\n",
       "      <td>-1.604987</td>\n",
       "      <td>0.393802</td>\n",
       "      <td>-1.372647</td>\n",
       "      <td>-0.224569</td>\n",
       "      <td>1.659159</td>\n",
       "    </tr>\n",
       "  </tbody>\n",
       "</table>\n",
       "</div>"
      ],
      "text/plain": [
       "   const         0         1         2         3         4\n",
       "0      1 -0.369001 -0.036879 -0.056321  1.588101  0.668590\n",
       "1      1  0.995490 -0.810685 -0.917220 -1.363253  0.587433\n",
       "2      1  0.671004  0.149767 -1.772313 -0.459589 -0.719039\n",
       "3      1  1.544441  1.492151  0.249404  0.211887  0.942992\n",
       "4      1 -1.604987  0.393802 -1.372647 -0.224569  1.659159"
      ]
     },
     "execution_count": 14,
     "metadata": {},
     "output_type": "execute_result"
    }
   ],
   "source": [
    "x_df = x_df.loc[:, ['const'] + list(range(nFact))]\n",
    "x_df.head()"
   ]
  },
  {
   "cell_type": "code",
   "execution_count": 15,
   "metadata": {},
   "outputs": [
    {
     "data": {
      "text/html": [
       "<div>\n",
       "<style scoped>\n",
       "    .dataframe tbody tr th:only-of-type {\n",
       "        vertical-align: middle;\n",
       "    }\n",
       "\n",
       "    .dataframe tbody tr th {\n",
       "        vertical-align: top;\n",
       "    }\n",
       "\n",
       "    .dataframe thead th {\n",
       "        text-align: right;\n",
       "    }\n",
       "</style>\n",
       "<table border=\"1\" class=\"dataframe\">\n",
       "  <thead>\n",
       "    <tr style=\"text-align: right;\">\n",
       "      <th></th>\n",
       "      <th>const</th>\n",
       "      <th>0</th>\n",
       "      <th>1</th>\n",
       "      <th>2</th>\n",
       "      <th>3</th>\n",
       "      <th>4</th>\n",
       "      <th>10</th>\n",
       "      <th>23</th>\n",
       "    </tr>\n",
       "  </thead>\n",
       "  <tbody>\n",
       "    <tr>\n",
       "      <th>0</th>\n",
       "      <td>1</td>\n",
       "      <td>-0.369001</td>\n",
       "      <td>-0.036879</td>\n",
       "      <td>-0.056321</td>\n",
       "      <td>1.588101</td>\n",
       "      <td>0.668590</td>\n",
       "      <td>0.013608</td>\n",
       "      <td>-0.089443</td>\n",
       "    </tr>\n",
       "    <tr>\n",
       "      <th>1</th>\n",
       "      <td>1</td>\n",
       "      <td>0.995490</td>\n",
       "      <td>-0.810685</td>\n",
       "      <td>-0.917220</td>\n",
       "      <td>-1.363253</td>\n",
       "      <td>0.587433</td>\n",
       "      <td>-0.807029</td>\n",
       "      <td>1.250402</td>\n",
       "    </tr>\n",
       "    <tr>\n",
       "      <th>2</th>\n",
       "      <td>1</td>\n",
       "      <td>0.671004</td>\n",
       "      <td>0.149767</td>\n",
       "      <td>-1.772313</td>\n",
       "      <td>-0.459589</td>\n",
       "      <td>-0.719039</td>\n",
       "      <td>0.100494</td>\n",
       "      <td>0.814536</td>\n",
       "    </tr>\n",
       "    <tr>\n",
       "      <th>3</th>\n",
       "      <td>1</td>\n",
       "      <td>1.544441</td>\n",
       "      <td>1.492151</td>\n",
       "      <td>0.249404</td>\n",
       "      <td>0.211887</td>\n",
       "      <td>0.942992</td>\n",
       "      <td>2.304538</td>\n",
       "      <td>0.052845</td>\n",
       "    </tr>\n",
       "    <tr>\n",
       "      <th>4</th>\n",
       "      <td>1</td>\n",
       "      <td>-1.604987</td>\n",
       "      <td>0.393802</td>\n",
       "      <td>-1.372647</td>\n",
       "      <td>-0.224569</td>\n",
       "      <td>1.659159</td>\n",
       "      <td>-0.632048</td>\n",
       "      <td>0.308254</td>\n",
       "    </tr>\n",
       "  </tbody>\n",
       "</table>\n",
       "</div>"
      ],
      "text/plain": [
       "   const         0         1         2         3         4        10        23\n",
       "0      1 -0.369001 -0.036879 -0.056321  1.588101  0.668590  0.013608 -0.089443\n",
       "1      1  0.995490 -0.810685 -0.917220 -1.363253  0.587433 -0.807029  1.250402\n",
       "2      1  0.671004  0.149767 -1.772313 -0.459589 -0.719039  0.100494  0.814536\n",
       "3      1  1.544441  1.492151  0.249404  0.211887  0.942992  2.304538  0.052845\n",
       "4      1 -1.604987  0.393802 -1.372647 -0.224569  1.659159 -0.632048  0.308254"
      ]
     },
     "execution_count": 15,
     "metadata": {},
     "output_type": "execute_result"
    }
   ],
   "source": [
    "x_df[10] = x_df[0] * x_df[1]\n",
    "x_df[23] = x_df[2] * x_df[3]\n",
    "x_df.head()"
   ]
  },
  {
   "cell_type": "code",
   "execution_count": 18,
   "metadata": {},
   "outputs": [
    {
     "data": {
      "text/plain": [
       "array([0.28521794, 0.3155912 , 0.85748084, 0.04835334, 0.8019202 ,\n",
       "       0.        , 0.68009235, 0.00958181])"
      ]
     },
     "execution_count": 18,
     "metadata": {},
     "output_type": "execute_result"
    }
   ],
   "source": [
    "# column 4 does not \n",
    "coefs = np.random.uniform(0, 1, size=x_df.shape[1])\n",
    "coefs[nFact] = 0.0\n",
    "coefs"
   ]
  },
  {
   "cell_type": "code",
   "execution_count": 19,
   "metadata": {},
   "outputs": [
    {
     "name": "stdout",
     "output_type": "stream",
     "text": [
      "0.006276336182542888 0.9982275784100622\n"
     ]
    }
   ],
   "source": [
    "log_odds = x_df.values.dot(coefs)\n",
    "probs = 1/(1+ np.exp(-log_odds))\n",
    "print(np.min(probs), np.max(probs))"
   ]
  },
  {
   "cell_type": "code",
   "execution_count": 20,
   "metadata": {},
   "outputs": [
    {
     "data": {
      "text/plain": [
       "<matplotlib.axes._subplots.AxesSubplot at 0x18ded280c48>"
      ]
     },
     "execution_count": 20,
     "metadata": {},
     "output_type": "execute_result"
    },
    {
     "data": {
      "image/png": "[encoded data removed]",
      "text/plain": [
       "<Figure size 432x288 with 1 Axes>"
      ]
     },
     "metadata": {
      "needs_background": "light"
     },
     "output_type": "display_data"
    }
   ],
   "source": [
    "pd.Series(probs).plot.hist()"
   ]
  },
  {
   "cell_type": "code",
   "execution_count": 22,
   "metadata": {},
   "outputs": [
    {
     "data": {
      "text/plain": [
       "count    1000.000000\n",
       "mean        0.562000\n",
       "std         0.496389\n",
       "min         0.000000\n",
       "25%         0.000000\n",
       "50%         1.000000\n",
       "75%         1.000000\n",
       "max         1.000000\n",
       "dtype: float64"
      ]
     },
     "execution_count": 22,
     "metadata": {},
     "output_type": "execute_result"
    }
   ],
   "source": [
    "# generate outcome\n",
    "val = np.random.binomial(1, probs)\n",
    "pd.Series(val).describe()"
   ]
  },
  {
   "cell_type": "code",
   "execution_count": 27,
   "metadata": {},
   "outputs": [
    {
     "data": {
      "text/plain": [
       "RandomForestClassifier(bootstrap=True, ccp_alpha=0.0, class_weight=None,\n",
       "                       criterion='gini', max_depth=None, max_features='auto',\n",
       "                       max_leaf_nodes=None, max_samples=None,\n",
       "                       min_impurity_decrease=0.0, min_impurity_split=None,\n",
       "                       min_samples_leaf=1, min_samples_split=2,\n",
       "                       min_weight_fraction_leaf=0.0, n_estimators=100,\n",
       "                       n_jobs=None, oob_score=False, random_state=None,\n",
       "                       verbose=0, warm_start=False)"
      ]
     },
     "execution_count": 27,
     "metadata": {},
     "output_type": "execute_result"
    }
   ],
   "source": [
    "from sklearn.ensemble import RandomForestClassifier\n",
    "rf = RandomForestClassifier(n_estimators=100)\n",
    "rf.fit(x_df.loc[:,['const'] + [0,1,2,3,4, 10,23]], val)"
   ]
  },
  {
   "cell_type": "code",
   "execution_count": 35,
   "metadata": {},
   "outputs": [
    {
     "data": {
      "text/plain": [
       "array([0.        , 0.12763053, 0.16867516, 0.11460576, 0.21506728,\n",
       "       0.11196012, 0.15597949, 0.10608166])"
      ]
     },
     "execution_count": 35,
     "metadata": {},
     "output_type": "execute_result"
    }
   ],
   "source": [
    "rf.feature_importances_.copy()"
   ]
  },
  {
   "cell_type": "markdown",
   "metadata": {},
   "source": [
    "# Let's put it together"
   ]
  },
  {
   "cell_type": "code",
   "execution_count": 36,
   "metadata": {},
   "outputs": [],
   "source": [
    "res = None\n",
    "select_list = ['const'] + [0,1,2,3,4]\n",
    "nFact = 5\n",
    "\n",
    "for i in range(1000):\n",
    "    np.random.seed(i)\n",
    "    x = np.random.normal(size=(2000, nFact))\n",
    "    x_df = pd.DataFrame(x)\n",
    "    x_df['const'] = 1\n",
    "    x_df = x_df.loc[:, ['const'] + list(range(nFact))]\n",
    "    x_df[10] = x_df[0] * x_df[1]\n",
    "    x_df[23] = x_df[2] * x_df[3]\n",
    "    log_odds = x_df.values.dot(coefs)\n",
    "    probs = 1/(1+ np.exp(-log_odds))\n",
    "    val = np.random.binomial(1, probs)\n",
    "    \n",
    "    rf.fit(x_df.loc[:,select_list], val)\n",
    "    if res is None:\n",
    "        res= rf.feature_importances_.copy()\n",
    "    else:\n",
    "        res = np.vstack((res, rf.feature_importances_))\n"
   ]
  },
  {
   "cell_type": "code",
   "execution_count": 37,
   "metadata": {},
   "outputs": [
    {
     "data": {
      "text/plain": [
       "(1000, 8)"
      ]
     },
     "execution_count": 37,
     "metadata": {},
     "output_type": "execute_result"
    }
   ],
   "source": [
    "res.shape"
   ]
  },
  {
   "cell_type": "code",
   "execution_count": 38,
   "metadata": {},
   "outputs": [
    {
     "data": {
      "text/html": [
       "<div>\n",
       "<style scoped>\n",
       "    .dataframe tbody tr th:only-of-type {\n",
       "        vertical-align: middle;\n",
       "    }\n",
       "\n",
       "    .dataframe tbody tr th {\n",
       "        vertical-align: top;\n",
       "    }\n",
       "\n",
       "    .dataframe thead th {\n",
       "        text-align: right;\n",
       "    }\n",
       "</style>\n",
       "<table border=\"1\" class=\"dataframe\">\n",
       "  <thead>\n",
       "    <tr style=\"text-align: right;\">\n",
       "      <th></th>\n",
       "      <th>const</th>\n",
       "      <th>0</th>\n",
       "      <th>1</th>\n",
       "      <th>2</th>\n",
       "      <th>3</th>\n",
       "      <th>4</th>\n",
       "      <th>10</th>\n",
       "      <th>23</th>\n",
       "    </tr>\n",
       "  </thead>\n",
       "  <tbody>\n",
       "    <tr>\n",
       "      <th>0</th>\n",
       "      <td>0.0</td>\n",
       "      <td>0.143127</td>\n",
       "      <td>0.182681</td>\n",
       "      <td>0.110937</td>\n",
       "      <td>0.200161</td>\n",
       "      <td>0.111625</td>\n",
       "      <td>0.137820</td>\n",
       "      <td>0.113649</td>\n",
       "    </tr>\n",
       "    <tr>\n",
       "      <th>1</th>\n",
       "      <td>0.0</td>\n",
       "      <td>0.130257</td>\n",
       "      <td>0.176721</td>\n",
       "      <td>0.113495</td>\n",
       "      <td>0.197634</td>\n",
       "      <td>0.119588</td>\n",
       "      <td>0.149956</td>\n",
       "      <td>0.112348</td>\n",
       "    </tr>\n",
       "    <tr>\n",
       "      <th>2</th>\n",
       "      <td>0.0</td>\n",
       "      <td>0.134524</td>\n",
       "      <td>0.194211</td>\n",
       "      <td>0.110647</td>\n",
       "      <td>0.191438</td>\n",
       "      <td>0.108870</td>\n",
       "      <td>0.150350</td>\n",
       "      <td>0.109960</td>\n",
       "    </tr>\n",
       "    <tr>\n",
       "      <th>3</th>\n",
       "      <td>0.0</td>\n",
       "      <td>0.139743</td>\n",
       "      <td>0.173696</td>\n",
       "      <td>0.116398</td>\n",
       "      <td>0.196774</td>\n",
       "      <td>0.113721</td>\n",
       "      <td>0.148265</td>\n",
       "      <td>0.111402</td>\n",
       "    </tr>\n",
       "    <tr>\n",
       "      <th>4</th>\n",
       "      <td>0.0</td>\n",
       "      <td>0.126802</td>\n",
       "      <td>0.191850</td>\n",
       "      <td>0.118265</td>\n",
       "      <td>0.196266</td>\n",
       "      <td>0.113880</td>\n",
       "      <td>0.136597</td>\n",
       "      <td>0.116340</td>\n",
       "    </tr>\n",
       "  </tbody>\n",
       "</table>\n",
       "</div>"
      ],
      "text/plain": [
       "   const         0         1         2         3         4        10        23\n",
       "0    0.0  0.143127  0.182681  0.110937  0.200161  0.111625  0.137820  0.113649\n",
       "1    0.0  0.130257  0.176721  0.113495  0.197634  0.119588  0.149956  0.112348\n",
       "2    0.0  0.134524  0.194211  0.110647  0.191438  0.108870  0.150350  0.109960\n",
       "3    0.0  0.139743  0.173696  0.116398  0.196774  0.113721  0.148265  0.111402\n",
       "4    0.0  0.126802  0.191850  0.118265  0.196266  0.113880  0.136597  0.116340"
      ]
     },
     "execution_count": 38,
     "metadata": {},
     "output_type": "execute_result"
    }
   ],
   "source": [
    "res = pd.DataFrame(res, columns=select_list)\n",
    "res.head()"
   ]
  },
  {
   "cell_type": "markdown",
   "metadata": {},
   "source": [
    "Const has no variation so it does not add to the classification"
   ]
  },
  {
   "cell_type": "code",
   "execution_count": 40,
   "metadata": {},
   "outputs": [],
   "source": [
    "res = res.drop(columns=['const'], axis=1)"
   ]
  },
  {
   "cell_type": "code",
   "execution_count": 43,
   "metadata": {},
   "outputs": [],
   "source": [
    "%matplotlib inline"
   ]
  },
  {
   "cell_type": "code",
   "execution_count": 46,
   "metadata": {},
   "outputs": [
    {
     "data": {
      "text/plain": [
       "<matplotlib.axes._subplots.AxesSubplot at 0x18dfe29c208>"
      ]
     },
     "execution_count": 46,
     "metadata": {},
     "output_type": "execute_result"
    },
    {
     "data": {
      "image/png": "[encoded data removed]",
      "text/plain": [
       "<Figure size 432x288 with 1 Axes>"
      ]
     },
     "metadata": {
      "needs_background": "light"
     },
     "output_type": "display_data"
    }
   ],
   "source": [
    "import seaborn as sns\n",
    "sns.barplot(data=res)"
   ]
  }
 ],
 "metadata": {
  "kernelspec": {
   "display_name": "Python 3",
   "language": "python",
   "name": "python3"
  },
  "language_info": {
   "codemirror_mode": {
    "name": "ipython",
    "version": 3
   },
   "file_extension": ".py",
   "mimetype": "text/x-python",
   "name": "python",
   "nbconvert_exporter": "python",
   "pygments_lexer": "ipython3",
   "version": "3.7.4"
  }
 },
 "nbformat": 4,
 "nbformat_minor": 2
}
