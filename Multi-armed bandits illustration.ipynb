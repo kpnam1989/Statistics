{
 "cells": [
  {
   "cell_type": "markdown",
   "metadata": {},
   "source": [
    "This workbook is created based on the presentation at the Data Incubator [here](https://github.com/thedataincubator/DS30_4/blob/master/RLtalk.ipynb). I modify the workbook to:\n",
    "- Incorporate a more object-oriented approach\n",
    "- Draw more similarity between Multi Armed Bandits and A/B test by simulating the reward based a binomial distribution (instead of normal)"
   ]
  },
  {
   "cell_type": "code",
   "execution_count": 20,
   "metadata": {
    "collapsed": false
   },
   "outputs": [],
   "source": [
    "## Source \n",
    "%matplotlib inline\n",
    "import numpy as np\n",
    "import matplotlib.pyplot as plt\n",
    "import scipy.stats as stats\n",
    "from abc import ABC, abstractmethod\n",
    "import seaborn as sns"
   ]
  },
  {
   "cell_type": "markdown",
   "metadata": {},
   "source": [
    "Let's create a base class for our Multi-armed bandit."
   ]
  },
  {
   "cell_type": "code",
   "execution_count": 21,
   "metadata": {
    "collapsed": false
   },
   "outputs": [],
   "source": [
    "class Bandit(ABC):\n",
    "    def __init__(self, arm_values, reward_function):\n",
    "        self.arm_values = arm_values\n",
    "        self.est_values = np.zeros(len(arm_values))\n",
    "        self.K = np.zeros(len(arm_values))\n",
    "        self.numArms = len(arm_values)\n",
    "        self.reward = reward_function\n",
    "        \n",
    "    def get_reward(self, action):\n",
    "        return self.reward(self.arm_values[action])\n",
    "\n",
    "    @abstractmethod\n",
    "    def choose_strategy(self):\n",
    "        pass\n",
    "    \n",
    "    @abstractmethod\n",
    "    def update(self, action, reward):\n",
    "        pass\n",
    "    \n",
    "    def reset(self, arm_values):\n",
    "        self.est_values = np.zeros(len(arm_values))\n",
    "        self.K = np.zeros(len(arm_values))\n",
    "        self.arm_values = arm_values"
   ]
  },
  {
   "cell_type": "markdown",
   "metadata": {},
   "source": [
    "For this approach, we maintain an estimation of reward for each arm. We are inclined to choose the arm with the highest estimated reward, but with probability $\\epsilon$, we pick an arm randomly."
   ]
  },
  {
   "cell_type": "code",
   "execution_count": 22,
   "metadata": {
    "collapsed": false
   },
   "outputs": [],
   "source": [
    "# Bandit using Greedy Epsilon approach\n",
    "class Bandit_Epsilon(Bandit):\n",
    "    def __init__(self, arm_values, reward_function, epsilon):\n",
    "        super(Bandit_Epsilon, self).__init__(arm_values, reward_function)\n",
    "        self.epsilon = epsilon \n",
    "    \n",
    "    def choose_strategy(self):\n",
    "        rand_num = np.random.random()\n",
    "        if self.epsilon > rand_num:\n",
    "            return np.random.randint(10)\n",
    "        else:\n",
    "            # with probability of epsilon we pick the estimated max\n",
    "            return np.argmax(self.est_values)\n",
    "    \n",
    "    def update(self, action, reward):\n",
    "        self.K[action]+= 1\n",
    "        alpha = 1./ self.K[action]\n",
    "        \n",
    "        # running average of reward\n",
    "        self.est_values[action] += alpha * (reward - self.est_values[action])"
   ]
  },
  {
   "cell_type": "code",
   "execution_count": 27,
   "metadata": {
    "collapsed": true
   },
   "outputs": [],
   "source": [
    "# Bandit using Randomized Probability matching\n",
    "class Bandit_RPM(Bandit):\n",
    "    def __init__(self, arm_values, reward_function):\n",
    "        super(Bandit_RPM, self).__init__(arm_values, reward_function)\n",
    "        self.parms = [[1., 1.] for i in arm_values]\n",
    "        \n",
    "    def choose_strategy(self):\n",
    "        # Thompson sampling to choose action\n",
    "        # Not choosing the max posterior BUT\n",
    "        # Sample from each posterior and choose the max of the sample\n",
    "        # see more at: https://agrawal.wikischolars.columbia.edu/file/view/Lecture+4.pdf\n",
    "        samples = np.zeros(self.numArms)\n",
    "        for key in range(self.numArms):\n",
    "            samples[key] = np.random.beta(self.parms[key][0], self.parms[key][1])\n",
    "        \n",
    "        return np.argmax(samples)\n",
    "\n",
    "    def update(self, action, reward):\n",
    "        a, b = self.parms[action]\n",
    "        # Posterior update of beta\n",
    "        self.parms[action] = (a + reward, b + 100 - reward)      \n",
    "        \n",
    "    def reset(self, arm_values):\n",
    "        self.est_values = np.zeros(len(arm_values))\n",
    "        self.K = np.zeros(len(arm_values))\n",
    "        self.parms = [[1., 1.] for i in arm_values]\n",
    "        self.arm_values = arm_values"
   ]
  },
  {
   "cell_type": "markdown",
   "metadata": {},
   "source": [
    "Let's start with our simulation. The arm_values are uniform random."
   ]
  },
  {
   "cell_type": "code",
   "execution_count": 82,
   "metadata": {
    "collapsed": true
   },
   "outputs": [],
   "source": [
    "def experiment(bandit, Npulls):\n",
    "    history = []\n",
    "    for i in range(Npulls):\n",
    "        action = bandit.choose_strategy()\n",
    "        R = bandit.get_reward(action)\n",
    "        bandit.update(action, R)\n",
    "        history.append(R)\n",
    "    return np.array(history)"
   ]
  },
  {
   "cell_type": "code",
   "execution_count": 125,
   "metadata": {
    "collapsed": false
   },
   "outputs": [],
   "source": [
    "np.random.seed(42)\n",
    "Nexp = 300\n",
    "Npulls = 3000\n",
    "\n",
    "tmpVal = [0.0] * 10\n",
    "\n",
    "def binom_reward(param):\n",
    "    return np.random.binomial(100, param)\n",
    "\n",
    "bandits = [Bandit_Epsilon(tmpVal, binom_reward, 0.0)\n",
    "           ,Bandit_Epsilon(tmpVal, binom_reward, 0.01)\n",
    "           ,Bandit_Epsilon(tmpVal, binom_reward, 0.1)\n",
    "           ,Bandit_Epsilon(tmpVal, binom_reward, 0.3)\n",
    "           ,Bandit_RPM(tmpVal, binom_reward)]\n",
    "\n",
    "labels = ['p=0.0'\n",
    "         ,'p=0.01'\n",
    "         ,'p=0.1'\n",
    "         ,'p=0.3'\n",
    "         ,'rpm']\n",
    "\n",
    "res = [np.zeros(Npulls)] * len(bandits)\n",
    "\n",
    "for i in range(Nexp):\n",
    "    arm_values = np.random.uniform(0.01, 0.1, 10)\n",
    "    for model in range(len(bandits)):\n",
    "        bandits[model].reset(arm_values)\n",
    "        res[model] = res[model] + experiment(bandits[model], Npulls)\n",
    "        \n",
    "        # Note:\n",
    "        # cannot use res[model] += res[model]\n",
    "\n",
    "for model in range(len(bandits)):\n",
    "    res[model] /= np.float(Nexp)\n",
    "    "
   ]
  },
  {
   "cell_type": "code",
   "execution_count": 132,
   "metadata": {
    "collapsed": false
   },
   "outputs": [
    {
     "data": {
      "text/plain": [
       "<matplotlib.legend.Legend at 0xcaad9b0>"
      ]
     },
     "execution_count": 132,
     "metadata": {},
     "output_type": "execute_result"
    },
    {
     "data": {
      "image/png": "[encoded data removed]",
      "text/plain": [
       "<matplotlib.figure.Figure at 0xcaadf60>"
      ]
     },
     "metadata": {},
     "output_type": "display_data"
    }
   ],
   "source": [
    "for i in range(len(bandits)):\n",
    "    plt.plot(res[i], label = labels[i])\n",
    "plt.legend()"
   ]
  },
  {
   "cell_type": "markdown",
   "metadata": {},
   "source": [
    "The plot above shows that, except for the greedy approach with p = 0.0, after around 200 pulls, we are able to reach a stable level of reward. We can view the histogram as follows:"
   ]
  },
  {
   "cell_type": "code",
   "execution_count": 126,
   "metadata": {
    "collapsed": false
   },
   "outputs": [
    {
     "data": {
      "text/plain": [
       "<matplotlib.legend.Legend at 0xb800be0>"
      ]
     },
     "execution_count": 126,
     "metadata": {},
     "output_type": "execute_result"
    },
    {
     "data": {
      "image/png": "[encoded data removed]",
      "text/plain": [
       "<matplotlib.figure.Figure at 0xb800b70>"
      ]
     },
     "metadata": {},
     "output_type": "display_data"
    }
   ],
   "source": [
    "for i in range(len(bandits)):\n",
    "    sns.displot(res[i], label = labels[i])\n",
    "plt.legend()"
   ]
  },
  {
   "cell_type": "code",
   "execution_count": 129,
   "metadata": {
    "collapsed": false
   },
   "outputs": [
    {
     "name": "stdout",
     "output_type": "stream",
     "text": [
      "4.88065866667\n",
      "5.10398533333\n",
      "5.56099633333\n",
      "5.65233033333\n",
      "5.27363766667\n"
     ]
    }
   ],
   "source": [
    "for i in range(len(bandits)):\n",
    "    print(np.percentile(res[i], 0.01))"
   ]
  },
  {
   "cell_type": "markdown",
   "metadata": {},
   "source": [
    "There appears to be no monotonic relationship between $\\epsilon$ and the performance of the algorithm: when p = 0.3, the performance is not better than when p = 0.1 or p = 0.01. Overall, the Thompson sampling method has the best performance.\n",
    "\n",
    "# A different reward\n",
    "In the example above, I consider the reward as a Binomial random variable. I would like to see what happen if we use a different reward, hence a different update."
   ]
  },
  {
   "cell_type": "code",
   "execution_count": null,
   "metadata": {
    "collapsed": true
   },
   "outputs": [],
   "source": [
    "class Bandit_RPM_Normal:\n",
    "    def __init__(self, arm_values):\n",
    "        self.parms = arm_values\n",
    "        self.numArms = len(arm_values)\n",
    "        self.K = np.zeros(self.numArms)\n",
    "        self.K[action]+= 1\n",
    "        alpha = 1./ self.K[action]\n",
    "        \n",
    "        # running average of reward\n",
    "        self.est_values[action] += alpha * (reward - self.est_values[action])\n",
    "        \n",
    "    def choose_strategy(self):\n",
    "        samples = np.zeros(self.numArms)\n",
    "        for key in range(self.numArms):\n",
    "            samples[key] = np.random.normal(self.parms[key][0], self.parms[key][1])\n",
    "        \n",
    "        return np.argmax(samples)\n",
    "    \n",
    "    def get_reward(self, action)\n",
    "        sigma_2 = invgamma.rvs(a=3, scale =1, size = n)\n",
    "        sigma = np.sqrt(sigma_2)\n",
    "        z_i = np.random.normal(loc=0.2, scale=0.7, size = n)\n",
    "        reward = np.random.normal(z_i, sigma)\n",
    "        return reward\n",
    "\n",
    "    def update(self, action, reward):\n",
    "        a, b = self.parms[action]\n",
    "        # Posterior update of beta\n",
    "        self.parms[action] = (a + reward, b + 100 - reward)      \n",
    "\n",
    "parms = []\n",
    "real_arms = []\n",
    "for i in range(10):\n",
    "    # Posteior for real value\n",
    "    # sigma_2 = invgamma.rvs(a=3, scale =1, size = n)\n",
    "    # sigma = np.sqrt(sigma_2)\n",
    "    sigma = 0.3\n",
    "    z_i = np.random.normal(loc=0.2, scale=0.7, size = n)\n",
    "    \n",
    "    parms.append((z_i, sigma))\n",
    "\n",
    "bandits = Bandit_RPM_Normal(parms)\n",
    "\n",
    "numPulls = 3000\n",
    "for i in range(numPulls):\n",
    "    "
   ]
  }
 ],
 "metadata": {
  "anaconda-cloud": {},
  "kernelspec": {
   "display_name": "Python [Root]",
   "language": "python",
   "name": "Python [Root]"
  },
  "language_info": {
   "codemirror_mode": {
    "name": "ipython",
    "version": 3
   },
   "file_extension": ".py",
   "mimetype": "text/x-python",
   "name": "python",
   "nbconvert_exporter": "python",
   "pygments_lexer": "ipython3",
   "version": "3.5.2"
  }
 },
 "nbformat": 4,
 "nbformat_minor": 0
}
