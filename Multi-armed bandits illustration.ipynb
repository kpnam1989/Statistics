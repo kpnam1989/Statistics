{
 "cells": [
  {
   "cell_type": "markdown",
   "metadata": {},
   "source": [
    "This workbook is created based on the presentation at the Data Incubator [here](https://github.com/thedataincubator/DS30_4/blob/master/RLtalk.ipynb). I modify the workbook to:\n",
    "- Incorporate a more object-oriented approach\n",
    "- Draw more similarity between Multi Armed Bandits and A/B test by simulating the reward based a binomial distribution (instead of normal)"
   ]
  },
  {
   "cell_type": "code",
   "execution_count": 8,
   "metadata": {
    "collapsed": true
   },
   "outputs": [],
   "source": [
    "## Source \n",
    "%matplotlib inline\n",
    "import numpy as np\n",
    "import matplotlib.pyplot as plt\n",
    "import scipy.stats as stats"
   ]
  },
  {
   "cell_type": "markdown",
   "metadata": {},
   "source": [
    "Let's create a base class for our Multi-armed bandit."
   ]
  },
  {
   "cell_type": "code",
   "execution_count": 92,
   "metadata": {
    "collapsed": true
   },
   "outputs": [],
   "source": [
    "class Bandit(ABC):\n",
    "    def __init__(self, arm_values):\n",
    "        self.arm_values = arm_values\n",
    "        self.est_values = np.zeros(len(arm_values))\n",
    "        self.K = np.zeros(len(arm_values))\n",
    "        self.numArms = len(arm_values)\n",
    "        \n",
    "    def get_reward(self, action):\n",
    "        reward = np.random.binomial(100, self.arm_values[action])\n",
    "        return reward\n",
    "\n",
    "    @abstractmethod\n",
    "    def choose_strategy(self):\n",
    "        pass\n",
    "    \n",
    "    @abstractmethod\n",
    "    def update(self, action, reward):\n",
    "        pass"
   ]
  },
  {
   "cell_type": "markdown",
   "metadata": {},
   "source": [
    "For this approach, we maintain an estimation of reward for each arm. We are inclined to choose the arm with the highest estimated reward, but with probability $\\epsilon$, we pick an arm randomly."
   ]
  },
  {
   "cell_type": "code",
   "execution_count": 94,
   "metadata": {
    "collapsed": false
   },
   "outputs": [],
   "source": [
    "# Bandit using Greedy Epsilon approach\n",
    "class Bandit_Epsilon(Bandit):\n",
    "    def __init__(self, arm_values, epsilon):\n",
    "        super(Bandit_Epsilon, self).__init__(arm_values)\n",
    "        self.epsilon = epsilon \n",
    "    \n",
    "    def choose_strategy(self):\n",
    "        rand_num = np.random.random()\n",
    "        if self.epsilon > rand_num:\n",
    "            return np.random.randint(10)\n",
    "        else:\n",
    "            # with probability of epsilon we pick the estimated max\n",
    "            return np.argmax(self.est_values)\n",
    "    \n",
    "    def update(self, action, reward):\n",
    "        self.K[action]+= 1\n",
    "        alpha = 1./ self.K[action]\n",
    "        \n",
    "        # running average of reward\n",
    "        self.est_values[action] += alpha * (reward - self.est_values[action])"
   ]
  },
  {
   "cell_type": "code",
   "execution_count": 122,
   "metadata": {
    "collapsed": true
   },
   "outputs": [],
   "source": [
    "# Bandit using Randomized Probability matching\n",
    "class Bandit_RPM(Bandit):\n",
    "    def __init__(self, arm_values):\n",
    "        super(Bandit_RPM, self).__init__(arm_values)\n",
    "        self.parms = [[1., 1.] for i in arm_values]\n",
    "        \n",
    "    def choose_strategy(self):\n",
    "        # Thompson sampling to choose action\n",
    "        # Not choosing the max posterior BUT\n",
    "        # Sample from each posterior and choose the max of the sample\n",
    "        # see more at: https://agrawal.wikischolars.columbia.edu/file/view/Lecture+4.pdf\n",
    "        samples = np.zeros(self.numArms)\n",
    "        for key in range(self.numArms):\n",
    "            samples[key] = np.random.beta(self.parms[key][0], self.parms[key][1])\n",
    "        \n",
    "        return np.argmax(samples)\n",
    "\n",
    "    def update(self, action, reward):\n",
    "        a, b = self.parms[action]\n",
    "        # Posterior update of beta\n",
    "        self.parms[action] = (a + reward, b + 100 - reward)      "
   ]
  },
  {
   "cell_type": "markdown",
   "metadata": {},
   "source": [
    "Let's start with our simulation. The arm_values are uniform random."
   ]
  },
  {
   "cell_type": "code",
   "execution_count": 101,
   "metadata": {
    "collapsed": true
   },
   "outputs": [],
   "source": [
    "def experiment(bandit, Npulls):\n",
    "    history = []\n",
    "    for i in range(Npulls):\n",
    "        action = bandit.choose_strategy()\n",
    "        R = bandit.get_reward(action)\n",
    "        bandit.update(action, R)\n",
    "        history.append(R)\n",
    "    return np.array(history)"
   ]
  },
  {
   "cell_type": "code",
   "execution_count": 127,
   "metadata": {
    "collapsed": false
   },
   "outputs": [],
   "source": [
    "Nexp = 100\n",
    "Npulls = 3000\n",
    "avg_outcome_eps0p0 = np.zeros(Npulls)\n",
    "avg_outcome_eps0p01 = np.zeros(Npulls)\n",
    "avg_outcome_eps0p1 = np.zeros(Npulls)\n",
    "avg_outcome_eps0p3 = np.zeros(Npulls)\n",
    "avg_outcome_rpm = np.zeros(Npulls)\n",
    "\n",
    "np.random.seed(42)\n",
    "\n",
    "for i in range(Nexp):\n",
    "    arm_values = np.random.uniform(0.01, 0.1, 10)\n",
    "    bandit = Bandit_Epsilon(arm_values, 0.0)\n",
    "    avg_outcome_eps0p0 += experiment(bandit,Npulls)\n",
    "    \n",
    "    bandit = Bandit_Epsilon(arm_values, 0.01)\n",
    "    avg_outcome_eps0p01 += experiment(bandit,Npulls)\n",
    "    \n",
    "    bandit = Bandit_Epsilon(arm_values, 0.1)\n",
    "    avg_outcome_eps0p1 += experiment(bandit,Npulls)\n",
    "    \n",
    "    bandit = Bandit_Epsilon(arm_values, 0.3)\n",
    "    avg_outcome_eps0p3 += experiment(bandit,Npulls)\n",
    "    \n",
    "    bandit = Bandit_RPM(arm_values)\n",
    "    avg_outcome_rpm += experiment(bandit,Npulls)\n",
    "\n",
    "avg_outcome_eps0p0 /= np.float(Nexp)\n",
    "avg_outcome_eps0p01 /= np.float(Nexp)\n",
    "avg_outcome_eps0p1 /= np.float(Nexp)\n",
    "avg_outcome_eps0p3 /= np.float(Nexp)\n",
    "avg_outcome_rpm /= np.float(Nexp)"
   ]
  },
  {
   "cell_type": "code",
   "execution_count": 128,
   "metadata": {
    "collapsed": false
   },
   "outputs": [
    {
     "data": {
      "text/plain": [
       "<matplotlib.legend.Legend at 0xfe38fd0>"
      ]
     },
     "execution_count": 128,
     "metadata": {},
     "output_type": "execute_result"
    },
    {
     "data": {
      "image/png": "[encoded data removed]",
      "text/plain": [
       "<matplotlib.figure.Figure at 0xfe38630>"
      ]
     },
     "metadata": {},
     "output_type": "display_data"
    }
   ],
   "source": [
    "sns.distplot(avg_outcome_eps0p0, label = 'p=0')\n",
    "sns.distplot(avg_outcome_eps0p01, label = 'p=0.01')\n",
    "sns.distplot(avg_outcome_eps0p1, label = 'p = 0.1')\n",
    "sns.distplot(avg_outcome_eps0p3, label = 'p = 0.3')\n",
    "sns.distplot(avg_outcome_rpm, label = 'rpm')\n",
    "plt.legend()"
   ]
  },
  {
   "cell_type": "code",
   "execution_count": 130,
   "metadata": {
    "collapsed": false
   },
   "outputs": [
    {
     "name": "stdout",
     "output_type": "stream",
     "text": [
      "4.295998\n",
      "4.828997\n",
      "5.160983\n",
      "5.175938\n",
      "5.135988\n"
     ]
    }
   ],
   "source": [
    "print(np.percentile(avg_outcome_eps0p0, 0.01))\n",
    "print(np.percentile(avg_outcome_eps0p01, 0.01))\n",
    "print(np.percentile(avg_outcome_eps0p1, 0.01))\n",
    "print(np.percentile(avg_outcome_eps0p3, 0.01))\n",
    "print(np.percentile(avg_outcome_rpm, 0.01))"
   ]
  },
  {
   "cell_type": "markdown",
   "metadata": {},
   "source": [
    "There appears to be no monotonic relationship between $\\epsilon$ and the performance of the algorithm: when p = 0.3, the performance is not better than when p = 0.1 or p = 0.01. Overall, the Thompson sampling method has the best performance."
   ]
  }
 ],
 "metadata": {
  "anaconda-cloud": {},
  "kernelspec": {
   "display_name": "Python [Root]",
   "language": "python",
   "name": "Python [Root]"
  },
  "language_info": {
   "codemirror_mode": {
    "name": "ipython",
    "version": 3
   },
   "file_extension": ".py",
   "mimetype": "text/x-python",
   "name": "python",
   "nbconvert_exporter": "python",
   "pygments_lexer": "ipython3",
   "version": "3.5.2"
  }
 },
 "nbformat": 4,
 "nbformat_minor": 0
}
