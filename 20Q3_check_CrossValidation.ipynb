{
 "cells": [
  {
   "cell_type": "code",
   "execution_count": 1,
   "metadata": {},
   "outputs": [],
   "source": [
    "import numpy as np\n",
    "import time\n",
    "import pandas as pd\n",
    "import matplotlib.pyplot as plt\n",
    "import pickle\n",
    "\n",
    "# Sklearn\n",
    "from sklearn.model_selection import GridSearchCV, StratifiedKFold, cross_val_score\n",
    "from sklearn.ensemble import RandomForestClassifier, GradientBoostingClassifier\n",
    "from sklearn.metrics import f1_score, precision_recall_fscore_support, precision_recall_curve\n",
    "from sklearn import metrics\n",
    "\n",
    "from sklearn.datasets import make_classification\n",
    "\n",
    "\n",
    "X, y = make_classification(n_features=30, \n",
    "                           random_state=0, n_classes=4, n_samples=4000, \n",
    "                           weights=[0.6, 0.1, 0.1, 0.2],\n",
    "                           n_informative=20)\n",
    "\n",
    "LABEL_SELECT = 1\n"
   ]
  },
  {
   "cell_type": "code",
   "execution_count": 8,
   "metadata": {},
   "outputs": [
    {
     "name": "stdout",
     "output_type": "stream",
     "text": [
      "Train\n"
     ]
    },
    {
     "data": {
      "text/plain": [
       "0    59.59375\n",
       "2    10.25000\n",
       "1    10.09375\n",
       "3    20.06250\n",
       "dtype: float64"
      ]
     },
     "metadata": {},
     "output_type": "display_data"
    },
    {
     "name": "stdout",
     "output_type": "stream",
     "text": [
      "Test\n"
     ]
    },
    {
     "data": {
      "text/plain": [
       "0    59.625\n",
       "1    10.000\n",
       "2    10.250\n",
       "3    20.125\n",
       "dtype: float64"
      ]
     },
     "metadata": {},
     "output_type": "display_data"
    },
    {
     "name": "stdout",
     "output_type": "stream",
     "text": [
      "--------------------------------------------------\n",
      "Train\n"
     ]
    },
    {
     "data": {
      "text/plain": [
       "0    59.59375\n",
       "2    10.25000\n",
       "1    10.09375\n",
       "3    20.06250\n",
       "dtype: float64"
      ]
     },
     "metadata": {},
     "output_type": "display_data"
    },
    {
     "name": "stdout",
     "output_type": "stream",
     "text": [
      "Test\n"
     ]
    },
    {
     "data": {
      "text/plain": [
       "0    59.625\n",
       "1    10.000\n",
       "2    10.250\n",
       "3    20.125\n",
       "dtype: float64"
      ]
     },
     "metadata": {},
     "output_type": "display_data"
    },
    {
     "name": "stdout",
     "output_type": "stream",
     "text": [
      "--------------------------------------------------\n",
      "Train\n"
     ]
    },
    {
     "data": {
      "text/plain": [
       "0    59.59375\n",
       "2    10.25000\n",
       "1    10.06250\n",
       "3    20.09375\n",
       "dtype: float64"
      ]
     },
     "metadata": {},
     "output_type": "display_data"
    },
    {
     "name": "stdout",
     "output_type": "stream",
     "text": [
      "Test\n"
     ]
    },
    {
     "data": {
      "text/plain": [
       "0    59.625\n",
       "1    10.125\n",
       "2    10.250\n",
       "3    20.000\n",
       "dtype: float64"
      ]
     },
     "metadata": {},
     "output_type": "display_data"
    },
    {
     "name": "stdout",
     "output_type": "stream",
     "text": [
      "--------------------------------------------------\n",
      "Train\n"
     ]
    },
    {
     "data": {
      "text/plain": [
       "0    59.59375\n",
       "2    10.25000\n",
       "1    10.06250\n",
       "3    20.09375\n",
       "dtype: float64"
      ]
     },
     "metadata": {},
     "output_type": "display_data"
    },
    {
     "name": "stdout",
     "output_type": "stream",
     "text": [
      "Test\n"
     ]
    },
    {
     "data": {
      "text/plain": [
       "0    59.625\n",
       "1    10.125\n",
       "2    10.250\n",
       "3    20.000\n",
       "dtype: float64"
      ]
     },
     "metadata": {},
     "output_type": "display_data"
    },
    {
     "name": "stdout",
     "output_type": "stream",
     "text": [
      "--------------------------------------------------\n",
      "Train\n"
     ]
    },
    {
     "data": {
      "text/plain": [
       "0    59.6250\n",
       "2    10.2500\n",
       "1    10.0625\n",
       "3    20.0625\n",
       "dtype: float64"
      ]
     },
     "metadata": {},
     "output_type": "display_data"
    },
    {
     "name": "stdout",
     "output_type": "stream",
     "text": [
      "Test\n"
     ]
    },
    {
     "data": {
      "text/plain": [
       "0    59.500\n",
       "1    10.125\n",
       "2    10.250\n",
       "3    20.125\n",
       "dtype: float64"
      ]
     },
     "metadata": {},
     "output_type": "display_data"
    },
    {
     "name": "stdout",
     "output_type": "stream",
     "text": [
      "--------------------------------------------------\n"
     ]
    }
   ],
   "source": [
    "y = pd.Series(y)\n",
    "for train_index, test_index in StratifiedKFold().split(X,y):\n",
    "    print(\"Train\")\n",
    "    display(y[train_index].value_counts(sort=False) / len(train_index) * 100)\n",
    "    print(\"Test\")\n",
    "    display(y[test_index].value_counts(sort=False) / len(test_index) * 100)\n",
    "    print(\"--\" * 25)"
   ]
  }
 ],
 "metadata": {
  "kernelspec": {
   "display_name": "Python 3",
   "language": "python",
   "name": "python3"
  },
  "language_info": {
   "codemirror_mode": {
    "name": "ipython",
    "version": 3
   },
   "file_extension": ".py",
   "mimetype": "text/x-python",
   "name": "python",
   "nbconvert_exporter": "python",
   "pygments_lexer": "ipython3",
   "version": "3.7.3"
  }
 },
 "nbformat": 4,
 "nbformat_minor": 4
}
