{
 "cells": [
  {
   "cell_type": "code",
   "execution_count": 1,
   "metadata": {
    "collapsed": true
   },
   "outputs": [],
   "source": [
    "'''\n",
    "This notebook is based on the source code here:\n",
    "https://github.com/curiousily/Credit-Card-Fraud-Detection-using-Autoencoders-in-Keras\n",
    "\n",
    "'''\n",
    "%matplotlib inline\n",
    "import pandas as pd\n",
    "import numpy as np\n",
    "import matplotlib.pyplot as plt\n",
    "import seaborn as sns\n",
    "\n",
    "PATH = r'/Desktop/Python/Credit Card'\n",
    "data = pd.read_csv('./input/creditcard.csv')"
   ]
  },
  {
   "cell_type": "code",
   "execution_count": 3,
   "metadata": {
    "collapsed": false
   },
   "outputs": [
    {
     "data": {
      "text/html": [
       "<div>\n",
       "<style scoped>\n",
       "    .dataframe tbody tr th:only-of-type {\n",
       "        vertical-align: middle;\n",
       "    }\n",
       "\n",
       "    .dataframe tbody tr th {\n",
       "        vertical-align: top;\n",
       "    }\n",
       "\n",
       "    .dataframe thead th {\n",
       "        text-align: right;\n",
       "    }\n",
       "</style>\n",
       "<table border=\"1\" class=\"dataframe\">\n",
       "  <thead>\n",
       "    <tr style=\"text-align: right;\">\n",
       "      <th></th>\n",
       "      <th>0</th>\n",
       "      <th>1</th>\n",
       "      <th>2</th>\n",
       "      <th>3</th>\n",
       "      <th>4</th>\n",
       "    </tr>\n",
       "  </thead>\n",
       "  <tbody>\n",
       "    <tr>\n",
       "      <th>Time</th>\n",
       "      <td>0.000000</td>\n",
       "      <td>0.000000</td>\n",
       "      <td>1.000000</td>\n",
       "      <td>1.000000</td>\n",
       "      <td>2.000000</td>\n",
       "    </tr>\n",
       "    <tr>\n",
       "      <th>V1</th>\n",
       "      <td>-1.359807</td>\n",
       "      <td>1.191857</td>\n",
       "      <td>-1.358354</td>\n",
       "      <td>-0.966272</td>\n",
       "      <td>-1.158233</td>\n",
       "    </tr>\n",
       "    <tr>\n",
       "      <th>V2</th>\n",
       "      <td>-0.072781</td>\n",
       "      <td>0.266151</td>\n",
       "      <td>-1.340163</td>\n",
       "      <td>-0.185226</td>\n",
       "      <td>0.877737</td>\n",
       "    </tr>\n",
       "    <tr>\n",
       "      <th>V3</th>\n",
       "      <td>2.536347</td>\n",
       "      <td>0.166480</td>\n",
       "      <td>1.773209</td>\n",
       "      <td>1.792993</td>\n",
       "      <td>1.548718</td>\n",
       "    </tr>\n",
       "    <tr>\n",
       "      <th>V4</th>\n",
       "      <td>1.378155</td>\n",
       "      <td>0.448154</td>\n",
       "      <td>0.379780</td>\n",
       "      <td>-0.863291</td>\n",
       "      <td>0.403034</td>\n",
       "    </tr>\n",
       "    <tr>\n",
       "      <th>V5</th>\n",
       "      <td>-0.338321</td>\n",
       "      <td>0.060018</td>\n",
       "      <td>-0.503198</td>\n",
       "      <td>-0.010309</td>\n",
       "      <td>-0.407193</td>\n",
       "    </tr>\n",
       "    <tr>\n",
       "      <th>V6</th>\n",
       "      <td>0.462388</td>\n",
       "      <td>-0.082361</td>\n",
       "      <td>1.800499</td>\n",
       "      <td>1.247203</td>\n",
       "      <td>0.095921</td>\n",
       "    </tr>\n",
       "    <tr>\n",
       "      <th>V7</th>\n",
       "      <td>0.239599</td>\n",
       "      <td>-0.078803</td>\n",
       "      <td>0.791461</td>\n",
       "      <td>0.237609</td>\n",
       "      <td>0.592941</td>\n",
       "    </tr>\n",
       "    <tr>\n",
       "      <th>V8</th>\n",
       "      <td>0.098698</td>\n",
       "      <td>0.085102</td>\n",
       "      <td>0.247676</td>\n",
       "      <td>0.377436</td>\n",
       "      <td>-0.270533</td>\n",
       "    </tr>\n",
       "    <tr>\n",
       "      <th>V9</th>\n",
       "      <td>0.363787</td>\n",
       "      <td>-0.255425</td>\n",
       "      <td>-1.514654</td>\n",
       "      <td>-1.387024</td>\n",
       "      <td>0.817739</td>\n",
       "    </tr>\n",
       "    <tr>\n",
       "      <th>V10</th>\n",
       "      <td>0.090794</td>\n",
       "      <td>-0.166974</td>\n",
       "      <td>0.207643</td>\n",
       "      <td>-0.054952</td>\n",
       "      <td>0.753074</td>\n",
       "    </tr>\n",
       "    <tr>\n",
       "      <th>V11</th>\n",
       "      <td>-0.551600</td>\n",
       "      <td>1.612727</td>\n",
       "      <td>0.624501</td>\n",
       "      <td>-0.226487</td>\n",
       "      <td>-0.822843</td>\n",
       "    </tr>\n",
       "    <tr>\n",
       "      <th>V12</th>\n",
       "      <td>-0.617801</td>\n",
       "      <td>1.065235</td>\n",
       "      <td>0.066084</td>\n",
       "      <td>0.178228</td>\n",
       "      <td>0.538196</td>\n",
       "    </tr>\n",
       "    <tr>\n",
       "      <th>V13</th>\n",
       "      <td>-0.991390</td>\n",
       "      <td>0.489095</td>\n",
       "      <td>0.717293</td>\n",
       "      <td>0.507757</td>\n",
       "      <td>1.345852</td>\n",
       "    </tr>\n",
       "    <tr>\n",
       "      <th>V14</th>\n",
       "      <td>-0.311169</td>\n",
       "      <td>-0.143772</td>\n",
       "      <td>-0.165946</td>\n",
       "      <td>-0.287924</td>\n",
       "      <td>-1.119670</td>\n",
       "    </tr>\n",
       "    <tr>\n",
       "      <th>V15</th>\n",
       "      <td>1.468177</td>\n",
       "      <td>0.635558</td>\n",
       "      <td>2.345865</td>\n",
       "      <td>-0.631418</td>\n",
       "      <td>0.175121</td>\n",
       "    </tr>\n",
       "    <tr>\n",
       "      <th>V16</th>\n",
       "      <td>-0.470401</td>\n",
       "      <td>0.463917</td>\n",
       "      <td>-2.890083</td>\n",
       "      <td>-1.059647</td>\n",
       "      <td>-0.451449</td>\n",
       "    </tr>\n",
       "    <tr>\n",
       "      <th>V17</th>\n",
       "      <td>0.207971</td>\n",
       "      <td>-0.114805</td>\n",
       "      <td>1.109969</td>\n",
       "      <td>-0.684093</td>\n",
       "      <td>-0.237033</td>\n",
       "    </tr>\n",
       "    <tr>\n",
       "      <th>V18</th>\n",
       "      <td>0.025791</td>\n",
       "      <td>-0.183361</td>\n",
       "      <td>-0.121359</td>\n",
       "      <td>1.965775</td>\n",
       "      <td>-0.038195</td>\n",
       "    </tr>\n",
       "    <tr>\n",
       "      <th>V19</th>\n",
       "      <td>0.403993</td>\n",
       "      <td>-0.145783</td>\n",
       "      <td>-2.261857</td>\n",
       "      <td>-1.232622</td>\n",
       "      <td>0.803487</td>\n",
       "    </tr>\n",
       "    <tr>\n",
       "      <th>V20</th>\n",
       "      <td>0.251412</td>\n",
       "      <td>-0.069083</td>\n",
       "      <td>0.524980</td>\n",
       "      <td>-0.208038</td>\n",
       "      <td>0.408542</td>\n",
       "    </tr>\n",
       "    <tr>\n",
       "      <th>V21</th>\n",
       "      <td>-0.018307</td>\n",
       "      <td>-0.225775</td>\n",
       "      <td>0.247998</td>\n",
       "      <td>-0.108300</td>\n",
       "      <td>-0.009431</td>\n",
       "    </tr>\n",
       "    <tr>\n",
       "      <th>V22</th>\n",
       "      <td>0.277838</td>\n",
       "      <td>-0.638672</td>\n",
       "      <td>0.771679</td>\n",
       "      <td>0.005274</td>\n",
       "      <td>0.798278</td>\n",
       "    </tr>\n",
       "    <tr>\n",
       "      <th>V23</th>\n",
       "      <td>-0.110474</td>\n",
       "      <td>0.101288</td>\n",
       "      <td>0.909412</td>\n",
       "      <td>-0.190321</td>\n",
       "      <td>-0.137458</td>\n",
       "    </tr>\n",
       "    <tr>\n",
       "      <th>V24</th>\n",
       "      <td>0.066928</td>\n",
       "      <td>-0.339846</td>\n",
       "      <td>-0.689281</td>\n",
       "      <td>-1.175575</td>\n",
       "      <td>0.141267</td>\n",
       "    </tr>\n",
       "    <tr>\n",
       "      <th>V25</th>\n",
       "      <td>0.128539</td>\n",
       "      <td>0.167170</td>\n",
       "      <td>-0.327642</td>\n",
       "      <td>0.647376</td>\n",
       "      <td>-0.206010</td>\n",
       "    </tr>\n",
       "    <tr>\n",
       "      <th>V26</th>\n",
       "      <td>-0.189115</td>\n",
       "      <td>0.125895</td>\n",
       "      <td>-0.139097</td>\n",
       "      <td>-0.221929</td>\n",
       "      <td>0.502292</td>\n",
       "    </tr>\n",
       "    <tr>\n",
       "      <th>V27</th>\n",
       "      <td>0.133558</td>\n",
       "      <td>-0.008983</td>\n",
       "      <td>-0.055353</td>\n",
       "      <td>0.062723</td>\n",
       "      <td>0.219422</td>\n",
       "    </tr>\n",
       "    <tr>\n",
       "      <th>V28</th>\n",
       "      <td>-0.021053</td>\n",
       "      <td>0.014724</td>\n",
       "      <td>-0.059752</td>\n",
       "      <td>0.061458</td>\n",
       "      <td>0.215153</td>\n",
       "    </tr>\n",
       "    <tr>\n",
       "      <th>Amount</th>\n",
       "      <td>149.620000</td>\n",
       "      <td>2.690000</td>\n",
       "      <td>378.660000</td>\n",
       "      <td>123.500000</td>\n",
       "      <td>69.990000</td>\n",
       "    </tr>\n",
       "    <tr>\n",
       "      <th>Class</th>\n",
       "      <td>0.000000</td>\n",
       "      <td>0.000000</td>\n",
       "      <td>0.000000</td>\n",
       "      <td>0.000000</td>\n",
       "      <td>0.000000</td>\n",
       "    </tr>\n",
       "  </tbody>\n",
       "</table>\n",
       "</div>"
      ],
      "text/plain": [
       "                 0         1           2           3          4\n",
       "Time      0.000000  0.000000    1.000000    1.000000   2.000000\n",
       "V1       -1.359807  1.191857   -1.358354   -0.966272  -1.158233\n",
       "V2       -0.072781  0.266151   -1.340163   -0.185226   0.877737\n",
       "V3        2.536347  0.166480    1.773209    1.792993   1.548718\n",
       "V4        1.378155  0.448154    0.379780   -0.863291   0.403034\n",
       "V5       -0.338321  0.060018   -0.503198   -0.010309  -0.407193\n",
       "V6        0.462388 -0.082361    1.800499    1.247203   0.095921\n",
       "V7        0.239599 -0.078803    0.791461    0.237609   0.592941\n",
       "V8        0.098698  0.085102    0.247676    0.377436  -0.270533\n",
       "V9        0.363787 -0.255425   -1.514654   -1.387024   0.817739\n",
       "V10       0.090794 -0.166974    0.207643   -0.054952   0.753074\n",
       "V11      -0.551600  1.612727    0.624501   -0.226487  -0.822843\n",
       "V12      -0.617801  1.065235    0.066084    0.178228   0.538196\n",
       "V13      -0.991390  0.489095    0.717293    0.507757   1.345852\n",
       "V14      -0.311169 -0.143772   -0.165946   -0.287924  -1.119670\n",
       "V15       1.468177  0.635558    2.345865   -0.631418   0.175121\n",
       "V16      -0.470401  0.463917   -2.890083   -1.059647  -0.451449\n",
       "V17       0.207971 -0.114805    1.109969   -0.684093  -0.237033\n",
       "V18       0.025791 -0.183361   -0.121359    1.965775  -0.038195\n",
       "V19       0.403993 -0.145783   -2.261857   -1.232622   0.803487\n",
       "V20       0.251412 -0.069083    0.524980   -0.208038   0.408542\n",
       "V21      -0.018307 -0.225775    0.247998   -0.108300  -0.009431\n",
       "V22       0.277838 -0.638672    0.771679    0.005274   0.798278\n",
       "V23      -0.110474  0.101288    0.909412   -0.190321  -0.137458\n",
       "V24       0.066928 -0.339846   -0.689281   -1.175575   0.141267\n",
       "V25       0.128539  0.167170   -0.327642    0.647376  -0.206010\n",
       "V26      -0.189115  0.125895   -0.139097   -0.221929   0.502292\n",
       "V27       0.133558 -0.008983   -0.055353    0.062723   0.219422\n",
       "V28      -0.021053  0.014724   -0.059752    0.061458   0.215153\n",
       "Amount  149.620000  2.690000  378.660000  123.500000  69.990000\n",
       "Class     0.000000  0.000000    0.000000    0.000000   0.000000"
      ]
     },
     "execution_count": 3,
     "metadata": {},
     "output_type": "execute_result"
    }
   ],
   "source": [
    "data.head().T"
   ]
  },
  {
   "cell_type": "code",
   "execution_count": 12,
   "metadata": {
    "collapsed": false
   },
   "outputs": [
    {
     "data": {
      "text/plain": [
       "<matplotlib.axes._subplots.AxesSubplot at 0xb40b278>"
      ]
     },
     "execution_count": 12,
     "metadata": {},
     "output_type": "execute_result"
    },
    {
     "data": {
      "image/png": "[encoded data removed]",
      "text/plain": [
       "<matplotlib.figure.Figure at 0xb311748>"
      ]
     },
     "metadata": {},
     "output_type": "display_data"
    }
   ],
   "source": [
    "corr = data.loc[:, 'V1':].corr()\n",
    "\n",
    "# The following code is taken from seaborn webpage\n",
    "# https://seaborn.pydata.org/examples/many_pairwise_correlations.html\n",
    "mask = np.zeros_like(corr, dtype=np.bool)\n",
    "mask[np.triu_indices_from(mask)] = True\n",
    "\n",
    "# Set up the matplotlib figure\n",
    "f, ax = plt.subplots(figsize=(11, 9))\n",
    "\n",
    "# Generate a custom diverging colormap\n",
    "cmap = sns.diverging_palette(220, 10, as_cmap=True)\n",
    "\n",
    "# Draw the heatmap with the mask and correct aspect ratio\n",
    "sns.heatmap(corr, mask=mask, cmap=cmap, vmax=.3, center=0,\n",
    "            square=True, linewidths=.5, cbar_kws={\"shrink\": .5})"
   ]
  },
  {
   "cell_type": "markdown",
   "metadata": {},
   "source": [
    "Columns V1 to V28 are PCAs, so their correlation with one another is zero."
   ]
  },
  {
   "cell_type": "code",
   "execution_count": 26,
   "metadata": {
    "collapsed": false
   },
   "outputs": [
    {
     "data": {
      "text/plain": [
       "<matplotlib.axes._subplots.AxesSubplot at 0xb940d30>"
      ]
     },
     "execution_count": 26,
     "metadata": {},
     "output_type": "execute_result"
    },
    {
     "data": {
      "image/png": "[encoded data removed]",
      "text/plain": [
       "<matplotlib.figure.Figure at 0xc092668>"
      ]
     },
     "metadata": {},
     "output_type": "display_data"
    }
   ],
   "source": [
    "var = np.square(data.loc[:, 'V1':'V28'].std())\n",
    "totalVar = np.sum(var)\n",
    "pct = np.cumsum(var)/totalVar\n",
    "pct.plot()"
   ]
  },
  {
   "cell_type": "code",
   "execution_count": 43,
   "metadata": {
    "collapsed": false
   },
   "outputs": [
    {
     "data": {
      "text/plain": [
       "<matplotlib.text.Text at 0x1aa7b550>"
      ]
     },
     "execution_count": 43,
     "metadata": {},
     "output_type": "execute_result"
    },
    {
     "data": {
      "image/png": "[encoded data removed]",
      "text/plain": [
       "<matplotlib.figure.Figure at 0x1acf96d8>"
      ]
     },
     "metadata": {},
     "output_type": "display_data"
    },
    {
     "data": {
      "image/png": "[encoded data removed]",
      "text/plain": [
       "<matplotlib.figure.Figure at 0x15716080>"
      ]
     },
     "metadata": {},
     "output_type": "display_data"
    }
   ],
   "source": [
    "frauds = data.loc[data.Class == 1]\n",
    "normal = data.loc[data.Class == 0]\n",
    "\n",
    "# Plot the amount\n",
    "f, (ax1, ax2) = plt.subplots(2, 1, sharex=True)\n",
    "f.suptitle('Amount per transaction by class')\n",
    "\n",
    "bins = 50\n",
    "\n",
    "ax1.hist(frauds.Amount, bins = bins)\n",
    "ax1.set_title('Fraud')\n",
    "\n",
    "ax2.hist(normal.Amount, bins = bins)\n",
    "ax2.set_title('Normal')\n",
    "\n",
    "######\n",
    "# Plot the time\n",
    "######\n",
    "f, (ax1, ax2) = plt.subplots(2, 1, sharex=True)\n",
    "f.suptitle('Time of transaction vs Amount by class')\n",
    "\n",
    "ax1.scatter(frauds.Time, frauds.Amount)\n",
    "ax1.set_title('Fraud')\n",
    "\n",
    "ax2.scatter(normal.Time, normal.Amount)\n",
    "ax2.set_title('Normal')"
   ]
  },
  {
   "cell_type": "markdown",
   "metadata": {},
   "source": [
    "## Create training and testing data\n",
    "Here I do it differently from the blog. The blog discards the positive cases of the training set. Here I concatenate that to the testing set. There is no data leakage because the model is not built on the positive training cases.\n",
    "\n",
    "However, performance suffers."
   ]
  },
  {
   "cell_type": "code",
   "execution_count": 64,
   "metadata": {
    "collapsed": false
   },
   "outputs": [
    {
     "name": "stdout",
     "output_type": "stream",
     "text": [
      "(227451, 29)\n",
      "(57356, 29) 492\n"
     ]
    }
   ],
   "source": [
    "from sklearn.preprocessing import StandardScaler\n",
    "from sklearn.model_selection import train_test_split\n",
    "scaler = StandardScaler()\n",
    "\n",
    "RANDOM_SEED = 42\n",
    "X_train, X_test = train_test_split(data.drop(['Time'], axis = 1), test_size=0.2, random_state=RANDOM_SEED)\n",
    "\n",
    "# Unsupervised during training\n",
    "# we only select the negative test cases\n",
    "X_train_positive = X_train[X_train.Class == 1]\n",
    "\n",
    "X_train = X_train[X_train.Class == 0]\n",
    "X_train = X_train.drop(['Class'], axis=1)\n",
    "X_train['Amount'] = scaler.fit_transform(X_train.Amount.values.reshape(-1,1))\n",
    "\n",
    "X_test = pd.concat([X_train_positive, X_test])\n",
    "y_test = X_test['Class']\n",
    "X_test = X_test.drop(['Class'], axis=1)\n",
    "X_test['Amount'] = scaler.transform(X_test.Amount.values.reshape(-1, 1))"
   ]
  },
  {
   "cell_type": "code",
   "execution_count": 65,
   "metadata": {
    "collapsed": false
   },
   "outputs": [
    {
     "name": "stdout",
     "output_type": "stream",
     "text": [
      "(227451, 29)\n",
      "(57356, 29) 492\n"
     ]
    }
   ],
   "source": [
    "X_train = X_train.values\n",
    "X_test = X_test.values\n",
    "print(X_train.shape)\n",
    "print(X_test.shape,  np.sum(y_test))"
   ]
  },
  {
   "cell_type": "code",
   "execution_count": 35,
   "metadata": {
    "collapsed": false
   },
   "outputs": [
    {
     "name": "stderr",
     "output_type": "stream",
     "text": [
      "Using TensorFlow backend.\n"
     ]
    }
   ],
   "source": [
    "input_dim = X_train.shape[1]\n",
    "encoding_dim = 14\n",
    "\n",
    "from keras.models import Model, load_model\n",
    "from keras.layers import Input, Dense\n",
    "from keras.callbacks import ModelCheckpoint, TensorBoard\n",
    "from keras import regularizers\n",
    "\n",
    "from scipy import stats \n",
    "\n",
    "def MyModel(input_dim):\n",
    "    input_layers = Input(shape = (input_dim, ))\n",
    "    \n",
    "    encoder = Dense(encoding_dim, activation=\"elu\",\n",
    "                    activity_regularizer=regularizers.l1(10e-5))(input_layers)\n",
    "    \n",
    "    represent = Dense(int(encoding_dim/2), activation = \"elu\")(encoder)\n",
    "    \n",
    "    decoder = Dense(input_dim, activation = \"elu\")(represent)\n",
    "    autoencoder = Model(inputs=input_layers, outputs = decoder)\n",
    "    return autoencoder\n",
    "\n",
    "def ExampleModel(input_dim):\n",
    "    input_layer = Input(shape=(input_dim, ))\n",
    "    encoder = Dense(encoding_dim, activation=\"tanh\", \n",
    "                    activity_regularizer=regularizers.l1(10e-5))(input_layer)\n",
    "    encoder = Dense(int(encoding_dim / 2), activation=\"relu\")(encoder)\n",
    "    decoder = Dense(int(encoding_dim / 2), activation='tanh')(encoder)\n",
    "    decoder = Dense(input_dim, activation='relu')(decoder)\n",
    "    autoencoder = Model(inputs=input_layer, outputs=decoder)\n",
    "    return autoencoder"
   ]
  },
  {
   "cell_type": "code",
   "execution_count": 75,
   "metadata": {
    "collapsed": false
   },
   "outputs": [
    {
     "name": "stdout",
     "output_type": "stream",
     "text": [
      "runtime 1.203236977259318\n"
     ]
    }
   ],
   "source": [
    "import time \n",
    "nb_epoch = 10\n",
    "batch_size = 32\n",
    "checkpointer = ModelCheckpoint(filepath=\"model.h5\",\n",
    "                               verbose=0,\n",
    "                               save_best_only=True)\n",
    "tensorboard = TensorBoard(log_dir='./logs',\n",
    "                          histogram_freq=0,\n",
    "                          write_graph=True,\n",
    "                          write_images=True)\n",
    "\n",
    "autoencoder = MyModel(input_dim)\n",
    "autoencoder.compile(optimizer='adam', \n",
    "                    loss='mean_squared_error', \n",
    "                    metrics=['accuracy'])\n",
    "\n",
    "start = time.time()\n",
    "\n",
    "### autoencoder.fit will return an object that contains history\n",
    "### notice: .history at the end\n",
    "### history is a dictionary\n",
    "history = autoencoder.fit(X_train, X_train,\n",
    "                    epochs=nb_epoch,\n",
    "                    batch_size=batch_size,\n",
    "                    shuffle=True,\n",
    "                    validation_data=(X_test, X_test),\n",
    "                    verbose=0,\n",
    "                    callbacks=[checkpointer, tensorboard]).history\n",
    "                          \n",
    "end = time.time()\n",
    "print(\"runtime\",(end-start)/60)"
   ]
  },
  {
   "cell_type": "code",
   "execution_count": 76,
   "metadata": {
    "collapsed": false
   },
   "outputs": [
    {
     "name": "stdout",
     "output_type": "stream",
     "text": [
      "_________________________________________________________________\n",
      "Layer (type)                 Output Shape              Param #   \n",
      "=================================================================\n",
      "input_3 (InputLayer)         (None, 29)                0         \n",
      "_________________________________________________________________\n",
      "dense_7 (Dense)              (None, 14)                420       \n",
      "_________________________________________________________________\n",
      "dense_8 (Dense)              (None, 7)                 105       \n",
      "_________________________________________________________________\n",
      "dense_9 (Dense)              (None, 29)                232       \n",
      "=================================================================\n",
      "Total params: 757\n",
      "Trainable params: 757\n",
      "Non-trainable params: 0\n",
      "_________________________________________________________________\n"
     ]
    }
   ],
   "source": [
    "autoencoder.summary()"
   ]
  },
  {
   "cell_type": "code",
   "execution_count": 77,
   "metadata": {
    "collapsed": false
   },
   "outputs": [
    {
     "data": {
      "text/plain": [
       "<matplotlib.legend.Legend at 0xdc80b00>"
      ]
     },
     "execution_count": 77,
     "metadata": {},
     "output_type": "execute_result"
    },
    {
     "data": {
      "image/png": "[encoded data removed]",
      "text/plain": [
       "<matplotlib.figure.Figure at 0xdcf7f60>"
      ]
     },
     "metadata": {},
     "output_type": "display_data"
    }
   ],
   "source": [
    "### Visualizing the training process\n",
    "autoencoder.save(\"model.h5\")\n",
    "\n",
    "plt.plot(history['loss'])\n",
    "plt.plot(history['val_loss'])\n",
    "plt.title('model loss')\n",
    "plt.ylabel('loss')\n",
    "plt.xlabel('epoch')\n",
    "plt.legend(['train', 'test'], loc='upper right')"
   ]
  },
  {
   "cell_type": "markdown",
   "metadata": {},
   "source": [
    "We can certainly try for more epoches, but it seems that the reconstruction for the testing cases almost flatten at 3 epoches. The error of test sets are bound to be higher, particularly due to all the fraud cases. \n",
    "\n",
    "Let's test the reconstruction error of our model. We can see that there is a relative difference in Reconstruction Error between the Fraud and non-fraud instances."
   ]
  },
  {
   "cell_type": "code",
   "execution_count": 78,
   "metadata": {
    "collapsed": false
   },
   "outputs": [
    {
     "data": {
      "text/plain": [
       "<matplotlib.axes._subplots.AxesSubplot at 0xdcde588>"
      ]
     },
     "execution_count": 78,
     "metadata": {},
     "output_type": "execute_result"
    },
    {
     "data": {
      "image/png": "[encoded data removed]",
      "text/plain": [
       "<matplotlib.figure.Figure at 0xdc9eb38>"
      ]
     },
     "metadata": {},
     "output_type": "display_data"
    }
   ],
   "source": [
    "predictions = autoencoder.predict(X_test)\n",
    "mse = np.mean(np.power(X_test - predictions, 2), axis=1)\n",
    "error_df = pd.DataFrame({'reconstruction_error': mse,\n",
    "                        'true_class': y_test})\n",
    "error_df.boxplot(column='reconstruction_error', by = 'true_class')"
   ]
  },
  {
   "cell_type": "code",
   "execution_count": 84,
   "metadata": {
    "collapsed": false
   },
   "outputs": [
    {
     "data": {
      "text/html": [
       "<div>\n",
       "<style scoped>\n",
       "    .dataframe tbody tr th:only-of-type {\n",
       "        vertical-align: middle;\n",
       "    }\n",
       "\n",
       "    .dataframe tbody tr th {\n",
       "        vertical-align: top;\n",
       "    }\n",
       "\n",
       "    .dataframe thead tr th {\n",
       "        text-align: left;\n",
       "    }\n",
       "\n",
       "    .dataframe thead tr:last-of-type th {\n",
       "        text-align: right;\n",
       "    }\n",
       "</style>\n",
       "<table border=\"1\" class=\"dataframe\">\n",
       "  <thead>\n",
       "    <tr>\n",
       "      <th></th>\n",
       "      <th colspan=\"8\" halign=\"left\">reconstruction_error</th>\n",
       "    </tr>\n",
       "    <tr>\n",
       "      <th></th>\n",
       "      <th>count</th>\n",
       "      <th>mean</th>\n",
       "      <th>std</th>\n",
       "      <th>min</th>\n",
       "      <th>25%</th>\n",
       "      <th>50%</th>\n",
       "      <th>75%</th>\n",
       "      <th>max</th>\n",
       "    </tr>\n",
       "    <tr>\n",
       "      <th>true_class</th>\n",
       "      <th></th>\n",
       "      <th></th>\n",
       "      <th></th>\n",
       "      <th></th>\n",
       "      <th></th>\n",
       "      <th></th>\n",
       "      <th></th>\n",
       "      <th></th>\n",
       "    </tr>\n",
       "  </thead>\n",
       "  <tbody>\n",
       "    <tr>\n",
       "      <th>0</th>\n",
       "      <td>56,864.00</td>\n",
       "      <td>0.53</td>\n",
       "      <td>2.36</td>\n",
       "      <td>0.03</td>\n",
       "      <td>0.16</td>\n",
       "      <td>0.26</td>\n",
       "      <td>0.45</td>\n",
       "      <td>141.35</td>\n",
       "    </tr>\n",
       "    <tr>\n",
       "      <th>1</th>\n",
       "      <td>492.00</td>\n",
       "      <td>27.43</td>\n",
       "      <td>38.44</td>\n",
       "      <td>0.12</td>\n",
       "      <td>4.71</td>\n",
       "      <td>10.48</td>\n",
       "      <td>27.61</td>\n",
       "      <td>289.91</td>\n",
       "    </tr>\n",
       "  </tbody>\n",
       "</table>\n",
       "</div>"
      ],
      "text/plain": [
       "           reconstruction_error                                         \n",
       "                          count  mean   std  min  25%   50%   75%    max\n",
       "true_class                                                              \n",
       "0                     56,864.00  0.53  2.36 0.03 0.16  0.26  0.45 141.35\n",
       "1                        492.00 27.43 38.44 0.12 4.71 10.48 27.61 289.91"
      ]
     },
     "execution_count": 84,
     "metadata": {},
     "output_type": "execute_result"
    }
   ],
   "source": [
    "pd.options.display.float_format = '{:,.2f}'.format\n",
    "error_df.groupby('true_class').describe()"
   ]
  },
  {
   "cell_type": "code",
   "execution_count": 80,
   "metadata": {
    "collapsed": false
   },
   "outputs": [
    {
     "data": {
      "text/plain": [
       "array([<matplotlib.axes._subplots.AxesSubplot object at 0x000000000D4FDEB8>,\n",
       "       <matplotlib.axes._subplots.AxesSubplot object at 0x00000000227E7710>], dtype=object)"
      ]
     },
     "execution_count": 80,
     "metadata": {},
     "output_type": "execute_result"
    },
    {
     "data": {
      "image/png": "[encoded data removed]",
      "text/plain": [
       "<matplotlib.figure.Figure at 0x1a5e3438>"
      ]
     },
     "metadata": {},
     "output_type": "display_data"
    }
   ],
   "source": [
    "error_df.hist(column = 'reconstruction_error', by = 'true_class')"
   ]
  },
  {
   "cell_type": "code",
   "execution_count": 81,
   "metadata": {
    "collapsed": false
   },
   "outputs": [
    {
     "data": {
      "text/plain": [
       "(0, 300)"
      ]
     },
     "execution_count": 81,
     "metadata": {},
     "output_type": "execute_result"
    },
    {
     "data": {
      "image/png": "[encoded data removed]",
      "text/plain": [
       "<matplotlib.figure.Figure at 0x1af3ca90>"
      ]
     },
     "metadata": {},
     "output_type": "display_data"
    }
   ],
   "source": [
    "# Fancier visualization\n",
    "normal_error_df = error_df[error_df['true_class']== 0]\n",
    "fraud_error_df = error_df[error_df['true_class']== 1]\n",
    "\n",
    "f, (ax1, ax2) = plt.subplots(2,1, figsize = (4, 4))\n",
    "sns.distplot(normal_error_df.reconstruction_error, ax=ax1)\n",
    "ax1.set_xlim(0, 300)\n",
    "\n",
    "sns.distplot(fraud_error_df.reconstruction_error, ax=ax2)\n",
    "ax2.set_xlim(0, 300)"
   ]
  },
  {
   "cell_type": "markdown",
   "metadata": {},
   "source": [
    "The article proceeds to identify fraud cases using Reconstruction Error. "
   ]
  },
  {
   "cell_type": "code",
   "execution_count": 82,
   "metadata": {
    "collapsed": false
   },
   "outputs": [
    {
     "data": {
      "image/png": "[encoded data removed]",
      "text/plain": [
       "<matplotlib.figure.Figure at 0x1b88ceb8>"
      ]
     },
     "metadata": {},
     "output_type": "display_data"
    }
   ],
   "source": [
    "from sklearn.metrics import (confusion_matrix, precision_recall_curve, auc,\n",
    "                             roc_curve, recall_score, classification_report, f1_score,\n",
    "                             precision_recall_fscore_support)\n",
    "\n",
    "fpr, tpr, thresholds = roc_curve(error_df.true_class, error_df.reconstruction_error)\n",
    "roc_auc = auc(fpr, tpr)\n",
    "\n",
    "plt.title('Receiver Operating Characteristic')\n",
    "plt.plot(fpr, tpr, label='AUC = %0.4f'% roc_auc)\n",
    "plt.legend(loc='lower right')\n",
    "plt.plot([0,1],[0,1],'r--')\n",
    "plt.xlim([-0.001, 1])\n",
    "plt.ylim([0, 1.001])\n",
    "plt.ylabel('True Positive Rate')\n",
    "plt.xlabel('False Positive Rate')\n",
    "plt.show();"
   ]
  },
  {
   "cell_type": "markdown",
   "metadata": {},
   "source": [
    "Let's decide on a threshold. From the graph, it seems that if we have fpr around 20%, we can reach tpr that is close to 1."
   ]
  },
  {
   "cell_type": "code",
   "execution_count": 83,
   "metadata": {
    "collapsed": false
   },
   "outputs": [
    {
     "name": "stdout",
     "output_type": "stream",
     "text": [
      "0.939024390244\n",
      "0.198807681486\n"
     ]
    }
   ],
   "source": [
    "index = len(fpr[fpr < 0.2]) - 1\n",
    "chosenThreshold = thresholds[index]\n",
    "print(tpr[index])\n",
    "print(fpr[index])"
   ]
  }
 ],
 "metadata": {
  "kernelspec": {
   "display_name": "Python [Root]",
   "language": "python",
   "name": "Python [Root]"
  },
  "language_info": {
   "codemirror_mode": {
    "name": "ipython",
    "version": 3
   },
   "file_extension": ".py",
   "mimetype": "text/x-python",
   "name": "python",
   "nbconvert_exporter": "python",
   "pygments_lexer": "ipython3",
   "version": "3.5.2"
  }
 },
 "nbformat": 4,
 "nbformat_minor": 0
}
