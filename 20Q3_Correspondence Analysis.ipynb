{
 "cells": [
  {
   "cell_type": "code",
   "execution_count": 1,
   "metadata": {},
   "outputs": [],
   "source": [
    "# Source\n",
    "# https://codefying.com/2018/12/21/introduction-to-correspondence-analysis/\n",
    "import numpy as np\n",
    "import pandas as pd\n",
    "from scipy.stats import chi2_contingency"
   ]
  },
  {
   "cell_type": "code",
   "execution_count": 2,
   "metadata": {},
   "outputs": [],
   "source": [
    "# getting the data\n",
    "authors = [\"Charles Darwin\", \"Rene Descartes\",\"Thomas Hobbes\", \"Mary Shelley\", \"Mark Twain\"]\n",
    "initials=['CD1','CD2','CD3','RD1','RD2','RD3','TB1','TB2','TB3','MS1','MS2','MS3','MT1','MT2','MT3']\n",
    "chars=[\"B\", \"C\", \"D\", \"F\", \"G\", \"H\", \"I\", \"L\", \"M\", \"N\",\"P\", \"R\", \"S\", \"U\", \"W\", \"Y\"]"
   ]
  },
  {
   "cell_type": "code",
   "execution_count": 3,
   "metadata": {},
   "outputs": [
    {
     "data": {
      "text/plain": [
       "(15, 16)"
      ]
     },
     "execution_count": 3,
     "metadata": {},
     "output_type": "execute_result"
    }
   ],
   "source": [
    "sampleCrosstab=[[34, 37, 44, 27, 19, 39, 74, 44, 27, 61, 12, 65, 69,22, 14, 21],\n",
    "                [18, 33, 47, 24, 14, 38, 66, 41, 36,72, 15, 62, 63, 31, 12, 18],\n",
    "                [32, 43, 36, 12, 21, 51, 75, 33, 23, 60, 24, 68, 85,18, 13, 14],\n",
    "                [13, 31, 55, 29, 15, 62, 74, 43, 28,73, 8, 59, 54, 32, 19, 20],\n",
    "                [8, 28, 34, 24, 17, 68, 75, 34, 25, 70, 16, 56, 72,31, 14, 11], \n",
    "                [9, 34, 43, 25, 18, 68, 84, 25, 32, 76,14, 69, 64, 27, 11, 18],\n",
    "                [15, 20, 28, 18, 19, 65, 82, 34, 29, 89, 11, 47, 74,18, 22, 17], \n",
    "                [18, 14, 40, 25, 21, 60, 70, 15, 37,80, 15, 65, 68, 21, 25, 9],\n",
    "                [19, 18, 41, 26, 19, 58, 64, 18, 38, 78, 15, 65, 72,20, 20, 11], \n",
    "                [13, 29, 49, 31, 16, 61, 73, 36, 29,69, 13, 63, 58, 18, 20, 25],\n",
    "                [17, 34, 43, 29, 14, 62, 64, 26, 26, 71, 26, 78, 64, 21, 18, 12],\n",
    "                [13, 22, 43, 16, 11, 70, 68, 46, 35,57, 30, 71, 57, 19, 22, 20],\n",
    "                [16, 18, 56, 13, 27, 67, 61, 43, 20, 63, 14, 43, 67,34, 41, 23], \n",
    "                [15, 21, 66, 21, 19, 50, 62, 50, 24, 68, 14, 40, 58, 31, 36, 26],\n",
    "                [19, 17, 70, 12, 28, 53, 72, 39, 22, 71, 11, 40, 67,25, 41, 17]]\n",
    "df = pd.DataFrame(np.array(sampleCrosstab))\n",
    "df.shape"
   ]
  },
  {
   "cell_type": "code",
   "execution_count": 4,
   "metadata": {},
   "outputs": [
    {
     "data": {
      "text/plain": [
       "5"
      ]
     },
     "metadata": {},
     "output_type": "display_data"
    },
    {
     "data": {
      "text/plain": [
       "16"
      ]
     },
     "metadata": {},
     "output_type": "display_data"
    }
   ],
   "source": [
    "display(len(authors), len(chars))"
   ]
  },
  {
   "cell_type": "markdown",
   "metadata": {},
   "source": [
    "## Correspondent matrix = frequency"
   ]
  },
  {
   "cell_type": "code",
   "execution_count": 5,
   "metadata": {},
   "outputs": [
    {
     "name": "stdout",
     "output_type": "stream",
     "text": [
      "448.49666422103445\n",
      "(15, 16)\n"
     ]
    }
   ],
   "source": [
    "# Calculating R_square, manually\n",
    "grandTotal = np.sum(sampleCrosstab)\n",
    "correspondenceMatrix = np.divide(sampleCrosstab,grandTotal) # divide the original by grand total\n",
    "\n",
    "rowTotals = np.sum(correspondenceMatrix, axis=1)\n",
    "columnTotals = np.sum(correspondenceMatrix, axis=0)\n",
    " \n",
    "independenceModel = np.outer(rowTotals, columnTotals)\n",
    " \n",
    "#Calculate manually\n",
    "chiSquaredStatistic = grandTotal*np.sum(np.square(correspondenceMatrix-independenceModel)/independenceModel)\n",
    "print(chiSquaredStatistic)\n",
    "print(correspondenceMatrix.shape)"
   ]
  },
  {
   "cell_type": "code",
   "execution_count": 9,
   "metadata": {},
   "outputs": [
    {
     "data": {
      "text/plain": [
       "8994"
      ]
     },
     "metadata": {},
     "output_type": "display_data"
    },
    {
     "data": {
      "text/plain": [
       "(15, 16)"
      ]
     },
     "metadata": {},
     "output_type": "display_data"
    },
    {
     "data": {
      "text/plain": [
       "(15, 16)"
      ]
     },
     "metadata": {},
     "output_type": "display_data"
    }
   ],
   "source": [
    "display(grandTotal)\n",
    "display(correspondenceMatrix.shape)\n",
    "display(independenceModel.shape)"
   ]
  },
  {
   "cell_type": "code",
   "execution_count": 12,
   "metadata": {},
   "outputs": [
    {
     "name": "stdout",
     "output_type": "stream",
     "text": [
      "448.49666422103445\n",
      "0.0\n"
     ]
    }
   ],
   "source": [
    "# it turns out that we can calculate this through scipy\n",
    "statistic, prob, dof, ex = chi2_contingency(sampleCrosstab)\n",
    "print(statistic)\n",
    "print(np.round(prob, decimals=2))"
   ]
  },
  {
   "cell_type": "markdown",
   "metadata": {},
   "source": [
    "## Calculate X-square statistics"
   ]
  },
  {
   "cell_type": "markdown",
   "metadata": {},
   "source": [
    "## Check the sum of each row"
   ]
  },
  {
   "cell_type": "code",
   "execution_count": 13,
   "metadata": {},
   "outputs": [
    {
     "data": {
      "text/plain": [
       "1.0"
      ]
     },
     "execution_count": 13,
     "metadata": {},
     "output_type": "execute_result"
    }
   ],
   "source": [
    "# pre-calculate normalised rows\n",
    "# each row\n",
    "norm_correspondenceMatrix = np.divide(correspondenceMatrix,rowTotals[:, None])\n",
    "\n",
    "# Each row has a sum of 1\n",
    "np.sum(norm_correspondenceMatrix[0])"
   ]
  },
  {
   "cell_type": "code",
   "execution_count": null,
   "metadata": {},
   "outputs": [],
   "source": [
    "chiSquaredDistances = np.zeros((correspondenceMatrix.shape[0],correspondenceMatrix.shape[0]))\n",
    "norm_columnTotals = np.sum(norm_correspondenceMatrix, axis=0)\n",
    "\n",
    "# Calculate Euclidean distances per row\n",
    "for row in range(correspondenceMatrix.shape[0]):\n",
    "    chiSquaredDistances[row]=np.sqrt(np.sum(np.square(norm_correspondenceMatrix\n",
    "                                                        -norm_correspondenceMatrix[row])/columnTotals, axis=1))"
   ]
  },
  {
   "cell_type": "code",
   "execution_count": 18,
   "metadata": {},
   "outputs": [
    {
     "data": {
      "text/html": [
       "<div>\n",
       "<style scoped>\n",
       "    .dataframe tbody tr th:only-of-type {\n",
       "        vertical-align: middle;\n",
       "    }\n",
       "\n",
       "    .dataframe tbody tr th {\n",
       "        vertical-align: top;\n",
       "    }\n",
       "\n",
       "    .dataframe thead th {\n",
       "        text-align: right;\n",
       "    }\n",
       "</style>\n",
       "<table border=\"1\" class=\"dataframe\">\n",
       "  <thead>\n",
       "    <tr style=\"text-align: right;\">\n",
       "      <th></th>\n",
       "      <th>Charles Darwin_1</th>\n",
       "      <th>Charles Darwin_2</th>\n",
       "      <th>Charles Darwin_3</th>\n",
       "      <th>Rene Descartes_1</th>\n",
       "      <th>Rene Descartes_2</th>\n",
       "      <th>Rene Descartes_3</th>\n",
       "      <th>Thomas Hobbes_1</th>\n",
       "      <th>Thomas Hobbes_2</th>\n",
       "      <th>Thomas Hobbes_3</th>\n",
       "      <th>Mary Shelley_1</th>\n",
       "      <th>Mary Shelley_2</th>\n",
       "      <th>Mary Shelley_3</th>\n",
       "      <th>Mark Twain_1</th>\n",
       "      <th>Mark Twain_2</th>\n",
       "      <th>Mark Twain_3</th>\n",
       "    </tr>\n",
       "  </thead>\n",
       "  <tbody>\n",
       "    <tr>\n",
       "      <th>0</th>\n",
       "      <td>0</td>\n",
       "      <td>21</td>\n",
       "      <td>24</td>\n",
       "      <td>29</td>\n",
       "      <td>35</td>\n",
       "      <td>33</td>\n",
       "      <td>36</td>\n",
       "      <td>39</td>\n",
       "      <td>34</td>\n",
       "      <td>27</td>\n",
       "      <td>31</td>\n",
       "      <td>38</td>\n",
       "      <td>43</td>\n",
       "      <td>38</td>\n",
       "      <td>42</td>\n",
       "    </tr>\n",
       "    <tr>\n",
       "      <th>1</th>\n",
       "      <td>21</td>\n",
       "      <td>0</td>\n",
       "      <td>32</td>\n",
       "      <td>20</td>\n",
       "      <td>26</td>\n",
       "      <td>24</td>\n",
       "      <td>32</td>\n",
       "      <td>33</td>\n",
       "      <td>28</td>\n",
       "      <td>23</td>\n",
       "      <td>26</td>\n",
       "      <td>31</td>\n",
       "      <td>40</td>\n",
       "      <td>33</td>\n",
       "      <td>41</td>\n",
       "    </tr>\n",
       "    <tr>\n",
       "      <th>2</th>\n",
       "      <td>24</td>\n",
       "      <td>32</td>\n",
       "      <td>0</td>\n",
       "      <td>40</td>\n",
       "      <td>34</td>\n",
       "      <td>35</td>\n",
       "      <td>37</td>\n",
       "      <td>39</td>\n",
       "      <td>35</td>\n",
       "      <td>37</td>\n",
       "      <td>29</td>\n",
       "      <td>37</td>\n",
       "      <td>46</td>\n",
       "      <td>48</td>\n",
       "      <td>47</td>\n",
       "    </tr>\n",
       "    <tr>\n",
       "      <th>3</th>\n",
       "      <td>29</td>\n",
       "      <td>20</td>\n",
       "      <td>40</td>\n",
       "      <td>0</td>\n",
       "      <td>22</td>\n",
       "      <td>21</td>\n",
       "      <td>29</td>\n",
       "      <td>33</td>\n",
       "      <td>30</td>\n",
       "      <td>15</td>\n",
       "      <td>29</td>\n",
       "      <td>32</td>\n",
       "      <td>32</td>\n",
       "      <td>26</td>\n",
       "      <td>35</td>\n",
       "    </tr>\n",
       "    <tr>\n",
       "      <th>4</th>\n",
       "      <td>35</td>\n",
       "      <td>26</td>\n",
       "      <td>34</td>\n",
       "      <td>22</td>\n",
       "      <td>0</td>\n",
       "      <td>16</td>\n",
       "      <td>23</td>\n",
       "      <td>28</td>\n",
       "      <td>26</td>\n",
       "      <td>24</td>\n",
       "      <td>24</td>\n",
       "      <td>30</td>\n",
       "      <td>37</td>\n",
       "      <td>38</td>\n",
       "      <td>41</td>\n",
       "    </tr>\n",
       "    <tr>\n",
       "      <th>5</th>\n",
       "      <td>33</td>\n",
       "      <td>24</td>\n",
       "      <td>35</td>\n",
       "      <td>21</td>\n",
       "      <td>16</td>\n",
       "      <td>0</td>\n",
       "      <td>26</td>\n",
       "      <td>27</td>\n",
       "      <td>24</td>\n",
       "      <td>19</td>\n",
       "      <td>22</td>\n",
       "      <td>31</td>\n",
       "      <td>42</td>\n",
       "      <td>41</td>\n",
       "      <td>43</td>\n",
       "    </tr>\n",
       "    <tr>\n",
       "      <th>6</th>\n",
       "      <td>36</td>\n",
       "      <td>32</td>\n",
       "      <td>37</td>\n",
       "      <td>29</td>\n",
       "      <td>23</td>\n",
       "      <td>26</td>\n",
       "      <td>0</td>\n",
       "      <td>25</td>\n",
       "      <td>24</td>\n",
       "      <td>26</td>\n",
       "      <td>33</td>\n",
       "      <td>34</td>\n",
       "      <td>35</td>\n",
       "      <td>37</td>\n",
       "      <td>36</td>\n",
       "    </tr>\n",
       "    <tr>\n",
       "      <th>7</th>\n",
       "      <td>39</td>\n",
       "      <td>33</td>\n",
       "      <td>39</td>\n",
       "      <td>33</td>\n",
       "      <td>28</td>\n",
       "      <td>27</td>\n",
       "      <td>25</td>\n",
       "      <td>0</td>\n",
       "      <td>8</td>\n",
       "      <td>29</td>\n",
       "      <td>26</td>\n",
       "      <td>35</td>\n",
       "      <td>39</td>\n",
       "      <td>41</td>\n",
       "      <td>37</td>\n",
       "    </tr>\n",
       "    <tr>\n",
       "      <th>8</th>\n",
       "      <td>34</td>\n",
       "      <td>28</td>\n",
       "      <td>35</td>\n",
       "      <td>30</td>\n",
       "      <td>26</td>\n",
       "      <td>24</td>\n",
       "      <td>24</td>\n",
       "      <td>8</td>\n",
       "      <td>0</td>\n",
       "      <td>26</td>\n",
       "      <td>23</td>\n",
       "      <td>33</td>\n",
       "      <td>40</td>\n",
       "      <td>41</td>\n",
       "      <td>39</td>\n",
       "    </tr>\n",
       "    <tr>\n",
       "      <th>9</th>\n",
       "      <td>27</td>\n",
       "      <td>23</td>\n",
       "      <td>37</td>\n",
       "      <td>15</td>\n",
       "      <td>24</td>\n",
       "      <td>19</td>\n",
       "      <td>26</td>\n",
       "      <td>29</td>\n",
       "      <td>26</td>\n",
       "      <td>0</td>\n",
       "      <td>23</td>\n",
       "      <td>27</td>\n",
       "      <td>35</td>\n",
       "      <td>29</td>\n",
       "      <td>36</td>\n",
       "    </tr>\n",
       "    <tr>\n",
       "      <th>10</th>\n",
       "      <td>31</td>\n",
       "      <td>26</td>\n",
       "      <td>29</td>\n",
       "      <td>29</td>\n",
       "      <td>24</td>\n",
       "      <td>22</td>\n",
       "      <td>33</td>\n",
       "      <td>26</td>\n",
       "      <td>23</td>\n",
       "      <td>23</td>\n",
       "      <td>0</td>\n",
       "      <td>26</td>\n",
       "      <td>43</td>\n",
       "      <td>42</td>\n",
       "      <td>45</td>\n",
       "    </tr>\n",
       "    <tr>\n",
       "      <th>11</th>\n",
       "      <td>38</td>\n",
       "      <td>31</td>\n",
       "      <td>37</td>\n",
       "      <td>32</td>\n",
       "      <td>30</td>\n",
       "      <td>31</td>\n",
       "      <td>34</td>\n",
       "      <td>35</td>\n",
       "      <td>33</td>\n",
       "      <td>27</td>\n",
       "      <td>26</td>\n",
       "      <td>0</td>\n",
       "      <td>38</td>\n",
       "      <td>36</td>\n",
       "      <td>42</td>\n",
       "    </tr>\n",
       "    <tr>\n",
       "      <th>12</th>\n",
       "      <td>43</td>\n",
       "      <td>40</td>\n",
       "      <td>46</td>\n",
       "      <td>32</td>\n",
       "      <td>37</td>\n",
       "      <td>42</td>\n",
       "      <td>35</td>\n",
       "      <td>39</td>\n",
       "      <td>40</td>\n",
       "      <td>35</td>\n",
       "      <td>43</td>\n",
       "      <td>38</td>\n",
       "      <td>0</td>\n",
       "      <td>18</td>\n",
       "      <td>17</td>\n",
       "    </tr>\n",
       "    <tr>\n",
       "      <th>13</th>\n",
       "      <td>38</td>\n",
       "      <td>33</td>\n",
       "      <td>48</td>\n",
       "      <td>26</td>\n",
       "      <td>38</td>\n",
       "      <td>41</td>\n",
       "      <td>37</td>\n",
       "      <td>41</td>\n",
       "      <td>41</td>\n",
       "      <td>29</td>\n",
       "      <td>42</td>\n",
       "      <td>36</td>\n",
       "      <td>18</td>\n",
       "      <td>0</td>\n",
       "      <td>20</td>\n",
       "    </tr>\n",
       "    <tr>\n",
       "      <th>14</th>\n",
       "      <td>42</td>\n",
       "      <td>41</td>\n",
       "      <td>47</td>\n",
       "      <td>35</td>\n",
       "      <td>41</td>\n",
       "      <td>43</td>\n",
       "      <td>36</td>\n",
       "      <td>37</td>\n",
       "      <td>39</td>\n",
       "      <td>36</td>\n",
       "      <td>45</td>\n",
       "      <td>42</td>\n",
       "      <td>17</td>\n",
       "      <td>20</td>\n",
       "      <td>0</td>\n",
       "    </tr>\n",
       "  </tbody>\n",
       "</table>\n",
       "</div>"
      ],
      "text/plain": [
       "    Charles Darwin_1  Charles Darwin_2  Charles Darwin_3  Rene Descartes_1  \\\n",
       "0                  0                21                24                29   \n",
       "1                 21                 0                32                20   \n",
       "2                 24                32                 0                40   \n",
       "3                 29                20                40                 0   \n",
       "4                 35                26                34                22   \n",
       "5                 33                24                35                21   \n",
       "6                 36                32                37                29   \n",
       "7                 39                33                39                33   \n",
       "8                 34                28                35                30   \n",
       "9                 27                23                37                15   \n",
       "10                31                26                29                29   \n",
       "11                38                31                37                32   \n",
       "12                43                40                46                32   \n",
       "13                38                33                48                26   \n",
       "14                42                41                47                35   \n",
       "\n",
       "    Rene Descartes_2  Rene Descartes_3  Thomas Hobbes_1  Thomas Hobbes_2  \\\n",
       "0                 35                33               36               39   \n",
       "1                 26                24               32               33   \n",
       "2                 34                35               37               39   \n",
       "3                 22                21               29               33   \n",
       "4                  0                16               23               28   \n",
       "5                 16                 0               26               27   \n",
       "6                 23                26                0               25   \n",
       "7                 28                27               25                0   \n",
       "8                 26                24               24                8   \n",
       "9                 24                19               26               29   \n",
       "10                24                22               33               26   \n",
       "11                30                31               34               35   \n",
       "12                37                42               35               39   \n",
       "13                38                41               37               41   \n",
       "14                41                43               36               37   \n",
       "\n",
       "    Thomas Hobbes_3  Mary Shelley_1  Mary Shelley_2  Mary Shelley_3  \\\n",
       "0                34              27              31              38   \n",
       "1                28              23              26              31   \n",
       "2                35              37              29              37   \n",
       "3                30              15              29              32   \n",
       "4                26              24              24              30   \n",
       "5                24              19              22              31   \n",
       "6                24              26              33              34   \n",
       "7                 8              29              26              35   \n",
       "8                 0              26              23              33   \n",
       "9                26               0              23              27   \n",
       "10               23              23               0              26   \n",
       "11               33              27              26               0   \n",
       "12               40              35              43              38   \n",
       "13               41              29              42              36   \n",
       "14               39              36              45              42   \n",
       "\n",
       "    Mark Twain_1  Mark Twain_2  Mark Twain_3  \n",
       "0             43            38            42  \n",
       "1             40            33            41  \n",
       "2             46            48            47  \n",
       "3             32            26            35  \n",
       "4             37            38            41  \n",
       "5             42            41            43  \n",
       "6             35            37            36  \n",
       "7             39            41            37  \n",
       "8             40            41            39  \n",
       "9             35            29            36  \n",
       "10            43            42            45  \n",
       "11            38            36            42  \n",
       "12             0            18            17  \n",
       "13            18             0            20  \n",
       "14            17            20             0  "
      ]
     },
     "execution_count": 18,
     "metadata": {},
     "output_type": "execute_result"
    }
   ],
   "source": [
    "# Save distances to the DataFrame for easier díplay\n",
    "dfchiSquaredDistances = pd.DataFrame(data=np.round(chiSquaredDistances*100).astype(int))\n",
    "author_samples = [this_author + \"_\" + str(this_int + 1) for this_author in authors for this_int in range(3)]\n",
    "dfchiSquaredDistances.columns = author_samples\n",
    "dfchiSquaredDistances"
   ]
  },
  {
   "cell_type": "code",
   "execution_count": 20,
   "metadata": {},
   "outputs": [
    {
     "data": {
      "text/plain": [
       "470"
      ]
     },
     "metadata": {},
     "output_type": "display_data"
    },
    {
     "data": {
      "text/plain": [
       "410"
      ]
     },
     "metadata": {},
     "output_type": "display_data"
    },
    {
     "data": {
      "text/plain": [
       "520"
      ]
     },
     "metadata": {},
     "output_type": "display_data"
    }
   ],
   "source": [
    "for i in range(3):\n",
    "    display(np.sum(dfchiSquaredDistances.iloc[i,:]))"
   ]
  },
  {
   "cell_type": "markdown",
   "metadata": {},
   "source": [
    "## Standardize residuals"
   ]
  },
  {
   "cell_type": "code",
   "execution_count": 24,
   "metadata": {},
   "outputs": [
    {
     "data": {
      "text/plain": [
       "1.0"
      ]
     },
     "execution_count": 24,
     "metadata": {},
     "output_type": "execute_result"
    }
   ],
   "source": [
    "# Reminder on the definition of correspondence matrix\n",
    "#grandTotal = np.sum(sampleCrosstab)\n",
    "#correspondenceMatrix = np.divide(sampleCrosstab,grandTotal) # divide the original by grand total\n",
    "np.sum(correspondenceMatrix) # be design, the sum across all cells = 1"
   ]
  },
  {
   "cell_type": "code",
   "execution_count": 26,
   "metadata": {},
   "outputs": [
    {
     "data": {
      "text/plain": [
       "array([0.0019499 , 0.00300389, 0.00523234, 0.00249948, 0.00209294,\n",
       "       0.0065649 , 0.00801038, 0.00396755, 0.00324481, 0.00796521,\n",
       "       0.0017918 , 0.00670794, 0.00746832, 0.00277051, 0.00246937,\n",
       "       0.00197248])"
      ]
     },
     "metadata": {},
     "output_type": "display_data"
    },
    {
     "data": {
      "text/plain": [
       "0.06771180787191461"
      ]
     },
     "metadata": {},
     "output_type": "display_data"
    }
   ],
   "source": [
    "# Reminder on the definition of independence model\n",
    "# rowTotals = np.sum(correspondenceMatrix, axis=1)\n",
    "# columnTotals = np.sum(correspondenceMatrix, axis=0)\n",
    "# independenceModel = np.outer(rowTotals, columnTotals)\n",
    "display(independenceModel[0])\n",
    "display(np.sum(independenceModel[0]))"
   ]
  },
  {
   "cell_type": "code",
   "execution_count": 85,
   "metadata": {},
   "outputs": [],
   "source": [
    "standardizedResiduals = np.divide((correspondenceMatrix - independenceModel),np.sqrt(independenceModel))\n",
    " \n",
    "u,s,vh = np.linalg.svd(standardizedResiduals, full_matrices=False)"
   ]
  },
  {
   "cell_type": "markdown",
   "metadata": {},
   "source": [
    "## Check SVD\n",
    "https://numpy.org/doc/stable/reference/generated/numpy.linalg.svd.html\n",
    "$$ A = USV^H$$\n",
    "The 1D array s contains the singular values of a and u and vh are <b>unitary</b>. <br>\n",
    "\n",
    "- The rows of $V^T$ are the eigenvectors of $A^{H}A$ and\n",
    "- The columns of $U$ are the eigenvectors of $AA^{H}$."
   ]
  },
  {
   "cell_type": "code",
   "execution_count": 89,
   "metadata": {},
   "outputs": [
    {
     "name": "stdout",
     "output_type": "stream",
     "text": [
      "shape of A  (15, 16)\n",
      "shape of A  (15, 16)\n",
      "shape of U  (15, 15)\n",
      "Shape of S  15\n",
      "Why 15? Shouldn't it be 16? No. It is the smaller of row vs columns\n",
      "Shape of vh (15, 16)\n"
     ]
    }
   ],
   "source": [
    "print(\"shape of A \", correspondenceMatrix.shape)\n",
    "print(\"shape of A \", standardizedResiduals.shape)\n",
    "print(\"shape of U \", u.shape)\n",
    "print(\"Shape of S \", len(s))\n",
    "print(\"Why 15? Shouldn't it be 16? No. It is the smaller of row vs columns\")\n",
    "\n",
    "print(\"Shape of vh\", vh.shape)\n",
    "\n",
    "# Note that s is the list of the diagonal vectors, NOT a diagonal matrix"
   ]
  },
  {
   "cell_type": "code",
   "execution_count": 35,
   "metadata": {},
   "outputs": [
    {
     "data": {
      "text/plain": [
       "True"
      ]
     },
     "execution_count": 35,
     "metadata": {},
     "output_type": "execute_result"
    }
   ],
   "source": [
    "tmp = u.dot(np.diag(s)).dot(vh)\n",
    "np.allclose(tmp, standardizedResiduals)"
   ]
  },
  {
   "cell_type": "code",
   "execution_count": 39,
   "metadata": {},
   "outputs": [
    {
     "data": {
      "text/html": [
       "<div>\n",
       "<style scoped>\n",
       "    .dataframe tbody tr th:only-of-type {\n",
       "        vertical-align: middle;\n",
       "    }\n",
       "\n",
       "    .dataframe tbody tr th {\n",
       "        vertical-align: top;\n",
       "    }\n",
       "\n",
       "    .dataframe thead th {\n",
       "        text-align: right;\n",
       "    }\n",
       "</style>\n",
       "<table border=\"1\" class=\"dataframe\">\n",
       "  <thead>\n",
       "    <tr style=\"text-align: right;\">\n",
       "      <th></th>\n",
       "      <th>0</th>\n",
       "      <th>1</th>\n",
       "      <th>2</th>\n",
       "      <th>3</th>\n",
       "      <th>4</th>\n",
       "      <th>5</th>\n",
       "      <th>6</th>\n",
       "      <th>7</th>\n",
       "      <th>8</th>\n",
       "      <th>9</th>\n",
       "      <th>10</th>\n",
       "      <th>11</th>\n",
       "      <th>12</th>\n",
       "      <th>13</th>\n",
       "      <th>14</th>\n",
       "    </tr>\n",
       "  </thead>\n",
       "  <tbody>\n",
       "    <tr>\n",
       "      <th>0</th>\n",
       "      <td>-14.0</td>\n",
       "      <td>54.0</td>\n",
       "      <td>12.0</td>\n",
       "      <td>31.0</td>\n",
       "      <td>-12.0</td>\n",
       "      <td>22.0</td>\n",
       "      <td>-12.0</td>\n",
       "      <td>-30.0</td>\n",
       "      <td>26.0</td>\n",
       "      <td>-26.0</td>\n",
       "      <td>8.0</td>\n",
       "      <td>-29.0</td>\n",
       "      <td>-4.0</td>\n",
       "      <td>34.0</td>\n",
       "      <td>26.0</td>\n",
       "    </tr>\n",
       "    <tr>\n",
       "      <th>1</th>\n",
       "      <td>-12.0</td>\n",
       "      <td>25.0</td>\n",
       "      <td>-21.0</td>\n",
       "      <td>21.0</td>\n",
       "      <td>-15.0</td>\n",
       "      <td>2.0</td>\n",
       "      <td>65.0</td>\n",
       "      <td>20.0</td>\n",
       "      <td>-11.0</td>\n",
       "      <td>28.0</td>\n",
       "      <td>-8.0</td>\n",
       "      <td>-8.0</td>\n",
       "      <td>41.0</td>\n",
       "      <td>-11.0</td>\n",
       "      <td>26.0</td>\n",
       "    </tr>\n",
       "    <tr>\n",
       "      <th>2</th>\n",
       "      <td>-28.0</td>\n",
       "      <td>43.0</td>\n",
       "      <td>51.0</td>\n",
       "      <td>-17.0</td>\n",
       "      <td>27.0</td>\n",
       "      <td>-16.0</td>\n",
       "      <td>-7.0</td>\n",
       "      <td>18.0</td>\n",
       "      <td>-2.0</td>\n",
       "      <td>14.0</td>\n",
       "      <td>-1.0</td>\n",
       "      <td>26.0</td>\n",
       "      <td>-18.0</td>\n",
       "      <td>-36.0</td>\n",
       "      <td>26.0</td>\n",
       "    </tr>\n",
       "    <tr>\n",
       "      <th>3</th>\n",
       "      <td>6.0</td>\n",
       "      <td>5.0</td>\n",
       "      <td>-43.0</td>\n",
       "      <td>23.0</td>\n",
       "      <td>3.0</td>\n",
       "      <td>-11.0</td>\n",
       "      <td>-7.0</td>\n",
       "      <td>-3.0</td>\n",
       "      <td>11.0</td>\n",
       "      <td>-44.0</td>\n",
       "      <td>-45.0</td>\n",
       "      <td>43.0</td>\n",
       "      <td>-11.0</td>\n",
       "      <td>-24.0</td>\n",
       "      <td>26.0</td>\n",
       "    </tr>\n",
       "    <tr>\n",
       "      <th>4</th>\n",
       "      <td>-13.0</td>\n",
       "      <td>-18.0</td>\n",
       "      <td>-17.0</td>\n",
       "      <td>-2.0</td>\n",
       "      <td>47.0</td>\n",
       "      <td>-30.0</td>\n",
       "      <td>26.0</td>\n",
       "      <td>-29.0</td>\n",
       "      <td>-7.0</td>\n",
       "      <td>-29.0</td>\n",
       "      <td>55.0</td>\n",
       "      <td>-7.0</td>\n",
       "      <td>2.0</td>\n",
       "      <td>-4.0</td>\n",
       "      <td>25.0</td>\n",
       "    </tr>\n",
       "    <tr>\n",
       "      <th>5</th>\n",
       "      <td>-22.0</td>\n",
       "      <td>-17.0</td>\n",
       "      <td>-25.0</td>\n",
       "      <td>11.0</td>\n",
       "      <td>21.0</td>\n",
       "      <td>-23.0</td>\n",
       "      <td>-18.0</td>\n",
       "      <td>50.0</td>\n",
       "      <td>29.0</td>\n",
       "      <td>27.0</td>\n",
       "      <td>-8.0</td>\n",
       "      <td>-24.0</td>\n",
       "      <td>-24.0</td>\n",
       "      <td>34.0</td>\n",
       "      <td>26.0</td>\n",
       "    </tr>\n",
       "    <tr>\n",
       "      <th>6</th>\n",
       "      <td>-1.0</td>\n",
       "      <td>-27.0</td>\n",
       "      <td>15.0</td>\n",
       "      <td>16.0</td>\n",
       "      <td>49.0</td>\n",
       "      <td>59.0</td>\n",
       "      <td>-2.0</td>\n",
       "      <td>-8.0</td>\n",
       "      <td>-34.0</td>\n",
       "      <td>6.0</td>\n",
       "      <td>-29.0</td>\n",
       "      <td>-1.0</td>\n",
       "      <td>5.0</td>\n",
       "      <td>11.0</td>\n",
       "      <td>26.0</td>\n",
       "    </tr>\n",
       "    <tr>\n",
       "      <th>7</th>\n",
       "      <td>-10.0</td>\n",
       "      <td>-45.0</td>\n",
       "      <td>29.0</td>\n",
       "      <td>12.0</td>\n",
       "      <td>-34.0</td>\n",
       "      <td>1.0</td>\n",
       "      <td>9.0</td>\n",
       "      <td>-5.0</td>\n",
       "      <td>17.0</td>\n",
       "      <td>-12.0</td>\n",
       "      <td>-10.0</td>\n",
       "      <td>-43.0</td>\n",
       "      <td>-18.0</td>\n",
       "      <td>-48.0</td>\n",
       "      <td>25.0</td>\n",
       "    </tr>\n",
       "    <tr>\n",
       "      <th>8</th>\n",
       "      <td>-16.0</td>\n",
       "      <td>-32.0</td>\n",
       "      <td>23.0</td>\n",
       "      <td>14.0</td>\n",
       "      <td>-34.0</td>\n",
       "      <td>4.0</td>\n",
       "      <td>14.0</td>\n",
       "      <td>-9.0</td>\n",
       "      <td>13.0</td>\n",
       "      <td>13.0</td>\n",
       "      <td>22.0</td>\n",
       "      <td>62.0</td>\n",
       "      <td>-6.0</td>\n",
       "      <td>34.0</td>\n",
       "      <td>25.0</td>\n",
       "    </tr>\n",
       "    <tr>\n",
       "      <th>9</th>\n",
       "      <td>-3.0</td>\n",
       "      <td>0.0</td>\n",
       "      <td>-29.0</td>\n",
       "      <td>6.0</td>\n",
       "      <td>-13.0</td>\n",
       "      <td>22.0</td>\n",
       "      <td>-58.0</td>\n",
       "      <td>-0.0</td>\n",
       "      <td>-2.0</td>\n",
       "      <td>25.0</td>\n",
       "      <td>38.0</td>\n",
       "      <td>6.0</td>\n",
       "      <td>33.0</td>\n",
       "      <td>-35.0</td>\n",
       "      <td>26.0</td>\n",
       "    </tr>\n",
       "    <tr>\n",
       "      <th>10</th>\n",
       "      <td>-27.0</td>\n",
       "      <td>-3.0</td>\n",
       "      <td>-2.0</td>\n",
       "      <td>-28.0</td>\n",
       "      <td>-26.0</td>\n",
       "      <td>-38.0</td>\n",
       "      <td>-22.0</td>\n",
       "      <td>-26.0</td>\n",
       "      <td>-52.0</td>\n",
       "      <td>1.0</td>\n",
       "      <td>-29.0</td>\n",
       "      <td>-13.0</td>\n",
       "      <td>15.0</td>\n",
       "      <td>23.0</td>\n",
       "      <td>26.0</td>\n",
       "    </tr>\n",
       "    <tr>\n",
       "      <th>11</th>\n",
       "      <td>-6.0</td>\n",
       "      <td>1.0</td>\n",
       "      <td>-16.0</td>\n",
       "      <td>-77.0</td>\n",
       "      <td>-10.0</td>\n",
       "      <td>40.0</td>\n",
       "      <td>15.0</td>\n",
       "      <td>16.0</td>\n",
       "      <td>20.0</td>\n",
       "      <td>-24.0</td>\n",
       "      <td>1.0</td>\n",
       "      <td>-1.0</td>\n",
       "      <td>-2.0</td>\n",
       "      <td>7.0</td>\n",
       "      <td>26.0</td>\n",
       "    </tr>\n",
       "    <tr>\n",
       "      <th>12</th>\n",
       "      <td>49.0</td>\n",
       "      <td>-2.0</td>\n",
       "      <td>12.0</td>\n",
       "      <td>-18.0</td>\n",
       "      <td>18.0</td>\n",
       "      <td>-21.0</td>\n",
       "      <td>-0.0</td>\n",
       "      <td>-37.0</td>\n",
       "      <td>44.0</td>\n",
       "      <td>34.0</td>\n",
       "      <td>-23.0</td>\n",
       "      <td>-2.0</td>\n",
       "      <td>26.0</td>\n",
       "      <td>3.0</td>\n",
       "      <td>26.0</td>\n",
       "    </tr>\n",
       "    <tr>\n",
       "      <th>13</th>\n",
       "      <td>46.0</td>\n",
       "      <td>16.0</td>\n",
       "      <td>-18.0</td>\n",
       "      <td>-1.0</td>\n",
       "      <td>-14.0</td>\n",
       "      <td>5.0</td>\n",
       "      <td>10.0</td>\n",
       "      <td>-9.0</td>\n",
       "      <td>-33.0</td>\n",
       "      <td>26.0</td>\n",
       "      <td>16.0</td>\n",
       "      <td>-5.0</td>\n",
       "      <td>-64.0</td>\n",
       "      <td>-2.0</td>\n",
       "      <td>26.0</td>\n",
       "    </tr>\n",
       "    <tr>\n",
       "      <th>14</th>\n",
       "      <td>50.0</td>\n",
       "      <td>-2.0</td>\n",
       "      <td>30.0</td>\n",
       "      <td>8.0</td>\n",
       "      <td>-6.0</td>\n",
       "      <td>-15.0</td>\n",
       "      <td>-10.0</td>\n",
       "      <td>50.0</td>\n",
       "      <td>-20.0</td>\n",
       "      <td>-38.0</td>\n",
       "      <td>14.0</td>\n",
       "      <td>-3.0</td>\n",
       "      <td>27.0</td>\n",
       "      <td>14.0</td>\n",
       "      <td>26.0</td>\n",
       "    </tr>\n",
       "  </tbody>\n",
       "</table>\n",
       "</div>"
      ],
      "text/plain": [
       "       0     1     2     3     4     5     6     7     8     9    10    11  \\\n",
       "0  -14.0  54.0  12.0  31.0 -12.0  22.0 -12.0 -30.0  26.0 -26.0   8.0 -29.0   \n",
       "1  -12.0  25.0 -21.0  21.0 -15.0   2.0  65.0  20.0 -11.0  28.0  -8.0  -8.0   \n",
       "2  -28.0  43.0  51.0 -17.0  27.0 -16.0  -7.0  18.0  -2.0  14.0  -1.0  26.0   \n",
       "3    6.0   5.0 -43.0  23.0   3.0 -11.0  -7.0  -3.0  11.0 -44.0 -45.0  43.0   \n",
       "4  -13.0 -18.0 -17.0  -2.0  47.0 -30.0  26.0 -29.0  -7.0 -29.0  55.0  -7.0   \n",
       "5  -22.0 -17.0 -25.0  11.0  21.0 -23.0 -18.0  50.0  29.0  27.0  -8.0 -24.0   \n",
       "6   -1.0 -27.0  15.0  16.0  49.0  59.0  -2.0  -8.0 -34.0   6.0 -29.0  -1.0   \n",
       "7  -10.0 -45.0  29.0  12.0 -34.0   1.0   9.0  -5.0  17.0 -12.0 -10.0 -43.0   \n",
       "8  -16.0 -32.0  23.0  14.0 -34.0   4.0  14.0  -9.0  13.0  13.0  22.0  62.0   \n",
       "9   -3.0   0.0 -29.0   6.0 -13.0  22.0 -58.0  -0.0  -2.0  25.0  38.0   6.0   \n",
       "10 -27.0  -3.0  -2.0 -28.0 -26.0 -38.0 -22.0 -26.0 -52.0   1.0 -29.0 -13.0   \n",
       "11  -6.0   1.0 -16.0 -77.0 -10.0  40.0  15.0  16.0  20.0 -24.0   1.0  -1.0   \n",
       "12  49.0  -2.0  12.0 -18.0  18.0 -21.0  -0.0 -37.0  44.0  34.0 -23.0  -2.0   \n",
       "13  46.0  16.0 -18.0  -1.0 -14.0   5.0  10.0  -9.0 -33.0  26.0  16.0  -5.0   \n",
       "14  50.0  -2.0  30.0   8.0  -6.0 -15.0 -10.0  50.0 -20.0 -38.0  14.0  -3.0   \n",
       "\n",
       "      12    13    14  \n",
       "0   -4.0  34.0  26.0  \n",
       "1   41.0 -11.0  26.0  \n",
       "2  -18.0 -36.0  26.0  \n",
       "3  -11.0 -24.0  26.0  \n",
       "4    2.0  -4.0  25.0  \n",
       "5  -24.0  34.0  26.0  \n",
       "6    5.0  11.0  26.0  \n",
       "7  -18.0 -48.0  25.0  \n",
       "8   -6.0  34.0  25.0  \n",
       "9   33.0 -35.0  26.0  \n",
       "10  15.0  23.0  26.0  \n",
       "11  -2.0   7.0  26.0  \n",
       "12  26.0   3.0  26.0  \n",
       "13 -64.0  -2.0  26.0  \n",
       "14  27.0  14.0  26.0  "
      ]
     },
     "execution_count": 39,
     "metadata": {},
     "output_type": "execute_result"
    }
   ],
   "source": [
    "# U is not Upper or Lower matrix or anything\n",
    "pd.DataFrame(np.round(u*100))"
   ]
  },
  {
   "cell_type": "code",
   "execution_count": 42,
   "metadata": {},
   "outputs": [
    {
     "data": {
      "text/plain": [
       "[<matplotlib.lines.Line2D at 0x1e86f206748>]"
      ]
     },
     "execution_count": 42,
     "metadata": {},
     "output_type": "execute_result"
    },
    {
     "data": {
      "image/png": "[encoded data removed]",
      "text/plain": [
       "<Figure size 432x288 with 1 Axes>"
      ]
     },
     "metadata": {
      "needs_background": "light"
     },
     "output_type": "display_data"
    }
   ],
   "source": [
    "# Plotting the eigenvalues\n",
    "# From PCA, the eigen-values is like the the variance of the Whole A^TA\n",
    "import matplotlib.pyplot as plt\n",
    "plt.plot(range(len(s)),s)"
   ]
  },
  {
   "cell_type": "markdown",
   "metadata": {},
   "source": [
    "# Let's check the claim earlier\n",
    "The rows of $𝑉^𝑇$ are the eigenvectors of $𝐴^{𝐻}𝐴$"
   ]
  },
  {
   "cell_type": "code",
   "execution_count": 71,
   "metadata": {},
   "outputs": [
    {
     "data": {
      "text/plain": [
       "(15, 16)"
      ]
     },
     "execution_count": 71,
     "metadata": {},
     "output_type": "execute_result"
    }
   ],
   "source": [
    "# Note that standardized Residuals is not a square matrix\n",
    "standardizedResiduals.shape"
   ]
  },
  {
   "cell_type": "code",
   "execution_count": 48,
   "metadata": {},
   "outputs": [
    {
     "data": {
      "text/plain": [
       "array([-0.08440155, -0.2885937 ,  0.38556467, -0.18744171,  0.18322542,\n",
       "       -0.00945929, -0.09392943,  0.26655119, -0.16273999, -0.0356782 ,\n",
       "       -0.18016201, -0.39630954, -0.09264571,  0.16671108,  0.56619303,\n",
       "        0.19502576])"
      ]
     },
     "metadata": {},
     "output_type": "display_data"
    },
    {
     "data": {
      "text/plain": [
       "array([-0.00156842, -0.00536289,  0.00716488, -0.0034832 ,  0.00340485,\n",
       "       -0.00017578, -0.00174547,  0.00495328, -0.00302417, -0.000663  ,\n",
       "       -0.00334792, -0.00736455, -0.00172162,  0.00309796,  0.01052147,\n",
       "        0.00362413])"
      ]
     },
     "metadata": {},
     "output_type": "display_data"
    },
    {
     "data": {
      "text/plain": [
       "array([-0.00156842, -0.00536289,  0.00716488, -0.0034832 ,  0.00340485,\n",
       "       -0.00017578, -0.00174547,  0.00495328, -0.00302417, -0.000663  ,\n",
       "       -0.00334792, -0.00736455, -0.00172162,  0.00309796,  0.01052147,\n",
       "        0.00362413])"
      ]
     },
     "metadata": {},
     "output_type": "display_data"
    },
    {
     "data": {
      "text/plain": [
       "array([53.81310498, 53.81310498, 53.81310498, 53.81310498, 53.81310498,\n",
       "       53.81310498, 53.81310498, 53.81310498, 53.81310498, 53.81310498,\n",
       "       53.81310498, 53.81310498, 53.81310498, 53.81310498, 53.81310498,\n",
       "       53.81310498])"
      ]
     },
     "metadata": {},
     "output_type": "display_data"
    }
   ],
   "source": [
    "A = standardizedResiduals.copy()\n",
    "# aha is a square, symmetric matrix\n",
    "aha = A.T.dot(A)\n",
    "\n",
    "this_row = vh[0]\n",
    "display(this_row)\n",
    "tmp1 = this_row.dot(aha)\n",
    "display(tmp1)\n",
    "display(aha.dot(this_row))\n",
    "\n",
    "# All the values of tmp1 is a multiple of this_row\n",
    "# so this_row is an eigen vectors\n",
    "display(this_row / tmp1)"
   ]
  },
  {
   "cell_type": "markdown",
   "metadata": {},
   "source": [
    "We know that U.S.VH = A\n",
    "What if I use only one components"
   ]
  },
  {
   "cell_type": "code",
   "execution_count": 78,
   "metadata": {},
   "outputs": [
    {
     "data": {
      "text/plain": [
       "(16, 16)"
      ]
     },
     "metadata": {},
     "output_type": "display_data"
    },
    {
     "data": {
      "text/plain": [
       "(15, 16)"
      ]
     },
     "metadata": {},
     "output_type": "display_data"
    }
   ],
   "source": [
    "display(aha.shape)\n",
    "display(vh.shape)"
   ]
  },
  {
   "cell_type": "markdown",
   "metadata": {},
   "source": [
    "# Calculating Row scores"
   ]
  },
  {
   "cell_type": "markdown",
   "metadata": {},
   "source": [
    "$$R = \\delta_r \\cdot U \\cdot S$$\n",
    "- where $U$ and $S$ are the left singular vectors matrix and singular values on the diagonal matrix from SVD. \n",
    "- The $\\delta_{r}$ is <b>diagonal</b> matrix made of the <b>reciprocals</b> of the square roots of the row totals."
   ]
  },
  {
   "cell_type": "code",
   "execution_count": 77,
   "metadata": {},
   "outputs": [
    {
     "data": {
      "text/plain": [
       "(15, 16)"
      ]
     },
     "metadata": {},
     "output_type": "display_data"
    },
    {
     "name": "stdout",
     "output_type": "stream",
     "text": [
      "15 is the number of observations\n",
      "16 is the number of columns, equal to the length of characters list.\n"
     ]
    },
    {
     "data": {
      "text/plain": [
       "(15, 16)"
      ]
     },
     "metadata": {},
     "output_type": "display_data"
    },
    {
     "name": "stdout",
     "output_type": "stream",
     "text": [
      "Standardized residuals have the same shape as original df.\n"
     ]
    },
    {
     "data": {
      "text/plain": [
       "(15, 15)"
      ]
     },
     "metadata": {},
     "output_type": "display_data"
    }
   ],
   "source": [
    "# The original cross tab data\n",
    "display(df.shape)\n",
    "print(\"{} is the number of observations\".format(df.shape[0]))\n",
    "print(\"{} is the number of columns, equal to the length of characters list.\".format(df.shape[1], ))\n",
    "\n",
    "\n",
    "# The standardized residuals\n",
    "display(standardizedResiduals.shape)\n",
    "print(\"Standardized residuals have the same shape as original df.\")\n",
    "\n",
    "# The reconstructed rowScores\n",
    "deltaR = np.diag(np.divide(1.0,np.sqrt(rowTotals)))\n",
    "rowScores=np.dot(np.dot(deltaR,u),np.diag(s))\n",
    "display(rowScores.shape)"
   ]
  },
  {
   "cell_type": "code",
   "execution_count": 72,
   "metadata": {},
   "outputs": [
    {
     "data": {
      "text/plain": [
       "(15, 2)"
      ]
     },
     "metadata": {},
     "output_type": "display_data"
    },
    {
     "data": {
      "text/html": [
       "<div>\n",
       "<style scoped>\n",
       "    .dataframe tbody tr th:only-of-type {\n",
       "        vertical-align: middle;\n",
       "    }\n",
       "\n",
       "    .dataframe tbody tr th {\n",
       "        vertical-align: top;\n",
       "    }\n",
       "\n",
       "    .dataframe thead th {\n",
       "        text-align: right;\n",
       "    }\n",
       "</style>\n",
       "<table border=\"1\" class=\"dataframe\">\n",
       "  <thead>\n",
       "    <tr style=\"text-align: right;\">\n",
       "      <th></th>\n",
       "      <th>X</th>\n",
       "      <th>Y</th>\n",
       "    </tr>\n",
       "  </thead>\n",
       "  <tbody>\n",
       "    <tr>\n",
       "      <th>CD1</th>\n",
       "      <td>-0.070977</td>\n",
       "      <td>0.200620</td>\n",
       "    </tr>\n",
       "    <tr>\n",
       "      <th>CD2</th>\n",
       "      <td>-0.062109</td>\n",
       "      <td>0.094512</td>\n",
       "    </tr>\n",
       "    <tr>\n",
       "      <th>CD3</th>\n",
       "      <td>-0.148509</td>\n",
       "      <td>0.158889</td>\n",
       "    </tr>\n",
       "    <tr>\n",
       "      <th>RD1</th>\n",
       "      <td>0.030697</td>\n",
       "      <td>0.019028</td>\n",
       "    </tr>\n",
       "    <tr>\n",
       "      <th>RD2</th>\n",
       "      <td>-0.069552</td>\n",
       "      <td>-0.068382</td>\n",
       "    </tr>\n",
       "    <tr>\n",
       "      <th>RD3</th>\n",
       "      <td>-0.115119</td>\n",
       "      <td>-0.063805</td>\n",
       "    </tr>\n",
       "    <tr>\n",
       "      <th>TB1</th>\n",
       "      <td>-0.006890</td>\n",
       "      <td>-0.103594</td>\n",
       "    </tr>\n",
       "    <tr>\n",
       "      <th>TB2</th>\n",
       "      <td>-0.053382</td>\n",
       "      <td>-0.170423</td>\n",
       "    </tr>\n",
       "    <tr>\n",
       "      <th>TB3</th>\n",
       "      <td>-0.083822</td>\n",
       "      <td>-0.121758</td>\n",
       "    </tr>\n",
       "    <tr>\n",
       "      <th>MS1</th>\n",
       "      <td>-0.016408</td>\n",
       "      <td>0.001383</td>\n",
       "    </tr>\n",
       "    <tr>\n",
       "      <th>MS2</th>\n",
       "      <td>-0.143838</td>\n",
       "      <td>-0.010875</td>\n",
       "    </tr>\n",
       "    <tr>\n",
       "      <th>MS3</th>\n",
       "      <td>-0.029819</td>\n",
       "      <td>0.005454</td>\n",
       "    </tr>\n",
       "    <tr>\n",
       "      <th>MT1</th>\n",
       "      <td>0.256214</td>\n",
       "      <td>-0.009194</td>\n",
       "    </tr>\n",
       "    <tr>\n",
       "      <th>MT2</th>\n",
       "      <td>0.243356</td>\n",
       "      <td>0.059730</td>\n",
       "    </tr>\n",
       "    <tr>\n",
       "      <th>MT3</th>\n",
       "      <td>0.265072</td>\n",
       "      <td>-0.006179</td>\n",
       "    </tr>\n",
       "  </tbody>\n",
       "</table>\n",
       "</div>"
      ],
      "text/plain": [
       "            X         Y\n",
       "CD1 -0.070977  0.200620\n",
       "CD2 -0.062109  0.094512\n",
       "CD3 -0.148509  0.158889\n",
       "RD1  0.030697  0.019028\n",
       "RD2 -0.069552 -0.068382\n",
       "RD3 -0.115119 -0.063805\n",
       "TB1 -0.006890 -0.103594\n",
       "TB2 -0.053382 -0.170423\n",
       "TB3 -0.083822 -0.121758\n",
       "MS1 -0.016408  0.001383\n",
       "MS2 -0.143838 -0.010875\n",
       "MS3 -0.029819  0.005454\n",
       "MT1  0.256214 -0.009194\n",
       "MT2  0.243356  0.059730\n",
       "MT3  0.265072 -0.006179"
      ]
     },
     "metadata": {},
     "output_type": "display_data"
    }
   ],
   "source": [
    "dfFirstTwoComponents = pd.DataFrame(data=[l[0:2] for l in rowScores], \n",
    "                                    columns=['X', 'Y'], \n",
    "                                    index=initials)\n",
    "display(dfFirstTwoComponents.shape) \n",
    "display(dfFirstTwoComponents)"
   ]
  },
  {
   "cell_type": "markdown",
   "metadata": {},
   "source": [
    "# Note\n",
    "Almost  every matrix can be decomposed as SVD, but when you decompose the residuals matrix, I guess it should make more sense."
   ]
  },
  {
   "cell_type": "markdown",
   "metadata": {},
   "source": [
    "# Back to visualization\n",
    "entirely based on the first two components, just a lot of codes to make it look pretty"
   ]
  },
  {
   "cell_type": "code",
   "execution_count": 107,
   "metadata": {},
   "outputs": [
    {
     "data": {
      "image/png": "[encoded data removed]",
      "text/plain": [
       "<Figure size 432x288 with 1 Axes>"
      ]
     },
     "metadata": {
      "needs_background": "light"
     },
     "output_type": "display_data"
    }
   ],
   "source": [
    "color_list = []\n",
    "for this_color in ['blue','orange','red','green','purple']:\n",
    "    color_list = color_list + [this_color] * 3\n",
    "\n",
    "\n",
    "fig, ax = plt.subplots()\n",
    "ax = ax.scatter(dfFirstTwoComponents.iloc[:,0], \n",
    "                 dfFirstTwoComponents.iloc[:,1],\n",
    "               c= color_list, alpha=0.6)\n",
    "\n",
    "for i in range(len(dfFirstTwoComponents)):\n",
    "    plt.gca().annotate(dfFirstTwoComponents.index[i], \n",
    "                (dfFirstTwoComponents.iloc[i,0],\n",
    "                 dfFirstTwoComponents.iloc[i,1]))\n",
    "    \n",
    "plt.gca().spines['bottom'].set_position('zero')\n",
    "plt.gca().spines['left'].set_position('zero')\n",
    "plt.gca().spines['top'].set_visible(False)\n",
    "plt.gca().spines['right'].set_visible(False)"
   ]
  }
 ],
 "metadata": {
  "kernelspec": {
   "display_name": "Python 3",
   "language": "python",
   "name": "python3"
  },
  "language_info": {
   "codemirror_mode": {
    "name": "ipython",
    "version": 3
   },
   "file_extension": ".py",
   "mimetype": "text/x-python",
   "name": "python",
   "nbconvert_exporter": "python",
   "pygments_lexer": "ipython3",
   "version": "3.7.3"
  }
 },
 "nbformat": 4,
 "nbformat_minor": 4
}
