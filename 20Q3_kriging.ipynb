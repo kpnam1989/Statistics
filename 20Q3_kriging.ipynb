{
 "cells": [
  {
   "cell_type": "code",
   "execution_count": 11,
   "metadata": {},
   "outputs": [],
   "source": [
    "# Source: https://scikit-gstat.readthedocs.io/en/latest/userguide/kriging.html\n",
    "import numpy as np, pandas as pd\n",
    "import matplotlib.pyplot as plt\n",
    "from sklearn import metrics\n",
    "import skgstat as skg\n",
    "from scipy.spatial.distance import *"
   ]
  },
  {
   "cell_type": "code",
   "execution_count": 12,
   "metadata": {},
   "outputs": [
    {
     "data": {
      "text/plain": [
       "array([4.03112887, 0.8       , 2.70185122, 1.7       , 0.5       ,\n",
       "       4.74236228, 1.80277564, 5.09313263, 3.60555128, 3.26496554,\n",
       "       1.87882942, 1.3       , 4.16293166, 2.41867732, 1.77200451])"
      ]
     },
     "metadata": {},
     "output_type": "display_data"
    },
    {
     "data": {
      "text/plain": [
       "array([[0.        , 4.03112887, 0.8       , 2.70185122, 1.7       ,\n",
       "        0.5       ],\n",
       "       [4.03112887, 0.        , 4.74236228, 1.80277564, 5.09313263,\n",
       "        3.60555128],\n",
       "       [0.8       , 4.74236228, 0.        , 3.26496554, 1.87882942,\n",
       "        1.3       ],\n",
       "       [2.70185122, 1.80277564, 3.26496554, 0.        , 4.16293166,\n",
       "        2.41867732],\n",
       "       [1.7       , 5.09313263, 1.87882942, 4.16293166, 0.        ,\n",
       "        1.77200451],\n",
       "       [0.5       , 3.60555128, 1.3       , 2.41867732, 1.77200451,\n",
       "        0.        ]])"
      ]
     },
     "execution_count": 12,
     "metadata": {},
     "output_type": "execute_result"
    }
   ],
   "source": [
    "# Location\n",
    "x = np.array([4.0, 2.0, 4.1, 0.3, 2.0])\n",
    "y = np.array([5.5, 1.2, 3.7, 2.0, 2.5])\n",
    "\n",
    "# Observation\n",
    "z = np.array([4.2, 6.1, 0.2, 0.7, 5.2])\n",
    "s0 = [2., 2.]\n",
    "\n",
    "distance_matrix = pdist([s0] + list(zip(x,y)))\n",
    "display(distance_matrix)\n",
    "squareform(distance_matrix)"
   ]
  },
  {
   "cell_type": "code",
   "execution_count": 8,
   "metadata": {},
   "outputs": [],
   "source": [
    "# Build a variogram\n",
    "from skgstat.models import spherical\n",
    "model = lambda h: spherical(h, 7.0, 2.0, 0.0)"
   ]
  },
  {
   "cell_type": "code",
   "execution_count": 9,
   "metadata": {},
   "outputs": [
    {
     "data": {
      "text/plain": [
       "array([1.53664752, 0.34136443, 1.10043328, 0.71424781, 0.21392128])"
      ]
     },
     "execution_count": 9,
     "metadata": {},
     "output_type": "execute_result"
    }
   ],
   "source": [
    "# calculate the variogram based on the Euclidean distance\n",
    "# basically a function of the first distance between s0 and the other 5 points\n",
    "variances = model(distance_matrix[:5])\n",
    "variances"
   ]
  },
  {
   "cell_type": "code",
   "execution_count": 10,
   "metadata": {},
   "outputs": [
    {
     "data": {
      "text/plain": [
       "<matplotlib.collections.PathCollection at 0x1cbc8a29e48>"
      ]
     },
     "execution_count": 10,
     "metadata": {},
     "output_type": "execute_result"
    },
    {
     "data": {
      "image/png": "[encoded data removed]",
      "text/plain": [
       "<Figure size 432x288 with 1 Axes>"
      ]
     },
     "metadata": {
      "needs_background": "light"
     },
     "output_type": "display_data"
    }
   ],
   "source": [
    "plt.scatter(distance_matrix[:5], variances)"
   ]
  },
  {
   "cell_type": "markdown",
   "metadata": {},
   "source": [
    "Quote from the source:\n",
    "Of course we could now <b> use </b> the inverse of these semi-variances to weigh the observations, but that would <b> not be correct </b>. Remeber, that this array variances is what we want the target weights to incorporte. <br>\n",
    "At the same time, the five points among each other also have distances and therefore variances that <b> should be respected </b>. <br>\n",
    "ie:Take the first observation point s1. The associated variances γ to the other four points need to match the one just calculated. <br>\n",
    "\n",
    "so we have a system of linear equation for this."
   ]
  },
  {
   "cell_type": "code",
   "execution_count": 17,
   "metadata": {},
   "outputs": [
    {
     "name": "stdout",
     "output_type": "stream",
     "text": [
      "[[0.         1.72149133 0.75553644 1.79759369 1.40858271]\n",
      " [1.72149133 0.         1.29780001 0.78587655 0.55073761]\n",
      " [0.75553644 1.29780001 0.         1.57378236 0.9953245 ]\n",
      " [1.79759369 0.78587655 1.57378236 0.         0.74320866]\n",
      " [1.40858271 0.55073761 0.9953245  0.74320866 0.        ]]\n",
      "[1.53664752 0.34136443 1.10043328 0.71424781 0.21392128]\n",
      "(5, 5) 5\n"
     ]
    }
   ],
   "source": [
    "dists = pdist(list(zip(x,y)))\n",
    "M = squareform(model(dists))\n",
    "\n",
    "print(M)\n",
    "print(variances)\n",
    "print(M.shape, len(variances))"
   ]
  },
  {
   "cell_type": "code",
   "execution_count": 16,
   "metadata": {},
   "outputs": [
    {
     "data": {
      "text/plain": [
       "5.226267185422778"
      ]
     },
     "execution_count": 16,
     "metadata": {},
     "output_type": "execute_result"
    }
   ],
   "source": [
    "from scipy.linalg import solve\n",
    "\n",
    "# Solve the linear equation to have the weights\n",
    "a = solve(M, variances)\n",
    "\n",
    "# estimation\n",
    "z.dot(a)"
   ]
  },
  {
   "cell_type": "code",
   "execution_count": 22,
   "metadata": {},
   "outputs": [
    {
     "name": "stdout",
     "output_type": "stream",
     "text": [
      "[[0.         1.72149133 0.75553644 1.79759369 1.40858271 1.        ]\n",
      " [1.72149133 0.         1.29780001 0.78587655 0.55073761 1.        ]\n",
      " [0.75553644 1.29780001 0.         1.57378236 0.9953245  1.        ]\n",
      " [1.79759369 0.78587655 1.57378236 0.         0.74320866 1.        ]\n",
      " [1.40858271 0.55073761 0.9953245  0.74320866 0.         1.        ]\n",
      " [1.         1.         1.         1.         1.         0.        ]]\n",
      "[1.53664752 0.34136443 1.10043328 0.71424781 0.21392128 1.        ]\n"
     ]
    }
   ],
   "source": [
    "# However, we want to add another constraint: \n",
    "# the weight needs to sum to 1\n",
    "\n",
    "B = np.concatenate((variances, [1]))\n",
    "M = squareform(model(dists))\n",
    "M = np.concatenate((M, [[1, 1, 1, 1, 1]]), axis=0)\n",
    "M = np.concatenate((M, [[1], [1], [1], [1], [1], [0]]), axis=1)\n",
    "print(M)\n",
    "print(B)\n",
    "weights = solve(M, B)"
   ]
  },
  {
   "cell_type": "code",
   "execution_count": 23,
   "metadata": {},
   "outputs": [
    {
     "name": "stdout",
     "output_type": "stream",
     "text": [
      "New weights [-0.01711142  0.36476979  0.01998039  0.0405826   0.59177864]\n"
     ]
    }
   ],
   "source": [
    "# Getting rid of the last calculated value\n",
    "print(\"New weights\", weights[:-1])"
   ]
  },
  {
   "cell_type": "code",
   "execution_count": 25,
   "metadata": {},
   "outputs": [
    {
     "name": "stdout",
     "output_type": "stream",
     "text": [
      "New estimation:  5.2628805787423785\n"
     ]
    }
   ],
   "source": [
    "print(\"New estimation: \", z.dot(weights[:-1]))"
   ]
  },
  {
   "cell_type": "markdown",
   "metadata": {},
   "source": [
    "In the last step, we introduced a factor μ. It was needed to solve the linear equation system while assuring that the weights sum up to one. <br>\n",
    "ie, it is the <b> Lagrange Multipler</b> of an optimization problem <br>\n",
    "This factor can in turn be <b>added</b> to the weighted target semi-variances used to build the equation system, to obtain the <b> Kriging error </b> (likely some kind of fitting error)."
   ]
  },
  {
   "cell_type": "code",
   "execution_count": 29,
   "metadata": {},
   "outputs": [
    {
     "data": {
      "text/plain": [
       "array([ 0.00000000e+00,  1.11022302e-16,  0.00000000e+00,  0.00000000e+00,\n",
       "       -2.77555756e-17,  0.00000000e+00])"
      ]
     },
     "metadata": {},
     "output_type": "display_data"
    },
    {
     "data": {
      "text/plain": [
       "array([-0.02629423,  0.12451943,  0.02198709,  0.02898604,  0.12659405])"
      ]
     },
     "metadata": {},
     "output_type": "display_data"
    }
   ],
   "source": [
    "display(M.dot(weights) - B)\n",
    "display(B[:-1] * weights[:-1])"
   ]
  },
  {
   "cell_type": "markdown",
   "metadata": {},
   "source": [
    "The Kriging error of this particular point. A Higher error => more uncertainty"
   ]
  },
  {
   "cell_type": "code",
   "execution_count": 30,
   "metadata": {},
   "outputs": [
    {
     "data": {
      "text/plain": [
       "0.2628757539286831"
      ]
     },
     "execution_count": 30,
     "metadata": {},
     "output_type": "execute_result"
    }
   ],
   "source": [
    "sum(B[:-1] * weights[:-1]) + weights[-1]"
   ]
  },
  {
   "cell_type": "markdown",
   "metadata": {},
   "source": [
    "if $ weight = 0 $ => no randomness. This point is a linear interpolation of the other point"
   ]
  }
 ],
 "metadata": {
  "kernelspec": {
   "display_name": "Python [conda env:root] *",
   "language": "python",
   "name": "conda-root-py"
  },
  "language_info": {
   "codemirror_mode": {
    "name": "ipython",
    "version": 3
   },
   "file_extension": ".py",
   "mimetype": "text/x-python",
   "name": "python",
   "nbconvert_exporter": "python",
   "pygments_lexer": "ipython3",
   "version": "3.7.3"
  }
 },
 "nbformat": 4,
 "nbformat_minor": 4
}
