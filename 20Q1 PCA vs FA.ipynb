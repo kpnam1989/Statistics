{
 "cells": [
  {
   "cell_type": "code",
   "execution_count": 5,
   "metadata": {},
   "outputs": [],
   "source": [
    "# Source\n",
    "# https://scikit-learn.org/stable/auto_examples/decomposition/plot_pca_vs_fa_model_selection.html#sphx-glr-auto-examples-decomposition-plot-pca-vs-fa-model-selection-py\n",
    "\n",
    "import numpy as np\n",
    "import matplotlib.pyplot as plt\n",
    "from scipy import linalg\n",
    "\n",
    "from sklearn.decomposition import PCA, FactorAnalysis\n",
    "from sklearn.covariance import ShrunkCovariance, LedoitWolf\n",
    "from sklearn.model_selection import cross_val_score\n",
    "from sklearn.model_selection import GridSearchCV"
   ]
  },
  {
   "cell_type": "markdown",
   "metadata": {},
   "source": [
    "Generate data"
   ]
  },
  {
   "cell_type": "code",
   "execution_count": 6,
   "metadata": {},
   "outputs": [
    {
     "data": {
      "text/plain": [
       "(1000, 50)"
      ]
     },
     "execution_count": 6,
     "metadata": {},
     "output_type": "execute_result"
    }
   ],
   "source": [
    "n_samples, n_features, rank = 1000, 50, 10\n",
    "sigma = 1.\n",
    "rng = np.random.RandomState(42)\n",
    "\n",
    "# U, V are orthogonal matrix\n",
    "# can only perform svd based on a square matrix\n",
    "U,Eigen, V = linalg.svd(rng.randn(n_features, n_features))\n",
    "\n",
    "# X is generated using 10\n",
    "X = np.dot(rng.randn(n_samples, rank), U[:, :rank].T)\n",
    "X.shape # (n_samples * rank) * ( rank * n_features)"
   ]
  },
  {
   "cell_type": "code",
   "execution_count": 7,
   "metadata": {},
   "outputs": [
    {
     "name": "stdout",
     "output_type": "stream",
     "text": [
      "(50, 50) (50, 50)\n",
      "False\n",
      "False\n",
      "True\n",
      "True\n",
      "True\n",
      "True\n"
     ]
    }
   ],
   "source": [
    "print(U.shape, V.shape)\n",
    "# Check Random\n",
    "print(np.allclose(U, U.T))\n",
    "print(np.allclose(V, V.T))\n",
    "print(np.allclose(0.0, np.sum(U[:,0]*U[:,1]))) # check orthogonal\n",
    "print(np.allclose(1.0, np.sum(U[:,0]*U[:,0]))) # check length =1 \n",
    "\n",
    "tmp = np.dot(U.T, U)\n",
    "print(np.allclose(tmp, np.identity(len(tmp)))) # check idempotent\n",
    "# The inverse is the transpose\n",
    "\n",
    "tmp = np.dot(V.T, V)\n",
    "print(np.allclose(tmp, np.identity(len(tmp)))) # check idempotent\n",
    "# The inverse is the transpose"
   ]
  },
  {
   "cell_type": "code",
   "execution_count": 8,
   "metadata": {},
   "outputs": [
    {
     "data": {
      "text/plain": [
       "(1000, 50)"
      ]
     },
     "metadata": {},
     "output_type": "display_data"
    },
    {
     "data": {
      "text/plain": [
       "array([[ 0.34701604, -0.01675572,  0.04559079, ..., -0.02386514,\n",
       "         0.04174825,  0.14968296],\n",
       "       [-0.01675572,  0.12993346,  0.02230369, ...,  0.06488564,\n",
       "        -0.09364157, -0.01490318],\n",
       "       [ 0.04559079,  0.02230369,  0.33195661, ...,  0.02123722,\n",
       "        -0.04636316,  0.04260047],\n",
       "       ...,\n",
       "       [-0.02386514,  0.06488564,  0.02123722, ...,  0.18253529,\n",
       "        -0.06566432,  0.02417432],\n",
       "       [ 0.04174825, -0.09364157, -0.04636316, ..., -0.06566432,\n",
       "         0.12184334, -0.01045608],\n",
       "       [ 0.14968296, -0.01490318,  0.04260047, ...,  0.02417432,\n",
       "        -0.01045608,  0.13794554]])"
      ]
     },
     "metadata": {},
     "output_type": "display_data"
    }
   ],
   "source": [
    "display(X.shape)\n",
    "display(np.cov(X))"
   ]
  },
  {
   "cell_type": "code",
   "execution_count": 9,
   "metadata": {},
   "outputs": [
    {
     "data": {
      "text/plain": [
       "(50,)"
      ]
     },
     "metadata": {},
     "output_type": "display_data"
    }
   ],
   "source": [
    "# Adding heteroscedastic noise\n",
    "# the variance is different according to different feature\n",
    "sigmas = 1.5 * sigma * rng.rand(n_features)\n",
    "# sigmas = sigma * rng.rand(n_features) + sigma/2.\n",
    "# Note: sigmas is only one row. This is not dot multiplication\n",
    "# np will broadcast sigma across multiple rows\n",
    "X_hetero = X + rng.randn(n_samples, n_features) * sigmas\n",
    "display(sigmas.shape)"
   ]
  },
  {
   "cell_type": "code",
   "execution_count": 10,
   "metadata": {},
   "outputs": [
    {
     "data": {
      "text/plain": [
       "(1000, 50)"
      ]
     },
     "metadata": {},
     "output_type": "display_data"
    },
    {
     "data": {
      "text/plain": [
       "array([[ 0.99168318,  0.07589368,  0.15494171, ...,  0.1803387 ,\n",
       "         0.1055484 ,  0.43011611],\n",
       "       [ 0.07589368,  1.61943577, -0.0032002 , ..., -0.05462463,\n",
       "         0.17316151,  0.12637941],\n",
       "       [ 0.15494171, -0.0032002 ,  1.45390162, ...,  0.1736414 ,\n",
       "         0.26899809,  0.04540163],\n",
       "       ...,\n",
       "       [ 0.1803387 , -0.05462463,  0.1736414 , ...,  1.0306521 ,\n",
       "         0.09036488,  0.13504893],\n",
       "       [ 0.1055484 ,  0.17316151,  0.26899809, ...,  0.09036488,\n",
       "         0.90561232,  0.0883819 ],\n",
       "       [ 0.43011611,  0.12637941,  0.04540163, ...,  0.13504893,\n",
       "         0.0883819 ,  0.97734624]])"
      ]
     },
     "metadata": {},
     "output_type": "display_data"
    }
   ],
   "source": [
    "# Adding homoscedastic noise\n",
    "X_homo = X + sigma * rng.randn(n_samples, n_features)\n",
    "\n",
    "# this is equivalent to:\n",
    "X_homo2 = X + rng.randn(n_samples, n_features) * ([sigma] * n_features)\n",
    "display(X_homo.shape)\n",
    "display(np.cov(X_homo))"
   ]
  },
  {
   "cell_type": "code",
   "execution_count": 11,
   "metadata": {},
   "outputs": [],
   "source": [
    "# n_components is: 5,10, 15, ...\n",
    "n_components = np.arange(0, n_features, 5)  # options for n_components\n",
    "\n",
    "\n",
    "def compute_scores(X):\n",
    "    '''\n",
    "    using PCA and Factor analysis for cross validation\n",
    "    using function cross_validation_score\n",
    "    '''\n",
    "    pca = PCA(svd_solver='full')\n",
    "    fa = FactorAnalysis()\n",
    "\n",
    "    pca_scores, fa_scores = [], []\n",
    "    for n in n_components:\n",
    "        pca.n_components = n\n",
    "        fa.n_components = n\n",
    "        pca_scores.append(np.mean(cross_val_score(pca, X,cv=5)))\n",
    "        fa_scores.append(np.mean(cross_val_score(fa, X, cv=5)))\n",
    "\n",
    "    return pca_scores, fa_scores\n",
    "\n",
    "def shrunk_cov_score(X):\n",
    "    shrinkages = np.logspace(-2, 0, 30)\n",
    "    cv = GridSearchCV(ShrunkCovariance(), {'shrinkage': shrinkages})\n",
    "    return np.mean(cross_val_score(cv.fit(X).best_estimator_, X, cv=5))\n",
    "\n",
    "\n",
    "def lw_score(X):\n",
    "    return np.mean(cross_val_score(LedoitWolf(), X))"
   ]
  },
  {
   "cell_type": "code",
   "execution_count": 12,
   "metadata": {},
   "outputs": [
    {
     "data": {
      "text/plain": [
       "PCA(copy=True, iterated_power='auto', n_components=3, random_state=None,\n",
       "    svd_solver='full', tol=0.0, whiten=False)"
      ]
     },
     "execution_count": 12,
     "metadata": {},
     "output_type": "execute_result"
    }
   ],
   "source": [
    "#  Test the cross_val_score\n",
    "pca = PCA(svd_solver='full')\n",
    "pca.n_components = 3\n",
    "pca.fit(X_homo)"
   ]
  },
  {
   "cell_type": "code",
   "execution_count": 13,
   "metadata": {},
   "outputs": [
    {
     "data": {
      "text/plain": [
       "array([-75.37156775, -75.50039677, -74.79789461])"
      ]
     },
     "execution_count": 13,
     "metadata": {},
     "output_type": "execute_result"
    }
   ],
   "source": [
    "# Likely the score is taken from here:\n",
    "# https://rdrr.io/bioc/pcaMethods/man/Q2.html\n",
    "cross_val_score(pca, X_homo, cv=3)"
   ]
  },
  {
   "cell_type": "code",
   "execution_count": 14,
   "metadata": {},
   "outputs": [
    {
     "data": {
      "text/plain": [
       "(1000, 50)"
      ]
     },
     "execution_count": 14,
     "metadata": {},
     "output_type": "execute_result"
    }
   ],
   "source": [
    "X_homo.shape"
   ]
  },
  {
   "cell_type": "markdown",
   "metadata": {},
   "source": [
    "# Print out the score of each fold"
   ]
  },
  {
   "cell_type": "code",
   "execution_count": 15,
   "metadata": {},
   "outputs": [
    {
     "name": "stdout",
     "output_type": "stream",
     "text": [
      "[-74.41992831 -75.35878047 -74.6755041  -74.30186295 -74.09197609]\n",
      "[-75.00605902 -76.0467178  -75.31542054 -74.6462431  -74.70284458]\n"
     ]
    }
   ],
   "source": [
    "# Simple test\n",
    "pca_3 = PCA(svd_solver='full')\n",
    "pca_3.n_components = 10\n",
    "\n",
    "pca_5 = PCA(svd_solver='full')\n",
    "pca_5.n_components = 50\n",
    "\n",
    "# Not too much difference. What does this mean?\n",
    "print(cross_val_score(pca_3, X_homo, cv=5))\n",
    "print(cross_val_score(pca_5, X_homo, cv=5))"
   ]
  },
  {
   "cell_type": "code",
   "execution_count": 16,
   "metadata": {},
   "outputs": [
    {
     "name": "stdout",
     "output_type": "stream",
     "text": [
      "Using Homoscedastic Noise\n",
      "best n_components by PCA CV = 10\n",
      "best n_components by FactorAnalysis CV = 10\n",
      "best n_components by PCA MLE = 10\n",
      "Using Heteroscedastic Noise\n",
      "best n_components by PCA CV = 45\n",
      "best n_components by FactorAnalysis CV = 10\n",
      "best n_components by PCA MLE = 49\n"
     ]
    },
    {
     "data": {
      "image/png": "[encoded data removed]",
      "text/plain": [
       "<Figure size 432x288 with 1 Axes>"
      ]
     },
     "metadata": {
      "needs_background": "light"
     },
     "output_type": "display_data"
    },
    {
     "data": {
      "image/png": "[encoded data removed]",
      "text/plain": [
       "<Figure size 432x288 with 1 Axes>"
      ]
     },
     "metadata": {
      "needs_background": "light"
     },
     "output_type": "display_data"
    }
   ],
   "source": [
    "for X, title in [(X_homo, 'Homoscedastic Noise'),\n",
    "                 (X_hetero, 'Heteroscedastic Noise')]:\n",
    "    # compute scores of each model using multiple choices of n_components\n",
    "    pca_scores, fa_scores = compute_scores(X)\n",
    "    \n",
    "    # Take the best components\n",
    "    n_components_pca = n_components[np.argmax(pca_scores)]\n",
    "    n_components_fa = n_components[np.argmax(fa_scores)]\n",
    "    \n",
    "    # Alternatively: guessing n_components using mle\n",
    "    pca = PCA(svd_solver='full', n_components='mle')\n",
    "    pca.fit(X)\n",
    "    n_components_pca_mle = pca.n_components_\n",
    "\n",
    "    print(\"Using %s\"% title)\n",
    "    print(\"best n_components by PCA CV = %d\" % n_components_pca)\n",
    "    print(\"best n_components by FactorAnalysis CV = %d\" % n_components_fa)\n",
    "    print(\"best n_components by PCA MLE = %d\" % n_components_pca_mle)\n",
    "\n",
    "    plt.figure()\n",
    "    plt.plot(n_components, pca_scores, 'b', label='PCA scores')\n",
    "    plt.plot(n_components, fa_scores, 'r', label='FA scores')\n",
    "    plt.axvline(rank, color='g', label='TRUTH: %d' % rank, linestyle='-')\n",
    "    plt.axvline(n_components_pca, color='b',\n",
    "                label='PCA CV: %d' % n_components_pca, linestyle='--')\n",
    "    plt.axvline(n_components_fa, color='r',\n",
    "                label='FactorAnalysis CV: %d' % n_components_fa,\n",
    "                linestyle='--')\n",
    "    plt.axvline(n_components_pca_mle, color='k',\n",
    "                label='PCA MLE: %d' % n_components_pca_mle, linestyle='--')\n",
    "\n",
    "    # compare with other covariance estimators\n",
    "    plt.axhline(shrunk_cov_score(X), color='violet',\n",
    "                label='Shrunk Covariance MLE', linestyle='-.')\n",
    "    plt.axhline(lw_score(X), color='orange',\n",
    "                label='LedoitWolf MLE' % n_components_pca_mle, linestyle='-.')\n",
    "\n",
    "    plt.xlabel('nb of components')\n",
    "    plt.ylabel('CV scores')\n",
    "    plt.legend(loc='lower right')\n",
    "    plt.title(title)\n",
    "\n",
    "plt.show()"
   ]
  },
  {
   "cell_type": "code",
   "execution_count": 17,
   "metadata": {},
   "outputs": [],
   "source": [
    "# For more info on Shrinkage Covariance\n",
    "# https://scikit-learn.org/stable/auto_examples/covariance/plot_covariance_estimation.html#sphx-glr-auto-examples-covariance-plot-covariance-estimation-py"
   ]
  }
 ],
 "metadata": {
  "kernelspec": {
   "display_name": "Python 3",
   "language": "python",
   "name": "python3"
  },
  "language_info": {
   "codemirror_mode": {
    "name": "ipython",
    "version": 3
   },
   "file_extension": ".py",
   "mimetype": "text/x-python",
   "name": "python",
   "nbconvert_exporter": "python",
   "pygments_lexer": "ipython3",
   "version": "3.7.3"
  }
 },
 "nbformat": 4,
 "nbformat_minor": 2
}
